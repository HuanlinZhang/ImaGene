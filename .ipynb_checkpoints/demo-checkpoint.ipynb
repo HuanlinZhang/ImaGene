{
 "cells": [
  {
   "cell_type": "markdown",
   "metadata": {},
   "source": [
    "# Tutorial"
   ]
  },
  {
   "cell_type": "markdown",
   "metadata": {},
   "source": [
    "Simulate genes under various levels of selection coefficient, with different demographic models (1,2,3-epoch) and with selection time between 15kya and 25 kya. Each scenario is run 3 times."
   ]
  },
  {
   "cell_type": "code",
   "execution_count": null,
   "metadata": {},
   "outputs": [],
   "source": [
    "# bash generate_training_data.sh"
   ]
  },
  {
   "cell_type": "code",
   "execution_count": null,
   "metadata": {},
   "outputs": [],
   "source": [
    "import os\n",
    "import gzip\n",
    "\n",
    "import numpy as np\n",
    "import scipy.stats\n",
    "\n",
    "import skimage.transform\n",
    "from keras import models, layers, optimizers, regularizers\n",
    "from keras.utils import to_categorical, plot_model\n",
    "\n",
    "import matplotlib.pyplot as plt\n",
    "import pymc3\n",
    "import pydot"
   ]
  },
  {
   "cell_type": "code",
   "execution_count": null,
   "metadata": {},
   "outputs": [],
   "source": [
    "%run -i ImaGene.py"
   ]
  },
  {
   "cell_type": "markdown",
   "metadata": {},
   "source": [
    "For the first analysis, we seek to understand the impact of sorting images on the quantification. \n",
    "We use 1-epoch model for this first analysis.\n",
    "Results will be visualised by linear regression plots."
   ]
  },
  {
   "cell_type": "markdown",
   "metadata": {},
   "source": [
    "Read simulations and store in object."
   ]
  },
  {
   "cell_type": "code",
   "execution_count": null,
   "metadata": {},
   "outputs": [],
   "source": [
    "myfile = ImaFile(simulations_folder='/home/mfumagal/Data/ImaGene/Simulations1.Epoch1', nr_samples=128, model_name='Marth-1epoch-CEU')"
   ]
  },
  {
   "cell_type": "code",
   "execution_count": null,
   "metadata": {},
   "outputs": [],
   "source": [
    "import time\n",
    "localtime = time.localtime(time.time())\n",
    "print(\"Local current time :\", localtime)\n",
    "localtime = time.localtime(time.time())\n",
    "print(\"Local current time :\", localtime)"
   ]
  },
  {
   "cell_type": "code",
   "execution_count": null,
   "metadata": {},
   "outputs": [],
   "source": [
    "mypop = myfile.read_simulations(parameter_name='selection_coeff_hetero')"
   ]
  },
  {
   "cell_type": "markdown",
   "metadata": {},
   "source": [
    "(optional) Save description of files in .json file"
   ]
  },
  {
   "cell_type": "code",
   "execution_count": null,
   "metadata": {},
   "outputs": [],
   "source": [
    "import json\n",
    "\n",
    "with open('/home/mfumagal/Data/ImaGene/simulations_Epoch1.json', 'w') as fp:\n",
    "    json.dump(mypop.description, fp, sort_keys=True, allow_nan=False, indent=0)"
   ]
  },
  {
   "cell_type": "markdown",
   "metadata": {},
   "source": [
    "(optional) Save the original data object."
   ]
  },
  {
   "cell_type": "code",
   "execution_count": null,
   "metadata": {},
   "outputs": [],
   "source": [
    "import _pickle as pickle"
   ]
  },
  {
   "cell_type": "code",
   "execution_count": null,
   "metadata": {},
   "outputs": [],
   "source": [
    "# to save\n",
    "#os.mkdir('/home/mfumagal/Data/ImaGene/Sorting_effect_Epoch1')\n",
    "with open('/home/mfumagal/Data/ImaGene/Sorting_effect_Epoch1/mypop','wb') as fp:\n",
    "    pickle.dump(mypop, fp)"
   ]
  },
  {
   "cell_type": "code",
   "execution_count": null,
   "metadata": {},
   "outputs": [],
   "source": [
    "# to load:\n",
    "with open('/home/mfumagal/Data/ImaGene/Sorting_effect_Epoch1/mypop','rb') as fp:\n",
    "    mypop = pickle.load(fp)"
   ]
  },
  {
   "cell_type": "markdown",
   "metadata": {},
   "source": [
    "Explore the object."
   ]
  },
  {
   "cell_type": "code",
   "execution_count": null,
   "metadata": {},
   "outputs": [],
   "source": [
    "mypop.summary()"
   ]
  },
  {
   "cell_type": "code",
   "execution_count": null,
   "metadata": {},
   "outputs": [],
   "source": [
    "print(len(mypop.data))\n",
    "print(mypop.data[0].shape)\n",
    "print(mypop.data[0].dtype)"
   ]
  },
  {
   "cell_type": "markdown",
   "metadata": {},
   "source": [
    "Plot one image for no selection, at 1% and at 2%"
   ]
  },
  {
   "cell_type": "code",
   "execution_count": null,
   "metadata": {},
   "outputs": [],
   "source": [
    "mypop.plot(0)\n",
    "print(mypop.description[0])"
   ]
  },
  {
   "cell_type": "code",
   "execution_count": null,
   "metadata": {},
   "outputs": [],
   "source": [
    "idx = np.where(mypop.target==0)[0][0]\n",
    "mypop.plot(idx)\n",
    "print(mypop.description[idx])\n",
    "mypop.data[idx].shape"
   ]
  },
  {
   "cell_type": "code",
   "execution_count": null,
   "metadata": {},
   "outputs": [],
   "source": [
    "idx = np.where(mypop.target==400)[0][0]\n",
    "mypop.plot(idx)\n",
    "print(mypop.description[idx])\n",
    "mypop.data[idx].shape"
   ]
  },
  {
   "cell_type": "markdown",
   "metadata": {},
   "source": [
    "Switch to major/minor allele polarisation."
   ]
  },
  {
   "cell_type": "code",
   "execution_count": null,
   "metadata": {},
   "outputs": [],
   "source": [
    "mypop.majorminor()\n",
    "mypop.plot(0)"
   ]
  },
  {
   "cell_type": "code",
   "execution_count": null,
   "metadata": {},
   "outputs": [],
   "source": [
    "# optional\n",
    "with open('/home/mfumagal/Data/ImaGene/Sorting_effect_Epoch1/mypop_majorminor','wb') as fp:\n",
    "    pickle.dump(mypop, fp)"
   ]
  },
  {
   "cell_type": "markdown",
   "metadata": {},
   "source": [
    "Filter out rare variants."
   ]
  },
  {
   "cell_type": "code",
   "execution_count": null,
   "metadata": {},
   "outputs": [],
   "source": [
    "mypop.filter_freq(0.01)\n",
    "mypop.plot(0)\n",
    "mypop.data[0].shape"
   ]
  },
  {
   "cell_type": "code",
   "execution_count": null,
   "metadata": {},
   "outputs": [],
   "source": [
    "mypop.summary()"
   ]
  },
  {
   "cell_type": "code",
   "execution_count": null,
   "metadata": {},
   "outputs": [],
   "source": [
    "# optional\n",
    "with open('/home/mfumagal/Data/ImaGene/Sorting_effect_Epoch1/mypop_majorminor_filtered','wb') as fp:\n",
    "    pickle.dump(mypop, fp)"
   ]
  },
  {
   "cell_type": "markdown",
   "metadata": {},
   "source": [
    "Sort images using different orderings.\n",
    "Then resize to same dimensions 128x128.\n",
    "Then convert them to float numpy arrays and shuffle using the same order."
   ]
  },
  {
   "cell_type": "code",
   "execution_count": null,
   "metadata": {},
   "outputs": [],
   "source": [
    "shuffle_index = np.random.permutation(len(mypop.data))"
   ]
  },
  {
   "cell_type": "code",
   "execution_count": null,
   "metadata": {},
   "outputs": [],
   "source": [
    "## NONE\n",
    "# load fresh object\n",
    "with open('/home/mfumagal/Data/ImaGene/Sorting_effect_Epoch1/mypop_majorminor_filtered','rb') as fp:\n",
    "    mypop = pickle.load(fp)\n",
    "# sort and resize\n",
    "mypop.resize((128, 128))\n",
    "mypop.plot(0)\n",
    "# convert and shuffle\n",
    "mypop.convert()\n",
    "mypop.shuffle(shuffle_index)\n",
    "# save\n",
    "with open('/home/mfumagal/Data/ImaGene/Sorting_effect_Epoch1/mypop_majorminor_filtered_sortednone','wb') as fp:\n",
    "    pickle.dump(mypop, fp)"
   ]
  },
  {
   "cell_type": "code",
   "execution_count": null,
   "metadata": {},
   "outputs": [],
   "source": [
    "## ROWS FREQ\n",
    "# load fresh object\n",
    "with open('/home/mfumagal/Data/ImaGene/Sorting_effect_Epoch1/mypop_majorminor_filtered','rb') as fp:\n",
    "    mypop = pickle.load(fp)\n",
    "# sort and resize\n",
    "mypop.sort('rows_freq')\n",
    "mypop.resize((128, 128))\n",
    "mypop.plot(0)\n",
    "# convert and shuffle\n",
    "mypop.convert()\n",
    "mypop.shuffle(shuffle_index)\n",
    "# save\n",
    "with open('/home/mfumagal/Data/ImaGene/Sorting_effect_Epoch1/mypop_majorminor_filtered_sortedrowsfreq','wb') as fp:\n",
    "    pickle.dump(mypop, fp)"
   ]
  },
  {
   "cell_type": "code",
   "execution_count": null,
   "metadata": {},
   "outputs": [],
   "source": [
    "## COLS FREQ\n",
    "# load fresh object\n",
    "with open('/home/mfumagal/Data/ImaGene/Sorting_effect_Epoch1/mypop_majorminor_filtered','rb') as fp:\n",
    "    mypop = pickle.load(fp)\n",
    "# sort and resize\n",
    "mypop.sort('cols_freq')\n",
    "mypop.resize((128, 128))\n",
    "mypop.plot(0)\n",
    "# convert and shuffle\n",
    "mypop.convert()\n",
    "mypop.shuffle(shuffle_index)\n",
    "# save\n",
    "with open('/home/mfumagal/Data/ImaGene/Sorting_effect_Epoch1/mypop_majorminor_filtered_sortedcolsfreq','wb') as fp:\n",
    "    pickle.dump(mypop, fp)"
   ]
  },
  {
   "cell_type": "code",
   "execution_count": null,
   "metadata": {},
   "outputs": [],
   "source": [
    "## ROWS+COLS FREQ\n",
    "# load fresh object\n",
    "with open('/home/mfumagal/Data/ImaGene/Sorting_effect_Epoch1/mypop_majorminor_filtered','rb') as fp:\n",
    "    mypop = pickle.load(fp)\n",
    "# sort and resize\n",
    "mypop.sort('rows_freq')\n",
    "mypop.sort('cols_freq')\n",
    "mypop.resize((128, 128))\n",
    "mypop.plot(0)\n",
    "# convert and shuffle\n",
    "mypop.convert()\n",
    "mypop.shuffle(shuffle_index)\n",
    "# save\n",
    "with open('/home/mfumagal/Data/ImaGene/Sorting_effect_Epoch1/mypop_majorminor_filtered_sortedrowscolsfreq','wb') as fp:\n",
    "    pickle.dump(mypop, fp)"
   ]
  },
  {
   "cell_type": "code",
   "execution_count": null,
   "metadata": {},
   "outputs": [],
   "source": [
    "## ROWS+COLS DISTANCE\n",
    "# load fresh object\n",
    "with open('/home/mfumagal/Data/ImaGene/Sorting_effect_Epoch1/mypop_majorminor_filtered','rb') as fp:\n",
    "    mypop = pickle.load(fp)\n",
    "# sort and resize\n",
    "mypop.sort('rows_distance_top')\n",
    "mypop.sort('cols_distance_top')\n",
    "mypop.resize((128, 128))\n",
    "mypop.plot(0)\n",
    "# convert and shuffle\n",
    "mypop.convert()\n",
    "mypop.shuffle(shuffle_index)\n",
    "# save\n",
    "with open('/home/mfumagal/Data/ImaGene/Sorting_effect_Epoch1/mypop_majorminor_filtered_sortedrowscolsdist','wb') as fp:\n",
    "    pickle.dump(mypop, fp)"
   ]
  },
  {
   "cell_type": "code",
   "execution_count": null,
   "metadata": {},
   "outputs": [],
   "source": [
    "## ROWS DISTANCE\n",
    "# load fresh object\n",
    "with open('/home/mfumagal/Data/ImaGene/Sorting_effect_Epoch1/mypop_majorminor_filtered','rb') as fp:\n",
    "    mypop = pickle.load(fp)\n",
    "# sort and resize\n",
    "mypop.sort('rows_distance_top')\n",
    "mypop.resize((128, 128))\n",
    "mypop.plot(0)\n",
    "# convert and shuffle\n",
    "mypop.convert()\n",
    "mypop.shuffle(shuffle_index)\n",
    "# save\n",
    "with open('/home/mfumagal/Data/ImaGene/Sorting_effect_Epoch1/mypop_majorminor_filtered_sortedrowsdist','wb') as fp:\n",
    "    pickle.dump(mypop, fp)"
   ]
  },
  {
   "cell_type": "code",
   "execution_count": null,
   "metadata": {},
   "outputs": [],
   "source": [
    "## COLS DISTANCE\n",
    "# load fresh object\n",
    "with open('/home/mfumagal/Data/ImaGene/Sorting_effect_Epoch1/mypop_majorminor_filtered','rb') as fp:\n",
    "    mypop = pickle.load(fp)\n",
    "# sort and resize\n",
    "mypop.sort('cols_distance_top')\n",
    "mypop.resize((128, 128))\n",
    "mypop.plot(0)\n",
    "# convert and shuffle\n",
    "mypop.convert()\n",
    "mypop.shuffle(shuffle_index)\n",
    "# save\n",
    "with open('/home/mfumagal/Data/ImaGene/Sorting_effect_Epoch1/mypop_majorminor_filtered_sortedcolsdist','wb') as fp:\n",
    "    pickle.dump(mypop, fp)"
   ]
  },
  {
   "cell_type": "code",
   "execution_count": null,
   "metadata": {},
   "outputs": [],
   "source": [
    "## ROWS DISTANCE + COLS FREQ\n",
    "# load fresh object\n",
    "with open('/home/mfumagal/Data/ImaGene/Sorting_effect_Epoch1/mypop_majorminor_filtered','rb') as fp:\n",
    "    mypop = pickle.load(fp)\n",
    "# sort and resize\n",
    "mypop.sort('rows_distance_top')\n",
    "mypop.sort('cols_freq')\n",
    "mypop.resize((128, 128))\n",
    "mypop.plot(0)\n",
    "# convert and shuffle\n",
    "mypop.convert()\n",
    "mypop.shuffle(shuffle_index)\n",
    "# save\n",
    "with open('/home/mfumagal/Data/ImaGene/Sorting_effect_Epoch1/mypop_majorminor_filtered_sortedrowsdistcolsfreq','wb') as fp:\n",
    "    pickle.dump(mypop, fp)"
   ]
  },
  {
   "cell_type": "markdown",
   "metadata": {},
   "source": [
    "Set classes and targets."
   ]
  },
  {
   "cell_type": "code",
   "execution_count": null,
   "metadata": {},
   "outputs": [],
   "source": [
    "#\n",
    "print(mypop.classes)\n",
    "mypop.target = np.zeros(len(mypop.data), dtype='float32')\n",
    "mypop.set_targets(sd=1)\n",
    "mypop.target[0]"
   ]
  },
  {
   "cell_type": "markdown",
   "metadata": {},
   "source": [
    "Build, compile, train and test a network."
   ]
  },
  {
   "cell_type": "code",
   "execution_count": null,
   "metadata": {},
   "outputs": [],
   "source": [
    "# initiate an instance of ImaNet object\n",
    "mynet = ImaNet(mypop)"
   ]
  },
  {
   "cell_type": "code",
   "execution_count": null,
   "metadata": {},
   "outputs": [],
   "source": [
    "# build the newtork, e.g. for multiclassification\n",
    "mynet.net = models.Sequential()\n",
    "mynet.net.add(layers.Conv2D(16, (3,3), activation='relu', padding='same', kernel_regularizer=regularizers.l2(0.001), input_shape=mynet.input_shape))\n",
    "mynet.net.add(layers.MaxPool2D((2,2)))\n",
    "mynet.net.add(layers.Conv2D(32, (3,3), activation='relu', padding='same', kernel_regularizer=regularizers.l2(0.001), input_shape=mynet.input_shape))\n",
    "mynet.net.add(layers.MaxPool2D((2,2)))\n",
    "mynet.net.add(layers.Dropout(0.5))\n",
    "mynet.net.add(layers.Flatten())\n",
    "mynet.net.add(layers.Dense(64, activation = 'relu'))\n",
    "mynet.net.add(layers.Dense(mynet.output_shape-1, activation = 'sigmoid'))"
   ]
  },
  {
   "cell_type": "code",
   "execution_count": null,
   "metadata": {},
   "outputs": [],
   "source": [
    "mynet.net.summary()\n",
    "plot_model(mynet.net, to_file='Data/net.png')"
   ]
  },
  {
   "cell_type": "code",
   "execution_count": null,
   "metadata": {},
   "outputs": [],
   "source": [
    "mynet.net.compile(loss='binary_crossentropy', optimizer=optimizers.RMSprop(lr=0.001), metrics=['acc'])"
   ]
  },
  {
   "cell_type": "code",
   "execution_count": null,
   "metadata": {},
   "outputs": [],
   "source": [
    "nr_train = int(mynet.gene.data.shape[0] * (1 - mynet.notraining[0]))\n",
    "nr_test = int(mynet.gene.data.shape[0]) - nr_train\n",
    "print(nr_train, nr_test)"
   ]
  },
  {
   "cell_type": "code",
   "execution_count": null,
   "metadata": {},
   "outputs": [],
   "source": [
    "mynet.train(epochs=20, batch_size=128)"
   ]
  },
  {
   "cell_type": "code",
   "execution_count": null,
   "metadata": {},
   "outputs": [],
   "source": [
    "mynet.plot_train()"
   ]
  },
  {
   "cell_type": "code",
   "execution_count": null,
   "metadata": {},
   "outputs": [],
   "source": [
    "scores = mynet.test()\n",
    "print(scores)"
   ]
  },
  {
   "cell_type": "code",
   "execution_count": null,
   "metadata": {},
   "outputs": [],
   "source": [
    "values = mynet.predict(gene=mypop.data[0:1])\n",
    "print(mypop.classes[np.argmax(mypop.target[0])])\n",
    "print(mypop.description[0])"
   ]
  },
  {
   "cell_type": "code",
   "execution_count": null,
   "metadata": {},
   "outputs": [],
   "source": []
  },
  {
   "cell_type": "code",
   "execution_count": null,
   "metadata": {},
   "outputs": [],
   "source": []
  }
 ],
 "metadata": {
  "kernelspec": {
   "display_name": "Python 3",
   "language": "python",
   "name": "python3"
  },
  "language_info": {
   "codemirror_mode": {
    "name": "ipython",
    "version": 3
   },
   "file_extension": ".py",
   "mimetype": "text/x-python",
   "name": "python",
   "nbconvert_exporter": "python",
   "pygments_lexer": "ipython3",
   "version": "3.6.7"
  }
 },
 "nbformat": 4,
 "nbformat_minor": 2
}
