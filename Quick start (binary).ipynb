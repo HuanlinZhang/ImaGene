{
 "cells": [
  {
   "cell_type": "markdown",
   "metadata": {},
   "source": [
    "# Quick start for binary classification"
   ]
  },
  {
   "cell_type": "markdown",
   "metadata": {},
   "source": [
    "Quick start for binary classification"
   ]
  },
  {
   "cell_type": "code",
   "execution_count": null,
   "metadata": {},
   "outputs": [],
   "source": [
    "# bash generate_data_binary.sh"
   ]
  },
  {
   "cell_type": "code",
   "execution_count": null,
   "metadata": {},
   "outputs": [],
   "source": [
    "import os\n",
    "import gzip\n",
    "\n",
    "import numpy as np\n",
    "import scipy.stats\n",
    "\n",
    "import skimage.transform\n",
    "from keras import models, layers, activations, optimizers, regularizers\n",
    "from keras.utils import plot_model\n",
    "from keras.models import load_model\n",
    "\n",
    "import matplotlib.pyplot as plt\n",
    "from sklearn.metrics import confusion_matrix\n",
    "import pymc3 # this will be removed\n",
    "import pydot # optional"
   ]
  },
  {
   "cell_type": "code",
   "execution_count": null,
   "metadata": {},
   "outputs": [],
   "source": [
    "%run -i ImaGene.py"
   ]
  },
  {
   "cell_type": "markdown",
   "metadata": {},
   "source": [
    "First iteration."
   ]
  },
  {
   "cell_type": "markdown",
   "metadata": {},
   "source": [
    "Read simulations and store them into object."
   ]
  },
  {
   "cell_type": "code",
   "execution_count": null,
   "metadata": {},
   "outputs": [],
   "source": [
    "myfile = ImaFile(simulations_folder='/home/mfumagal/Data/ImaGene.binary/Simulations1.Epoch3', nr_samples=128, model_name='Marth-3epoch-CEU')"
   ]
  },
  {
   "cell_type": "code",
   "execution_count": null,
   "metadata": {},
   "outputs": [],
   "source": [
    "mypop = myfile.read_simulations(parameter_name='selection_coeff_hetero', max_nrepl=2000)"
   ]
  },
  {
   "cell_type": "markdown",
   "metadata": {},
   "source": [
    "Have a look at the data and the allele frequency for the selected allele."
   ]
  },
  {
   "cell_type": "code",
   "execution_count": null,
   "metadata": {},
   "outputs": [],
   "source": [
    "mypop.summary()"
   ]
  },
  {
   "cell_type": "code",
   "execution_count": null,
   "metadata": {},
   "outputs": [],
   "source": [
    "freqs = calculate_allele_frequency(mypop, 0.5)\n",
    "plt.scatter(mypop.targets, freqs, marker='o')\n",
    "plt.xlabel('Target')\n",
    "plt.ylabel('Allele frequency')"
   ]
  },
  {
   "cell_type": "markdown",
   "metadata": {},
   "source": [
    "Manipulate object to: major/minor polarisation, sort rows/cols, resize, convert to float."
   ]
  },
  {
   "cell_type": "code",
   "execution_count": null,
   "metadata": {},
   "outputs": [],
   "source": [
    "mypop.majorminor()\n",
    "mypop.filter_freq(0.01)\n",
    "mypop.sort('rows_freq')\n",
    "mypop.sort('cols_freq')\n",
    "mypop.resize((128, 128))\n",
    "mypop.convert(verbose=True)"
   ]
  },
  {
   "cell_type": "markdown",
   "metadata": {},
   "source": [
    "Plot one image per class as an illustration and check the new dimensions."
   ]
  },
  {
   "cell_type": "code",
   "execution_count": null,
   "metadata": {},
   "outputs": [],
   "source": [
    "for sel in mypop.classes:\n",
    "    print(sel)\n",
    "    mypop.plot(np.where(mypop.targets == sel)[0][0])\n",
    "mypop.summary()"
   ]
  },
  {
   "cell_type": "markdown",
   "metadata": {},
   "source": [
    "Select only images corresponding to specified classes (e.g. 0 and 300) and check new dimensions."
   ]
  },
  {
   "cell_type": "code",
   "execution_count": null,
   "metadata": {},
   "outputs": [],
   "source": [
    "mypop.classes = np.array([0,300])\n",
    "classes_idx = get_index_classes(mypop.targets, mypop.classes)\n",
    "len(classes_idx)"
   ]
  },
  {
   "cell_type": "code",
   "execution_count": null,
   "metadata": {},
   "outputs": [],
   "source": [
    "mypop.subset(classes_idx)\n",
    "mypop.summary()"
   ]
  },
  {
   "cell_type": "markdown",
   "metadata": {},
   "source": [
    "Randomly shuffle images."
   ]
  },
  {
   "cell_type": "code",
   "execution_count": null,
   "metadata": {},
   "outputs": [],
   "source": [
    "rnd_idx = get_index_random(mypop)\n",
    "mypop.subset(rnd_idx)"
   ]
  },
  {
   "cell_type": "markdown",
   "metadata": {},
   "source": [
    "Convert targets to the appropriate format for keras (vectorise them)."
   ]
  },
  {
   "cell_type": "code",
   "execution_count": null,
   "metadata": {},
   "outputs": [],
   "source": [
    "mypop.targets = to_binary(mypop.targets)"
   ]
  },
  {
   "cell_type": "markdown",
   "metadata": {},
   "source": [
    "The data is ready to be used for the classification.\n",
    "You can save it."
   ]
  },
  {
   "cell_type": "code",
   "execution_count": null,
   "metadata": {},
   "outputs": [],
   "source": [
    "import _pickle as pickle"
   ]
  },
  {
   "cell_type": "code",
   "execution_count": null,
   "metadata": {},
   "outputs": [],
   "source": [
    "# to save, create folder\n",
    "os.mkdir('/home/mfumagal/Data/ImaGene.binary/Images1.Epoch3')"
   ]
  },
  {
   "cell_type": "code",
   "execution_count": null,
   "metadata": {},
   "outputs": [],
   "source": [
    "# save\n",
    "with open('/home/mfumagal/Data/ImaGene.binary/Images1.Epoch3/mypop','wb') as fp:\n",
    "    pickle.dump(mypop, fp)"
   ]
  },
  {
   "cell_type": "code",
   "execution_count": null,
   "metadata": {},
   "outputs": [],
   "source": [
    "# to load:\n",
    "with open('/home/mfumagal/Data/ImaGene.binary/Images1.Epoch3/mypop','rb') as fp:\n",
    "    mypop = pickle.load(fp)"
   ]
  },
  {
   "cell_type": "markdown",
   "metadata": {},
   "source": [
    "Build the model."
   ]
  },
  {
   "cell_type": "code",
   "execution_count": null,
   "metadata": {},
   "outputs": [],
   "source": [
    "%run -i ImaGene.py"
   ]
  },
  {
   "cell_type": "code",
   "execution_count": null,
   "metadata": {},
   "outputs": [],
   "source": [
    "mynet = ImaNet()"
   ]
  },
  {
   "cell_type": "code",
   "execution_count": null,
   "metadata": {},
   "outputs": [],
   "source": [
    "mynet.model = models.Sequential([\n",
    "                        layers.Conv2D(filters=32, kernel_size=(3,3), strides=(1,1), activation='relu', padding='valid', input_shape=mypop.data.shape[1:4]),\n",
    "                        layers.MaxPooling2D(pool_size=(2,2)),\n",
    "                        layers.Dropout(rate=0.5),\n",
    "                        layers.Conv2D(filters=32, kernel_size=(3,3), strides=(1,1), activation='relu', padding='valid'),\n",
    "                        layers.MaxPooling2D(pool_size=(2,2)),\n",
    "                        layers.Dropout(rate=0.5),\n",
    "                        layers.Conv2D(filters=32, kernel_size=(3,3), strides=(1,1), activation='relu', padding='valid'),\n",
    "                        layers.MaxPooling2D(pool_size=(2,2)),\n",
    "                        layers.Dropout(rate=0.5),\n",
    "                        layers.Flatten(),\n",
    "                        #layers.Dense(units=128, activation='relu'),\n",
    "                        layers.Dense(units=1, activation='sigmoid')])"
   ]
  },
  {
   "cell_type": "code",
   "execution_count": null,
   "metadata": {},
   "outputs": [],
   "source": [
    "mynet.model.compile(optimizer='rmsprop',\n",
    "                  loss='binary_crossentropy',\n",
    "                  metrics=['accuracy'])"
   ]
  },
  {
   "cell_type": "code",
   "execution_count": null,
   "metadata": {},
   "outputs": [],
   "source": [
    "mynet.plot_net()"
   ]
  },
  {
   "cell_type": "code",
   "execution_count": null,
   "metadata": {},
   "outputs": [],
   "source": [
    "mynet.model.fit(mypop.data, mypop.targets, batch_size=64, epochs=1, verbose=1, validation_split=0.10)"
   ]
  },
  {
   "cell_type": "code",
   "execution_count": null,
   "metadata": {},
   "outputs": [],
   "source": [
    "mynet.history = {}"
   ]
  },
  {
   "cell_type": "code",
   "execution_count": null,
   "metadata": {},
   "outputs": [],
   "source": [
    "mynet.history.update(history.history)"
   ]
  },
  {
   "cell_type": "code",
   "execution_count": null,
   "metadata": {},
   "outputs": [],
   "source": [
    "mynet.history"
   ]
  },
  {
   "cell_type": "code",
   "execution_count": null,
   "metadata": {},
   "outputs": [],
   "source": [
    "mynet.model.save('net.h5')"
   ]
  },
  {
   "cell_type": "code",
   "execution_count": null,
   "metadata": {},
   "outputs": [],
   "source": [
    "mynet.plot_train()"
   ]
  },
  {
   "cell_type": "markdown",
   "metadata": {},
   "source": [
    "Iterate across all repetitions (i-th) and models (e-th, if relevant).\n",
    "The first one initialises the model.\n",
    "The last one is used for testing."
   ]
  },
  {
   "cell_type": "code",
   "execution_count": null,
   "metadata": {},
   "outputs": [],
   "source": [
    "import os\n",
    "import gzip\n",
    "\n",
    "import numpy as np\n",
    "import scipy.stats\n",
    "\n",
    "import skimage.transform\n",
    "from keras import models, layers, activations, optimizers, regularizers\n",
    "from keras.utils import plot_model\n",
    "from keras.models import load_model\n",
    "\n",
    "import matplotlib.pyplot as plt\n",
    "from sklearn.metrics import confusion_matrix\n",
    "import pymc3 # this will be removed\n",
    "import pydot # optional"
   ]
  },
  {
   "cell_type": "code",
   "execution_count": null,
   "metadata": {},
   "outputs": [],
   "source": [
    "import pathlib\n",
    "import _pickle as pickle\n",
    "\n",
    "%run -i ImaGene.py\n",
    "# get_ipython().run_line_magic('run', '-i /rds/general/user/mfumagal/home/Software/ImaGene/ImaGene.py')\n",
    "\n",
    "for s in [100, 200, 300, 400]:\n",
    "\n",
    "    for m in ['None', 'Rows', 'Cols', 'RowsCols']:\n",
    "\n",
    "        for e in [1, 2, 3]:\n",
    "\n",
    "            folder = '/home/mfumagal/Data/ImaGene/Binary/Results/Epoch' + str(e) + '/S' + str(s) + '/' + str(m)\n",
    "            print(folder)\n",
    "            pathlib.Path(folder).mkdir(parents=True, exist_ok=True) \n",
    "                       \n",
    "            i = 0\n",
    "            while i < 10:\n",
    "\n",
    "                i += 1\n",
    "                print(str(s) + str(m) + str(e) + str(i))\n",
    "\n",
    "                myfile = ImaFile(simulations_folder='/home/mfumagal/Data/ImaGene/Binary/Simulations' + str(i) \n",
    "                         + '.Epoch' + str(e), nr_samples=128, model_name='Marth-' + str(e) + 'epoch-CEU')\n",
    "                mypop = myfile.read_simulations(parameter_name='selection_coeff_hetero', max_nrepl=20)\n",
    "    \n",
    "                mypop.majorminor()\n",
    "                mypop.filter_freq(0.01)\n",
    "            \n",
    "                if m == 'Rows':\n",
    "                    mypop.sort('rows_freq')\n",
    "                if m == 'Cols':\n",
    "                    mypop.sort('cols_freq')\n",
    "                if m == 'RowsCols':\n",
    "                    mypop.sort('rows_freq')\n",
    "                    mypop.sort('cols_freq')\n",
    "                \n",
    "                mypop.resize((128, 128))\n",
    "                mypop.convert()\n",
    "    \n",
    "                mypop.classes = np.array([0,int(s)])\n",
    "                classes_idx = get_index_classes(mypop.targets, mypop.classes)\n",
    "                mypop.subset(classes_idx)\n",
    "    \n",
    "                rnd_idx = get_index_random(mypop)\n",
    "                mypop.subset(rnd_idx)\n",
    "    \n",
    "                mypop.targets = to_binary(mypop.targets)\n",
    "    \n",
    "                if i == 1:\n",
    "                    mynet = ImaNet(name='CPx2')\n",
    "                    mynet.model = models.Sequential([\n",
    "                        layers.Conv2D(filters=32, kernel_size=(3,3), strides=(1,1), activation='relu', kernel_regularizer=regularizers.l1_l2(l1=0.01, l2=0.01), padding='valid', input_shape=mypop.data.shape[1:4]),\n",
    "                        layers.MaxPooling2D(pool_size=(2,2)),\n",
    "                        #layers.Dropout(rate=0.5),\n",
    "                        layers.Conv2D(filters=32, kernel_size=(3,3), strides=(1,1), activation='relu', kernel_regularizer=regularizers.l1_l2(l1=0.01, l2=0.01), padding='valid'),\n",
    "                        layers.MaxPooling2D(pool_size=(2,2)),\n",
    "                        #layers.Dropout(rate=0.5),\n",
    "                        #layers.Conv2D(filters=32, kernel_size=(3,3), strides=(1,1), activation='relu', padding='valid'),\n",
    "                        #layers.MaxPooling2D(pool_size=(2,2)),\n",
    "                        #layers.Dropout(rate=0.5),\n",
    "                        layers.Flatten(),\n",
    "                        layers.Dense(units=64, activation='relu'),\n",
    "                        layers.Dense(units=1, activation='sigmoid')])\n",
    "                    mynet.model.compile(optimizer='rmsprop',\n",
    "                        loss='binary_crossentropy',\n",
    "                        metrics=['accuracy'])\n",
    "                    mynet.plot_net(summary=True, file=folder + '/net.png')\n",
    "                else:\n",
    "                    model = load_model(folder + '/net.h5')\n",
    "    \n",
    "                if i < 10:\n",
    "                    score = mynet.model.fit(mypop.data, mypop.targets, batch_size=32, epochs=1, verbose=0, validation_split=0.10)\n",
    "                    mynet.update_scores(score)\n",
    "                    mynet.model.save(folder + '/net.h5')\n",
    "                else:\n",
    "                    mynet.test = mynet.model.evaluate(mypop.data, mypop.targets, batch_size=None, verbose=0)\n",
    "                    print(mynet.test)\n",
    "\n",
    "            # save the latest data (testing data)\n",
    "            with open(folder + '/mypop','wb') as fp:\n",
    "                pickle.dump(mypop, fp)\n",
    "            # save the latest network\n",
    "            with open(folder + '/mynet','wb') as fp:\n",
    "                pickle.dump(mynet, fp)\n",
    "        \n",
    "            del mypop\n",
    "            del mynet\n"
   ]
  },
  {
   "cell_type": "markdown",
   "metadata": {},
   "source": [
    "Read results."
   ]
  },
  {
   "cell_type": "code",
   "execution_count": null,
   "metadata": {},
   "outputs": [],
   "source": [
    "for e in [1, 2, 3]:\n",
    "\n",
    "    folder = '/home/mfumagal/Data/ImaGene/Binary/Results/Epoch' + str(e)\n",
    "    \n",
    "    with open(folder + '/mypop','rb') as fp:\n",
    "        mypop = pickle.load(fp)\n",
    "\n",
    "    with open(folder + '/mynet','rb') as fp:\n",
    "        mynet = pickle.load(fp)\n",
    "        \n",
    "    "
   ]
  },
  {
   "cell_type": "code",
   "execution_count": null,
   "metadata": {},
   "outputs": [],
   "source": [
    "e=3\n",
    "\n",
    "folder = '/home/mfumagal/Data/ImaGene/Binary/Results/Epoch' + str(e)\n",
    "    \n",
    "with open(folder + '/mypop','rb') as fp:\n",
    "    mypop = pickle.load(fp)\n",
    "\n",
    "with open(folder + '/mynet','rb') as fp:\n",
    "    mynet = pickle.load(fp)\n",
    "    \n",
    "    \n"
   ]
  },
  {
   "cell_type": "code",
   "execution_count": null,
   "metadata": {},
   "outputs": [],
   "source": [
    "mynet.test\n",
    "mynet.plot_train()\n",
    "mynet.plot_cm(mypop)\n",
    "#mynet.plot_scatter(mypop)"
   ]
  },
  {
   "cell_type": "code",
   "execution_count": null,
   "metadata": {},
   "outputs": [],
   "source": [
    "os.system('mkdir -p /home/mfumagal/Data/ImaGene/Binary/Results/Epoch3')\n",
    "\n",
    "os.system('mv net.h5 /home/mfumagal/Data/ImaGene/Binary/Results/Epoch3/.')\n",
    "os.system('mv net.png /home/mfumagal/Data/ImaGene/Binary/Results/Epoch3/.')\n",
    "\n",
    "with open('/home/mfumagal/Data/ImaGene/Binary/Results/Epoch3/mypop','wb') as fp:\n",
    "    pickle.dump(mypop, fp)\n",
    "    \n",
    "with open('/home/mfumagal/Data/ImaGene/Binary/Results/Epoch3/mynet','wb') as fp:\n",
    "    pickle.dump(mynet, fp)"
   ]
  },
  {
   "cell_type": "code",
   "execution_count": null,
   "metadata": {},
   "outputs": [],
   "source": [
    "os.system('mkdir -p /home/mfumagal/Data/ImaGene/Binary/Results/Epoch3')"
   ]
  },
  {
   "cell_type": "code",
   "execution_count": null,
   "metadata": {},
   "outputs": [],
   "source": [
    "mynet.plot_train()"
   ]
  },
  {
   "cell_type": "code",
   "execution_count": null,
   "metadata": {},
   "outputs": [],
   "source": [
    "mynet.plot_cm(mypop)"
   ]
  },
  {
   "cell_type": "code",
   "execution_count": null,
   "metadata": {},
   "outputs": [],
   "source": [
    "mynet.plot_scatter(mypop)"
   ]
  },
  {
   "cell_type": "code",
   "execution_count": null,
   "metadata": {},
   "outputs": [],
   "source": [
    "e = 1\n",
    "folder = '/home/mfumagal/Data/ImaGene/Binary/Results/Epoch' + str(e)\n",
    "print(folder)\n",
    "subprocess.call(['mkdir -p', folder], shell=True)"
   ]
  }
 ],
 "metadata": {
  "kernelspec": {
   "display_name": "Python 3",
   "language": "python",
   "name": "python3"
  },
  "language_info": {
   "codemirror_mode": {
    "name": "ipython",
    "version": 3
   },
   "file_extension": ".py",
   "mimetype": "text/x-python",
   "name": "python",
   "nbconvert_exporter": "python",
   "pygments_lexer": "ipython3",
   "version": "3.6.8"
  }
 },
 "nbformat": 4,
 "nbformat_minor": 2
}
