{
 "cells": [
  {
   "cell_type": "markdown",
   "metadata": {},
   "source": [
    "# Training"
   ]
  },
  {
   "cell_type": "code",
   "execution_count": 1,
   "metadata": {},
   "outputs": [
    {
     "name": "stderr",
     "output_type": "stream",
     "text": [
      "Using TensorFlow backend.\n"
     ]
    }
   ],
   "source": [
    "import os\n",
    "import gzip\n",
    "\n",
    "import numpy as np\n",
    "import scipy.stats\n",
    "\n",
    "import skimage.transform\n",
    "from keras import models, layers, optimizers, regularizers\n",
    "from keras.utils import to_categorical, plot_model\n",
    "\n",
    "import matplotlib.pyplot as plt\n",
    "import pymc3\n",
    "import pydot"
   ]
  },
  {
   "cell_type": "code",
   "execution_count": 2,
   "metadata": {},
   "outputs": [],
   "source": [
    "%run -i ImaGene.py"
   ]
  },
  {
   "cell_type": "code",
   "execution_count": 18,
   "metadata": {},
   "outputs": [],
   "source": [
    "import _pickle as pickle\n",
    "with open('/home/mfumagal/Data/ImaGene/Sorting_effect_Epoch1/mypop_majorminor_filtered_sortedrowscolsfreq','rb') as fp:\n",
    "    mypop = pickle.load(fp)"
   ]
  },
  {
   "cell_type": "code",
   "execution_count": 4,
   "metadata": {},
   "outputs": [
    {
     "data": {
      "image/png": "[encoded data removed]",
      "text/plain": [
       "<Figure size 432x288 with 1 Axes>"
      ]
     },
     "metadata": {
      "needs_background": "light"
     },
     "output_type": "display_data"
    },
    {
     "data": {
      "text/plain": [
       "0"
      ]
     },
     "execution_count": 4,
     "metadata": {},
     "output_type": "execute_result"
    }
   ],
   "source": [
    "mypop.plot(0)"
   ]
  },
  {
   "cell_type": "markdown",
   "metadata": {},
   "source": [
    "Set classes and targets."
   ]
  },
  {
   "cell_type": "code",
   "execution_count": 5,
   "metadata": {},
   "outputs": [
    {
     "data": {
      "text/plain": [
       "array([  0.,  10.,  20.,  30.,  40.,  50.,  60.,  70.,  80.,  90., 100.,\n",
       "       110., 120., 130., 140., 150., 160., 170., 180., 190., 200., 210.,\n",
       "       220., 230., 240., 250., 260., 270., 280., 290., 300., 310., 320.,\n",
       "       330., 340., 350., 360., 370., 380., 390., 400.], dtype=float32)"
      ]
     },
     "execution_count": 5,
     "metadata": {},
     "output_type": "execute_result"
    }
   ],
   "source": [
    "mypop.classes"
   ]
  },
  {
   "cell_type": "code",
   "execution_count": 6,
   "metadata": {},
   "outputs": [
    {
     "data": {
      "text/plain": [
       "array([200., 150., 270., ...,  60., 290., 320.], dtype=float32)"
      ]
     },
     "execution_count": 6,
     "metadata": {},
     "output_type": "execute_result"
    }
   ],
   "source": [
    "mypop.target"
   ]
  },
  {
   "cell_type": "code",
   "execution_count": null,
   "metadata": {},
   "outputs": [],
   "source": [
    "#mypop.set_targets(sd=0.6)\n",
    "#mypop.target = to_categorical(mypop.target, len(mypop.classes), dtype='float32')\n",
    "#mypop.target[0]"
   ]
  },
  {
   "cell_type": "markdown",
   "metadata": {},
   "source": [
    "Build, compile, train and test a network."
   ]
  },
  {
   "cell_type": "code",
   "execution_count": null,
   "metadata": {},
   "outputs": [],
   "source": [
    "# initiate an instance of ImaNet object\n",
    "#mynet = ImaNet(mypop)"
   ]
  },
  {
   "cell_type": "code",
   "execution_count": 7,
   "metadata": {},
   "outputs": [
    {
     "name": "stdout",
     "output_type": "stream",
     "text": [
      "Train on 13120 samples, validate on 3280 samples\n",
      "Epoch 1/10\n",
      "13120/13120 [==============================] - 63s 5ms/step - loss: 12113.5754 - mean_absolute_error: 90.6782 - val_loss: 37173.3394 - val_mean_absolute_error: 160.8202\n",
      "Epoch 2/10\n",
      "13120/13120 [==============================] - 48s 4ms/step - loss: 10858.3180 - mean_absolute_error: 84.7592 - val_loss: 37721.3843 - val_mean_absolute_error: 162.0024\n",
      "Epoch 3/10\n",
      "13120/13120 [==============================] - 48s 4ms/step - loss: 10434.2639 - mean_absolute_error: 82.7847 - val_loss: 34441.6785 - val_mean_absolute_error: 153.8629\n",
      "Epoch 4/10\n",
      "13120/13120 [==============================] - 48s 4ms/step - loss: 10330.9145 - mean_absolute_error: 81.8796 - val_loss: 29285.0278 - val_mean_absolute_error: 141.2446\n",
      "Epoch 5/10\n",
      "13120/13120 [==============================] - 48s 4ms/step - loss: 10189.8552 - mean_absolute_error: 81.1988 - val_loss: 28036.1788 - val_mean_absolute_error: 138.2028\n",
      "Epoch 6/10\n",
      "13120/13120 [==============================] - 48s 4ms/step - loss: 10044.8197 - mean_absolute_error: 80.4412 - val_loss: 24864.4553 - val_mean_absolute_error: 130.3881\n",
      "Epoch 7/10\n",
      "13120/13120 [==============================] - 48s 4ms/step - loss: 9994.7970 - mean_absolute_error: 80.2159 - val_loss: 24932.3515 - val_mean_absolute_error: 130.5257\n",
      "Epoch 8/10\n",
      "13120/13120 [==============================] - 48s 4ms/step - loss: 10025.5224 - mean_absolute_error: 80.3566 - val_loss: 24718.4343 - val_mean_absolute_error: 129.9830\n",
      "Epoch 9/10\n",
      "13120/13120 [==============================] - 49s 4ms/step - loss: 9921.1301 - mean_absolute_error: 79.8403 - val_loss: 22661.4350 - val_mean_absolute_error: 124.7132\n",
      "Epoch 10/10\n",
      "13120/13120 [==============================] - 49s 4ms/step - loss: 9951.4659 - mean_absolute_error: 79.9960 - val_loss: 25406.3631 - val_mean_absolute_error: 131.7513\n",
      "Saved as net.h5\n"
     ]
    },
    {
     "data": {
      "image/png": "[encoded data removed]",
      "text/plain": [
       "<Figure size 432x288 with 1 Axes>"
      ]
     },
     "metadata": {
      "needs_background": "light"
     },
     "output_type": "display_data"
    },
    {
     "data": {
      "text/plain": [
       "<Figure size 432x288 with 0 Axes>"
      ]
     },
     "metadata": {},
     "output_type": "display_data"
    },
    {
     "data": {
      "text/plain": [
       "0"
      ]
     },
     "execution_count": 7,
     "metadata": {},
     "output_type": "execute_result"
    }
   ],
   "source": [
    "# 1) loss: 9951.4659 - mean_absolute_error: 79.9960 - val_loss: 25406.3631 - val_mean_absolute_error: 131.7513\n",
    "mynet = ImaNet(mypop)\n",
    "\n",
    "mynet.net = models.Sequential()\n",
    "mynet.net.add(layers.Conv2D(32, (3,3), activation='relu', padding='same', input_shape=mynet.input_shape))\n",
    "mynet.net.add(layers.MaxPool2D((2,2)))\n",
    "mynet.net.add(layers.Dropout(0.7))\n",
    "mynet.net.add(layers.Conv2D(32, (3,3), activation='relu', padding='same', input_shape=mynet.input_shape))\n",
    "mynet.net.add(layers.MaxPool2D((2,2)))\n",
    "mynet.net.add(layers.Dropout(0.7))\n",
    "mynet.net.add(layers.Conv2D(32, (3,3), activation='relu', padding='same', input_shape=mynet.input_shape))\n",
    "mynet.net.add(layers.MaxPool2D((2,2)))\n",
    "mynet.net.add(layers.Dropout(0.7))\n",
    "mynet.net.add(layers.Flatten())\n",
    "mynet.net.add(layers.Dense(128, activation = 'relu'))\n",
    "mynet.net.add(layers.Dense(1))\n",
    "\n",
    "#mynet.net.summary()\n",
    "\n",
    "mynet.net.compile(loss='mse', optimizer='adam', metrics=['mae'])\n",
    "\n",
    "mynet.train(epochs=10, batch_size=32)\n",
    "\n",
    "mynet.plot_train()"
   ]
  },
  {
   "cell_type": "code",
   "execution_count": 9,
   "metadata": {},
   "outputs": [
    {
     "name": "stdout",
     "output_type": "stream",
     "text": [
      "Train on 13120 samples, validate on 3280 samples\n",
      "Epoch 1/10\n",
      "13120/13120 [==============================] - 63s 5ms/step - loss: 11865.4277 - mean_absolute_error: 89.3725 - val_loss: 34282.6562 - val_mean_absolute_error: 153.5205\n",
      "Epoch 2/10\n",
      "13120/13120 [==============================] - 62s 5ms/step - loss: 10445.0494 - mean_absolute_error: 82.2778 - val_loss: 30212.0091 - val_mean_absolute_error: 143.6773\n",
      "Epoch 3/10\n",
      "13120/13120 [==============================] - 62s 5ms/step - loss: 10235.7752 - mean_absolute_error: 81.0172 - val_loss: 27838.1288 - val_mean_absolute_error: 137.7759\n",
      "Epoch 4/10\n",
      "13120/13120 [==============================] - 62s 5ms/step - loss: 10212.7509 - mean_absolute_error: 81.1950 - val_loss: 22489.2388 - val_mean_absolute_error: 124.2082\n",
      "Epoch 5/10\n",
      "13120/13120 [==============================] - 62s 5ms/step - loss: 10089.3805 - mean_absolute_error: 80.4133 - val_loss: 24127.0662 - val_mean_absolute_error: 128.4561\n",
      "Epoch 6/10\n",
      "13120/13120 [==============================] - 62s 5ms/step - loss: 9984.6568 - mean_absolute_error: 79.9319 - val_loss: 21198.6008 - val_mean_absolute_error: 120.7561\n",
      "Epoch 7/10\n",
      "13120/13120 [==============================] - 63s 5ms/step - loss: 10022.8913 - mean_absolute_error: 79.9868 - val_loss: 21170.1236 - val_mean_absolute_error: 120.6720\n",
      "Epoch 8/10\n",
      "13120/13120 [==============================] - 62s 5ms/step - loss: 9957.6273 - mean_absolute_error: 79.6675 - val_loss: 17614.4206 - val_mean_absolute_error: 110.5559\n",
      "Epoch 9/10\n",
      "13120/13120 [==============================] - 62s 5ms/step - loss: 9952.3598 - mean_absolute_error: 79.6626 - val_loss: 16365.9992 - val_mean_absolute_error: 106.7938\n",
      "Epoch 10/10\n",
      "13120/13120 [==============================] - 61s 5ms/step - loss: 9834.1609 - mean_absolute_error: 79.1803 - val_loss: 18549.0351 - val_mean_absolute_error: 113.2445\n",
      "Saved as net.h5\n"
     ]
    },
    {
     "data": {
      "image/png": "[encoded data removed]",
      "text/plain": [
       "<Figure size 432x288 with 1 Axes>"
      ]
     },
     "metadata": {
      "needs_background": "light"
     },
     "output_type": "display_data"
    },
    {
     "data": {
      "text/plain": [
       "<Figure size 432x288 with 0 Axes>"
      ]
     },
     "metadata": {},
     "output_type": "display_data"
    },
    {
     "data": {
      "text/plain": [
       "0"
      ]
     },
     "execution_count": 9,
     "metadata": {},
     "output_type": "execute_result"
    }
   ],
   "source": [
    "# 2) loss: 9834.1609 - mean_absolute_error: 79.1803 - val_loss: 18549.0351 - val_mean_absolute_error: 113.2445\n",
    "mynet = ImaNet(mypop)\n",
    "\n",
    "mynet.net = models.Sequential()\n",
    "mynet.net.add(layers.Conv2D(32, (5,5), activation='relu', padding='same', input_shape=mynet.input_shape))\n",
    "mynet.net.add(layers.MaxPool2D((2,2)))\n",
    "mynet.net.add(layers.Dropout(0.7))\n",
    "mynet.net.add(layers.Conv2D(32, (5,5), activation='relu', padding='same', input_shape=mynet.input_shape))\n",
    "mynet.net.add(layers.MaxPool2D((2,2)))\n",
    "mynet.net.add(layers.Dropout(0.7))\n",
    "mynet.net.add(layers.Conv2D(32, (5,5), activation='relu', padding='same', input_shape=mynet.input_shape))\n",
    "mynet.net.add(layers.MaxPool2D((2,2)))\n",
    "mynet.net.add(layers.Dropout(0.7))\n",
    "mynet.net.add(layers.Flatten())\n",
    "mynet.net.add(layers.Dense(128, activation = 'relu'))\n",
    "mynet.net.add(layers.Dense(1))\n",
    "\n",
    "#mynet.net.summary()\n",
    "\n",
    "mynet.net.compile(loss='mse', optimizer='adam', metrics=['mae'])\n",
    "\n",
    "mynet.train(epochs=10, batch_size=32)\n",
    "\n",
    "mynet.plot_train()"
   ]
  },
  {
   "cell_type": "code",
   "execution_count": 12,
   "metadata": {},
   "outputs": [
    {
     "name": "stdout",
     "output_type": "stream",
     "text": [
      "Train on 13120 samples, validate on 3280 samples\n",
      "Epoch 1/10\n",
      "13120/13120 [==============================] - 62s 5ms/step - loss: 3.6259 - acc: 0.0429 - val_loss: 3.6721 - val_acc: 0.0442\n",
      "Epoch 2/10\n",
      "13120/13120 [==============================] - 63s 5ms/step - loss: 3.4892 - acc: 0.0627 - val_loss: 3.6741 - val_acc: 0.0430\n",
      "Epoch 3/10\n",
      "13120/13120 [==============================] - 62s 5ms/step - loss: 3.4713 - acc: 0.0612 - val_loss: 3.6715 - val_acc: 0.0418\n",
      "Epoch 4/10\n",
      "13120/13120 [==============================] - 62s 5ms/step - loss: 3.4632 - acc: 0.0642 - val_loss: 3.6657 - val_acc: 0.0409\n",
      "Epoch 5/10\n",
      "13120/13120 [==============================] - 62s 5ms/step - loss: 3.4589 - acc: 0.0639 - val_loss: 3.6744 - val_acc: 0.0494\n",
      "Epoch 6/10\n",
      "13120/13120 [==============================] - 62s 5ms/step - loss: 3.4559 - acc: 0.0659 - val_loss: 3.7087 - val_acc: 0.0473\n",
      "Epoch 7/10\n",
      "13120/13120 [==============================] - 62s 5ms/step - loss: 3.4495 - acc: 0.0646 - val_loss: 3.6955 - val_acc: 0.0415\n",
      "Epoch 8/10\n",
      "13120/13120 [==============================] - 62s 5ms/step - loss: 3.4485 - acc: 0.0689 - val_loss: 3.6789 - val_acc: 0.0442\n",
      "Epoch 9/10\n",
      "13120/13120 [==============================] - 62s 5ms/step - loss: 3.4479 - acc: 0.0675 - val_loss: 3.6935 - val_acc: 0.0436\n",
      "Epoch 10/10\n",
      "13120/13120 [==============================] - 62s 5ms/step - loss: 3.4485 - acc: 0.0694 - val_loss: 3.6929 - val_acc: 0.0457\n",
      "Saved as net.h5\n"
     ]
    },
    {
     "data": {
      "image/png": "[encoded data removed]",
      "text/plain": [
       "<Figure size 432x288 with 1 Axes>"
      ]
     },
     "metadata": {
      "needs_background": "light"
     },
     "output_type": "display_data"
    },
    {
     "data": {
      "image/png": "[encoded data removed]",
      "text/plain": [
       "<Figure size 432x288 with 1 Axes>"
      ]
     },
     "metadata": {
      "needs_background": "light"
     },
     "output_type": "display_data"
    },
    {
     "data": {
      "text/plain": [
       "0"
      ]
     },
     "execution_count": 12,
     "metadata": {},
     "output_type": "execute_result"
    }
   ],
   "source": [
    "# 3) loss: 3.4485 - acc: 0.0694 - val_loss: 3.6929 - val_acc: 0.0457\n",
    "mypop.set_targets(sd=0.6)\n",
    "\n",
    "mynet = ImaNet(mypop)\n",
    "\n",
    "mynet.net = models.Sequential()\n",
    "mynet.net.add(layers.Conv2D(32, (5,5), activation='relu', padding='same', input_shape=mynet.input_shape))\n",
    "mynet.net.add(layers.MaxPool2D((2,2)))\n",
    "mynet.net.add(layers.Dropout(0.7))\n",
    "mynet.net.add(layers.Conv2D(32, (5,5), activation='relu', padding='same', input_shape=mynet.input_shape))\n",
    "mynet.net.add(layers.MaxPool2D((2,2)))\n",
    "mynet.net.add(layers.Dropout(0.7))\n",
    "mynet.net.add(layers.Conv2D(32, (5,5), activation='relu', padding='same', input_shape=mynet.input_shape))\n",
    "mynet.net.add(layers.MaxPool2D((2,2)))\n",
    "mynet.net.add(layers.Dropout(0.7))\n",
    "mynet.net.add(layers.Flatten())\n",
    "mynet.net.add(layers.Dense(128, activation = 'relu'))\n",
    "mynet.net.add(layers.Dense(mynet.output_shape, activation = 'softmax'))\n",
    "\n",
    "#mynet.net.summary()\n",
    "\n",
    "mynet.net.compile(loss='categorical_crossentropy', optimizer='adam', metrics=['acc'])\n",
    "\n",
    "mynet.train(epochs=10, batch_size=32)\n",
    "\n",
    "mynet.plot_train()"
   ]
  },
  {
   "cell_type": "code",
   "execution_count": 20,
   "metadata": {},
   "outputs": [
    {
     "name": "stdout",
     "output_type": "stream",
     "text": [
      "Train on 13120 samples, validate on 3280 samples\n",
      "Epoch 1/10\n",
      "13120/13120 [==============================] - 59s 5ms/step - loss: 3.7236 - acc: 0.0259 - val_loss: 3.7113 - val_acc: 0.0430\n",
      "Epoch 2/10\n",
      "13120/13120 [==============================] - 55s 4ms/step - loss: 3.5840 - acc: 0.0434 - val_loss: 3.6806 - val_acc: 0.0345\n",
      "Epoch 3/10\n",
      "13120/13120 [==============================] - 55s 4ms/step - loss: 3.5018 - acc: 0.0546 - val_loss: 3.6922 - val_acc: 0.0409\n",
      "Epoch 4/10\n",
      "13120/13120 [==============================] - 55s 4ms/step - loss: 3.4807 - acc: 0.0604 - val_loss: 3.6832 - val_acc: 0.0412\n",
      "Epoch 5/10\n",
      "13120/13120 [==============================] - 55s 4ms/step - loss: 3.4691 - acc: 0.0629 - val_loss: 3.6751 - val_acc: 0.0427\n",
      "Epoch 6/10\n",
      "13120/13120 [==============================] - 56s 4ms/step - loss: 3.4621 - acc: 0.0662 - val_loss: 3.6712 - val_acc: 0.0384\n",
      "Epoch 7/10\n",
      "13120/13120 [==============================] - 56s 4ms/step - loss: 3.4585 - acc: 0.0637 - val_loss: 3.6771 - val_acc: 0.0424\n",
      "Epoch 8/10\n",
      "13120/13120 [==============================] - 56s 4ms/step - loss: 3.4532 - acc: 0.0632 - val_loss: 3.6677 - val_acc: 0.0463\n",
      "Epoch 9/10\n",
      "13120/13120 [==============================] - 56s 4ms/step - loss: 3.4475 - acc: 0.0673 - val_loss: 3.6717 - val_acc: 0.0479\n",
      "Epoch 10/10\n",
      "13120/13120 [==============================] - 56s 4ms/step - loss: 3.4487 - acc: 0.0656 - val_loss: 3.6660 - val_acc: 0.0442\n",
      "Saved as net.h5\n"
     ]
    },
    {
     "data": {
      "image/png": "[encoded data removed]",
      "text/plain": [
       "<Figure size 432x288 with 1 Axes>"
      ]
     },
     "metadata": {
      "needs_background": "light"
     },
     "output_type": "display_data"
    },
    {
     "data": {
      "image/png": "[encoded data removed]",
      "text/plain": [
       "<Figure size 432x288 with 1 Axes>"
      ]
     },
     "metadata": {
      "needs_background": "light"
     },
     "output_type": "display_data"
    },
    {
     "data": {
      "text/plain": [
       "0"
      ]
     },
     "execution_count": 20,
     "metadata": {},
     "output_type": "execute_result"
    }
   ],
   "source": [
    "# 4) loss: 3.4487 - acc: 0.0656 - val_loss: 3.6660 - val_acc: 0.0442\n",
    "mypop.set_targets(sd=0.6)\n",
    "\n",
    "mynet = ImaNet(mypop)\n",
    "\n",
    "mynet.net = models.Sequential()\n",
    "mynet.net.add(layers.Conv2D(32, (5,5), activation='relu', padding='same', input_shape=mynet.input_shape))\n",
    "mynet.net.add(layers.MaxPool2D((2,2)))\n",
    "mynet.net.add(layers.Dropout(0.7))\n",
    "mynet.net.add(layers.Conv2D(32, (5,5), activation='relu', padding='same', input_shape=mynet.input_shape))\n",
    "mynet.net.add(layers.MaxPool2D((2,2)))\n",
    "mynet.net.add(layers.Dropout(0.7))\n",
    "mynet.net.add(layers.Conv2D(32, (5,5), activation='relu', padding='same', input_shape=mynet.input_shape))\n",
    "mynet.net.add(layers.MaxPool2D((2,2)))\n",
    "mynet.net.add(layers.Dropout(0.7))\n",
    "mynet.net.add(layers.Flatten())\n",
    "mynet.net.add(layers.Dense(128, activation = 'relu'))\n",
    "mynet.net.add(layers.Dense(mynet.output_shape, activation = 'softmax'))\n",
    "\n",
    "#mynet.net.summary()\n",
    "\n",
    "mynet.net.compile(loss='categorical_crossentropy', optimizer='adam', metrics=['acc'])\n",
    "\n",
    "mynet.train(epochs=10, batch_size=128)\n",
    "\n",
    "mynet.plot_train()"
   ]
  },
  {
   "cell_type": "code",
   "execution_count": 23,
   "metadata": {},
   "outputs": [
    {
     "name": "stdout",
     "output_type": "stream",
     "text": [
      "[[0.0000000e+00 0.0000000e+00 0.0000000e+00 0.0000000e+00 0.0000000e+00\n",
      "  0.0000000e+00 0.0000000e+00 0.0000000e+00 0.0000000e+00 0.0000000e+00\n",
      "  0.0000000e+00 0.0000000e+00 1.6523159e-39 1.8445688e-30 1.2803331e-22\n",
      "  5.5255766e-16 1.4827181e-10 2.4738085e-06 2.5662559e-03 1.6552375e-01\n",
      "  6.6381502e-01 1.6552375e-01 2.5662559e-03 2.4738085e-06 1.4827181e-10\n",
      "  5.5255766e-16 1.2803331e-22 1.8445688e-30 1.6523159e-39 0.0000000e+00\n",
      "  0.0000000e+00 0.0000000e+00 0.0000000e+00 0.0000000e+00 0.0000000e+00\n",
      "  0.0000000e+00 0.0000000e+00 0.0000000e+00 0.0000000e+00 0.0000000e+00\n",
      "  0.0000000e+00]\n",
      " [0.0000000e+00 0.0000000e+00 0.0000000e+00 0.0000000e+00 0.0000000e+00\n",
      "  0.0000000e+00 0.0000000e+00 1.6523159e-39 1.8445688e-30 1.2803331e-22\n",
      "  5.5255766e-16 1.4827181e-10 2.4738085e-06 2.5662559e-03 1.6552375e-01\n",
      "  6.6381502e-01 1.6552375e-01 2.5662559e-03 2.4738085e-06 1.4827181e-10\n",
      "  5.5255766e-16 1.2803331e-22 1.8445688e-30 1.6523159e-39 0.0000000e+00\n",
      "  0.0000000e+00 0.0000000e+00 0.0000000e+00 0.0000000e+00 0.0000000e+00\n",
      "  0.0000000e+00 0.0000000e+00 0.0000000e+00 0.0000000e+00 0.0000000e+00\n",
      "  0.0000000e+00 0.0000000e+00 0.0000000e+00 0.0000000e+00 0.0000000e+00\n",
      "  0.0000000e+00]\n",
      " [0.0000000e+00 0.0000000e+00 0.0000000e+00 0.0000000e+00 0.0000000e+00\n",
      "  0.0000000e+00 0.0000000e+00 0.0000000e+00 0.0000000e+00 0.0000000e+00\n",
      "  0.0000000e+00 0.0000000e+00 0.0000000e+00 0.0000000e+00 0.0000000e+00\n",
      "  0.0000000e+00 0.0000000e+00 0.0000000e+00 0.0000000e+00 1.6523159e-39\n",
      "  1.8445688e-30 1.2803331e-22 5.5255766e-16 1.4827181e-10 2.4738085e-06\n",
      "  2.5662559e-03 1.6552375e-01 6.6381502e-01 1.6552375e-01 2.5662559e-03\n",
      "  2.4738085e-06 1.4827181e-10 5.5255766e-16 1.2803331e-22 1.8445688e-30\n",
      "  1.6523159e-39 0.0000000e+00 0.0000000e+00 0.0000000e+00 0.0000000e+00\n",
      "  0.0000000e+00]]\n"
     ]
    },
    {
     "data": {
      "text/plain": [
       "array([[0.02226832, 0.0214864 , 0.02545421, 0.0218631 , 0.01984121,\n",
       "        0.01874368, 0.02197086, 0.02302288, 0.02140011, 0.02475499,\n",
       "        0.02457898, 0.0214476 , 0.02204006, 0.02157173, 0.02450129,\n",
       "        0.02421434, 0.02646646, 0.02909445, 0.02795197, 0.02721771,\n",
       "        0.03489943, 0.03775919, 0.03571662, 0.03264868, 0.03561116,\n",
       "        0.02997589, 0.03197965, 0.02847853, 0.0310649 , 0.02724857,\n",
       "        0.02582844, 0.0243063 , 0.02307939, 0.02017698, 0.02117552,\n",
       "        0.01753221, 0.01566516, 0.01649482, 0.01259573, 0.0116573 ,\n",
       "        0.01621524],\n",
       "       [0.03212399, 0.03449892, 0.02732192, 0.03282348, 0.03270299,\n",
       "        0.03275539, 0.03109608, 0.03032404, 0.03197518, 0.02891978,\n",
       "        0.02850401, 0.03263015, 0.03195949, 0.03351145, 0.03204509,\n",
       "        0.02991427, 0.03030883, 0.02821374, 0.02555675, 0.02645752,\n",
       "        0.02459266, 0.02407957, 0.02406651, 0.02218339, 0.02102132,\n",
       "        0.02287032, 0.0180503 , 0.01824739, 0.01466415, 0.01830034,\n",
       "        0.0196801 , 0.01702802, 0.0225967 , 0.01946239, 0.01822511,\n",
       "        0.01491143, 0.01242882, 0.01815016, 0.01091848, 0.01003386,\n",
       "        0.0148459 ],\n",
       "       [0.02474683, 0.02526593, 0.02662173, 0.02414572, 0.02446826,\n",
       "        0.02304292, 0.02433289, 0.02437926, 0.02391354, 0.02658673,\n",
       "        0.026157  , 0.02519509, 0.02602202, 0.02545515, 0.02757031,\n",
       "        0.02570243, 0.0283317 , 0.03022915, 0.02766334, 0.02723111,\n",
       "        0.03309982, 0.03389304, 0.03219925, 0.02968549, 0.03150733,\n",
       "        0.02778787, 0.02803698, 0.02357842, 0.0249297 , 0.02315072,\n",
       "        0.02407956, 0.02195547, 0.02237154, 0.01951783, 0.02081181,\n",
       "        0.01663866, 0.01444529, 0.01610379, 0.01208161, 0.0107996 ,\n",
       "        0.01626512]], dtype=float32)"
      ]
     },
     "execution_count": 23,
     "metadata": {},
     "output_type": "execute_result"
    }
   ],
   "source": [
    "print(mypop.target[0:3])\n",
    "mynet.net.predict(mypop.data[0:3,:,:,:])"
   ]
  },
  {
   "cell_type": "code",
   "execution_count": null,
   "metadata": {},
   "outputs": [],
   "source": []
  },
  {
   "cell_type": "code",
   "execution_count": null,
   "metadata": {},
   "outputs": [],
   "source": [
    "# build the newtork for regression\n",
    "mynet.net = models.Sequential()\n",
    "mynet.net.add(layers.Conv2D(32, (3,3), activation='relu', kernel_regularizer=regularizers.l2(0.001), padding='same', input_shape=mynet.input_shape))\n",
    "mynet.net.add(layers.MaxPool2D((2,2)))\n",
    "mynet.net.add(layers.Dropout(0.5))\n",
    "mynet.net.add(layers.Conv2D(32, (3,3), activation='relu', kernel_regularizer=regularizers.l2(0.001), padding='same', input_shape=mynet.input_shape))\n",
    "mynet.net.add(layers.MaxPool2D((2,2)))\n",
    "mynet.net.add(layers.Dropout(0.5))\n",
    "mynet.net.add(layers.Conv2D(32, (3,3), activation='relu', kernel_regularizer=regularizers.l2(0.001), padding='same', input_shape=mynet.input_shape))\n",
    "mynet.net.add(layers.MaxPool2D((2,2)))\n",
    "mynet.net.add(layers.Dropout(0.5))\n",
    "mynet.net.add(layers.Flatten())\n",
    "mynet.net.add(layers.Dense(128, activation = 'relu'))\n",
    "#mynet.net.add(layers.Dense(mynet.output_shape, activation = 'softmax'))\n",
    "mynet.net.add(layers.Dense(1, activation = 'relu'))"
   ]
  },
  {
   "cell_type": "code",
   "execution_count": null,
   "metadata": {},
   "outputs": [],
   "source": [
    "mynet.net.summary()\n",
    "plot_model(mynet.net, to_file='Data/net.png')"
   ]
  },
  {
   "cell_type": "code",
   "execution_count": null,
   "metadata": {},
   "outputs": [],
   "source": [
    "#mynet.net.compile(loss='categorical_crossentropy', optimizer=optimizers.Adam(), metrics=['acc'])\n",
    "mynet.net.compile(loss='mse', optimizer='rmsprop', metrics=['mae'])"
   ]
  },
  {
   "cell_type": "code",
   "execution_count": null,
   "metadata": {},
   "outputs": [],
   "source": [
    "mynet.train(epochs=5, batch_size=64)"
   ]
  },
  {
   "cell_type": "code",
   "execution_count": null,
   "metadata": {},
   "outputs": [],
   "source": [
    "mynet.plot_train()"
   ]
  },
  {
   "cell_type": "code",
   "execution_count": null,
   "metadata": {},
   "outputs": [],
   "source": [
    "scores = mynet.test()\n",
    "print(scores)"
   ]
  },
  {
   "cell_type": "code",
   "execution_count": null,
   "metadata": {},
   "outputs": [],
   "source": [
    "mynet.net.predict(mypop.data[:,:,:,:])"
   ]
  },
  {
   "cell_type": "code",
   "execution_count": null,
   "metadata": {},
   "outputs": [],
   "source": [
    "for i in len(mypop.data)\n",
    "print(mypop.target[0:3])\n",
    "mynet.net.predict(mypop.data[0:3,:,:,:])"
   ]
  },
  {
   "cell_type": "code",
   "execution_count": null,
   "metadata": {},
   "outputs": [],
   "source": [
    "from sklearn import datasets, linear_model\n",
    "\n",
    "# Load the diabetes dataset\n",
    "diabetes = datasets.load_diabetes\n",
    "\n",
    "\n",
    "# Use only one feature\n",
    "diabetes_X = diabetes.data[:, np.newaxis, 2]\n",
    "\n",
    "# Split the data into training/testing sets\n",
    "diabetes_X_train = diabetes_X[:-20]\n",
    "diabetes_X_test = diabetes_X[-20:]\n",
    "\n",
    "# Split the targets into training/testing sets\n",
    "diabetes_y_train = diabetes.target[:-20]\n",
    "diabetes_y_test = diabetes.target[-20:]\n",
    "\n",
    "# Create linear regression object\n",
    "regr = linear_model.LinearRegression\n",
    "\n",
    "# Train the model using the training sets\n",
    "regr.fit(diabetes_X_train, diabetes_y_train)\n",
    "\n",
    "# The coefficients\n",
    "print('Coefficients: \n",
    "', regr.coef_)\n",
    "# The mean square error\n",
    "print(\"Residual sum of squares: %.2f\"\n",
    " % np.mean((regr.predict(diabetes_X_test) - diabetes_y_test) ** 2))\n",
    "# Explained variance score: 1 is perfect prediction\n",
    "print('Variance score: %.2f' % regr.score(diabetes_X_test, diabetes_y_test))\n",
    "\n",
    "# Plot outputs\n",
    "plt.scatter(diabetes_X_test, diabetes_y_test, color='black')\n",
    "plt.plot(diabetes_X_test, regr.predict(diabetes_X_test), color='blue',\n",
    " linewidth=3)\n",
    "\n",
    "plt.xticks)\n",
    "plt.yticks)\n",
    "\n",
    "plt.show"
   ]
  }
 ],
 "metadata": {
  "kernelspec": {
   "display_name": "Python 3",
   "language": "python",
   "name": "python3"
  },
  "language_info": {
   "codemirror_mode": {
    "name": "ipython",
    "version": 3
   },
   "file_extension": ".py",
   "mimetype": "text/x-python",
   "name": "python",
   "nbconvert_exporter": "python",
   "pygments_lexer": "ipython3",
   "version": "3.6.7"
  }
 },
 "nbformat": 4,
 "nbformat_minor": 2
}
