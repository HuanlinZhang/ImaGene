{
 "cells": [
  {
   "cell_type": "markdown",
   "metadata": {},
   "source": [
    "# Tutorial"
   ]
  },
  {
   "cell_type": "markdown",
   "metadata": {},
   "source": [
    "Simulate genes under various levels of selection coefficient, with different demographic models (1,2,3-epoch) and with selection time between 15kya and 25 kya. Each scenario is run 3 times."
   ]
  },
  {
   "cell_type": "code",
   "execution_count": 1,
   "metadata": {},
   "outputs": [],
   "source": [
    "# bash generate_training_data.sh"
   ]
  },
  {
   "cell_type": "code",
   "execution_count": 2,
   "metadata": {},
   "outputs": [
    {
     "name": "stderr",
     "output_type": "stream",
     "text": [
      "Using TensorFlow backend.\n"
     ]
    }
   ],
   "source": [
    "import os\n",
    "import gzip\n",
    "\n",
    "import numpy as np\n",
    "import scipy.stats\n",
    "\n",
    "import skimage.transform\n",
    "from keras import models, layers, optimizers, regularizers\n",
    "from keras.utils import to_categorical, plot_model\n",
    "\n",
    "import matplotlib.pyplot as plt\n",
    "import pymc3\n",
    "import pydot"
   ]
  },
  {
   "cell_type": "code",
   "execution_count": 3,
   "metadata": {},
   "outputs": [],
   "source": [
    "%run -i ImaGene.py"
   ]
  },
  {
   "cell_type": "markdown",
   "metadata": {},
   "source": [
    "For the first analysis, we seek to understand the impact of sorting images on the quantification. \n",
    "We use 1-epoch model for this first analysis.\n",
    "Results will be visualised by linear regression plots."
   ]
  },
  {
   "cell_type": "markdown",
   "metadata": {},
   "source": [
    "Read simulations and store in object."
   ]
  },
  {
   "cell_type": "code",
   "execution_count": 4,
   "metadata": {},
   "outputs": [],
   "source": [
    "myfile = ImaFile(simulations_folder='/home/mfumagal/Data/ImaGene/Simulations1.Epoch1', nr_samples=128, model_name='Marth-1epoch-CEU')"
   ]
  },
  {
   "cell_type": "code",
   "execution_count": 5,
   "metadata": {},
   "outputs": [],
   "source": [
    "mypop = myfile.read_simulations(parameter_name='selection_coeff_hetero', max_nrepl=500)"
   ]
  },
  {
   "cell_type": "markdown",
   "metadata": {},
   "source": [
    "(optional) Save description of files in .json file"
   ]
  },
  {
   "cell_type": "code",
   "execution_count": 6,
   "metadata": {},
   "outputs": [],
   "source": [
    "import json\n",
    "\n",
    "with open('/home/mfumagal/Data/ImaGene/simulations1.Epoch1.json', 'w') as fp:\n",
    "    json.dump(mypop.description, fp, sort_keys=True, allow_nan=False, indent=4)"
   ]
  },
  {
   "cell_type": "markdown",
   "metadata": {},
   "source": [
    "(optional) Save the original data object."
   ]
  },
  {
   "cell_type": "code",
   "execution_count": 7,
   "metadata": {},
   "outputs": [],
   "source": [
    "import _pickle as pickle"
   ]
  },
  {
   "cell_type": "code",
   "execution_count": 8,
   "metadata": {},
   "outputs": [],
   "source": [
    "# to save, create folder\n",
    "os.mkdir('/home/mfumagal/Data/ImaGene/Sorting_effect_Epoch1')"
   ]
  },
  {
   "cell_type": "code",
   "execution_count": 9,
   "metadata": {},
   "outputs": [],
   "source": [
    "# save\n",
    "with open('/home/mfumagal/Data/ImaGene/Sorting_effect_Epoch1/mypop','wb') as fp:\n",
    "    pickle.dump(mypop, fp)"
   ]
  },
  {
   "cell_type": "code",
   "execution_count": 10,
   "metadata": {},
   "outputs": [],
   "source": [
    "# to load:\n",
    "with open('/home/mfumagal/Data/ImaGene/Sorting_effect_Epoch1/mypop','rb') as fp:\n",
    "    mypop = pickle.load(fp)"
   ]
  },
  {
   "cell_type": "markdown",
   "metadata": {},
   "source": [
    "Explore the object (with nrepl=20 we have 40100 images)."
   ]
  },
  {
   "cell_type": "code",
   "execution_count": 11,
   "metadata": {},
   "outputs": [
    {
     "name": "stdout",
     "output_type": "stream",
     "text": [
      "An object of 20500 images\n",
      "Rows: min 128, max 128, mean 128.000000, std 0.000000\n",
      "Columns: min 100, max 470, mean 303.265122, std 47.633684\n"
     ]
    },
    {
     "data": {
      "text/plain": [
       "0"
      ]
     },
     "execution_count": 11,
     "metadata": {},
     "output_type": "execute_result"
    }
   ],
   "source": [
    "mypop.summary()"
   ]
  },
  {
   "cell_type": "code",
   "execution_count": 12,
   "metadata": {},
   "outputs": [
    {
     "name": "stdout",
     "output_type": "stream",
     "text": [
      "20500\n",
      "(128, 388, 1)\n",
      "uint8\n"
     ]
    }
   ],
   "source": [
    "print(len(mypop.data))\n",
    "print(mypop.data[0].shape)\n",
    "print(mypop.data[0].dtype)"
   ]
  },
  {
   "cell_type": "markdown",
   "metadata": {},
   "source": [
    "Plot one image for no selection, at 1% and at 2%"
   ]
  },
  {
   "cell_type": "code",
   "execution_count": 13,
   "metadata": {},
   "outputs": [
    {
     "data": {
      "image/png": "[encoded data removed]",
      "text/plain": [
       "<Figure size 432x288 with 1 Axes>"
      ]
     },
     "metadata": {
      "needs_background": "light"
     },
     "output_type": "display_data"
    },
    {
     "name": "stdout",
     "output_type": "stream",
     "text": [
      "{'name': '/home/mfumagal/Data/ImaGene/Simulations1.Epoch1/msms..20...0100..txt.gz', 'Nref': 10000, 'nr_chroms': 128, 'nr_replicates': 20000, 'mutation_rate': 60.0, 'recombination_rate': 40.0, 'recombination_rate_nr_sites': 10000, 'selection_position': 0.5, 'selection_start_time': 0.01, 'selection_start_frequency': 0.005, 'selection_coeff_HOMO': 40.0, 'selection_coeff_hetero': 20.0, 'selection_coeff_homo': 0.0, 'model': 'Marth-1epoch-CEU', 'modification_stamp': 1546529619.5737383, 'active': 'active'}\n"
     ]
    }
   ],
   "source": [
    "mypop.plot(0)\n",
    "print(mypop.description[0])"
   ]
  },
  {
   "cell_type": "code",
   "execution_count": 14,
   "metadata": {},
   "outputs": [
    {
     "data": {
      "image/png": "[encoded data removed]",
      "text/plain": [
       "<Figure size 432x288 with 1 Axes>"
      ]
     },
     "metadata": {
      "needs_background": "light"
     },
     "output_type": "display_data"
    },
    {
     "name": "stdout",
     "output_type": "stream",
     "text": [
      "{'name': '/home/mfumagal/Data/ImaGene/Simulations1.Epoch1/msms..0...0100..txt.gz', 'Nref': 10000, 'nr_chroms': 128, 'nr_replicates': 20000, 'mutation_rate': 60.0, 'recombination_rate': 40.0, 'recombination_rate_nr_sites': 10000, 'selection_position': 0.5, 'selection_start_time': 0.01, 'selection_start_frequency': 0.005, 'selection_coeff_HOMO': 0.0, 'selection_coeff_hetero': 0.0, 'selection_coeff_homo': 0.0, 'model': 'Marth-1epoch-CEU', 'modification_stamp': 1546529544.929294, 'active': 'active'}\n"
     ]
    },
    {
     "data": {
      "text/plain": [
       "(128, 361, 1)"
      ]
     },
     "execution_count": 14,
     "metadata": {},
     "output_type": "execute_result"
    }
   ],
   "source": [
    "idx = np.where(mypop.target==0)[0][0]\n",
    "mypop.plot(idx)\n",
    "print(mypop.description[idx])\n",
    "mypop.data[idx].shape"
   ]
  },
  {
   "cell_type": "code",
   "execution_count": 15,
   "metadata": {},
   "outputs": [
    {
     "data": {
      "image/png": "[encoded data removed]",
      "text/plain": [
       "<Figure size 432x288 with 1 Axes>"
      ]
     },
     "metadata": {
      "needs_background": "light"
     },
     "output_type": "display_data"
    },
    {
     "name": "stdout",
     "output_type": "stream",
     "text": [
      "{'name': '/home/mfumagal/Data/ImaGene/Simulations1.Epoch1/msms..400...0100..txt.gz', 'Nref': 10000, 'nr_chroms': 128, 'nr_replicates': 20000, 'mutation_rate': 60.0, 'recombination_rate': 40.0, 'recombination_rate_nr_sites': 10000, 'selection_position': 0.5, 'selection_start_time': 0.01, 'selection_start_frequency': 0.005, 'selection_coeff_HOMO': 800.0, 'selection_coeff_hetero': 400.0, 'selection_coeff_homo': 0.0, 'model': 'Marth-1epoch-CEU', 'modification_stamp': 1546530833.4447079, 'active': 'active'}\n"
     ]
    },
    {
     "data": {
      "text/plain": [
       "(128, 211, 1)"
      ]
     },
     "execution_count": 15,
     "metadata": {},
     "output_type": "execute_result"
    }
   ],
   "source": [
    "idx = np.where(mypop.target==400)[0][0]\n",
    "mypop.plot(idx)\n",
    "print(mypop.description[idx])\n",
    "mypop.data[idx].shape"
   ]
  },
  {
   "cell_type": "markdown",
   "metadata": {},
   "source": [
    "Switch to major/minor allele polarisation."
   ]
  },
  {
   "cell_type": "code",
   "execution_count": 16,
   "metadata": {},
   "outputs": [
    {
     "data": {
      "image/png": "[encoded data removed]",
      "text/plain": [
       "<Figure size 432x288 with 1 Axes>"
      ]
     },
     "metadata": {
      "needs_background": "light"
     },
     "output_type": "display_data"
    },
    {
     "data": {
      "text/plain": [
       "0"
      ]
     },
     "execution_count": 16,
     "metadata": {},
     "output_type": "execute_result"
    }
   ],
   "source": [
    "mypop.majorminor()\n",
    "mypop.plot(0)"
   ]
  },
  {
   "cell_type": "markdown",
   "metadata": {},
   "source": [
    "Filter out rare variants."
   ]
  },
  {
   "cell_type": "code",
   "execution_count": 17,
   "metadata": {},
   "outputs": [
    {
     "data": {
      "image/png": "[encoded data removed]",
      "text/plain": [
       "<Figure size 432x288 with 1 Axes>"
      ]
     },
     "metadata": {
      "needs_background": "light"
     },
     "output_type": "display_data"
    },
    {
     "data": {
      "text/plain": [
       "(128, 332, 1)"
      ]
     },
     "execution_count": 17,
     "metadata": {},
     "output_type": "execute_result"
    }
   ],
   "source": [
    "mypop.filter_freq(0.01)\n",
    "mypop.plot(0)\n",
    "mypop.data[0].shape"
   ]
  },
  {
   "cell_type": "code",
   "execution_count": 18,
   "metadata": {},
   "outputs": [
    {
     "name": "stdout",
     "output_type": "stream",
     "text": [
      "An object of 20500 images\n",
      "Rows: min 128, max 128, mean 128.000000, std 0.000000\n",
      "Columns: min 59, max 402, mean 243.107268, std 45.928052\n"
     ]
    },
    {
     "data": {
      "text/plain": [
       "0"
      ]
     },
     "execution_count": 18,
     "metadata": {},
     "output_type": "execute_result"
    }
   ],
   "source": [
    "mypop.summary()"
   ]
  },
  {
   "cell_type": "code",
   "execution_count": 19,
   "metadata": {},
   "outputs": [],
   "source": [
    "# optional\n",
    "with open('/home/mfumagal/Data/ImaGene/Sorting_effect_Epoch1/mypop_majorminor_filtered','wb') as fp:\n",
    "    pickle.dump(mypop, fp)"
   ]
  },
  {
   "cell_type": "markdown",
   "metadata": {},
   "source": [
    "Sort images using different orderings.\n",
    "Then resize to same dimensions 128x128.\n",
    "Then convert them to float numpy arrays and shuffle using the same order."
   ]
  },
  {
   "cell_type": "code",
   "execution_count": 20,
   "metadata": {},
   "outputs": [],
   "source": [
    "shuffle_index = np.random.permutation(len(mypop.data))"
   ]
  },
  {
   "cell_type": "code",
   "execution_count": 21,
   "metadata": {},
   "outputs": [
    {
     "data": {
      "image/png": "[encoded data removed]",
      "text/plain": [
       "<Figure size 432x288 with 1 Axes>"
      ]
     },
     "metadata": {
      "needs_background": "light"
     },
     "output_type": "display_data"
    },
    {
     "name": "stdout",
     "output_type": "stream",
     "text": [
      "Converting to numpy array.\n",
      "Converting to float32.\n",
      "Converting to [0,1].\n",
      "A numpy array with dimensions (20500, 128, 128, 1) and target with length 20500 and 41 classes.\n"
     ]
    }
   ],
   "source": [
    "## NONE\n",
    "# load fresh object\n",
    "with open('/home/mfumagal/Data/ImaGene/Sorting_effect_Epoch1/mypop_majorminor_filtered','rb') as fp:\n",
    "    mypop = pickle.load(fp)\n",
    "# sort and resize\n",
    "mypop.resize((128, 128))\n",
    "mypop.plot(0)\n",
    "# convert and shuffle\n",
    "mypop.convert()\n",
    "mypop.shuffle(shuffle_index)\n",
    "# save\n",
    "with open('/home/mfumagal/Data/ImaGene/Sorting_effect_Epoch1/mypop_majorminor_filtered_sortednone','wb') as fp:\n",
    "    pickle.dump(mypop, fp)"
   ]
  },
  {
   "cell_type": "code",
   "execution_count": 22,
   "metadata": {},
   "outputs": [
    {
     "data": {
      "image/png": "[encoded data removed]",
      "text/plain": [
       "<Figure size 432x288 with 1 Axes>"
      ]
     },
     "metadata": {
      "needs_background": "light"
     },
     "output_type": "display_data"
    },
    {
     "name": "stdout",
     "output_type": "stream",
     "text": [
      "Converting to numpy array.\n",
      "Converting to float32.\n",
      "Converting to [0,1].\n",
      "A numpy array with dimensions (20500, 128, 128, 1) and target with length 20500 and 41 classes.\n"
     ]
    }
   ],
   "source": [
    "## ROWS FREQ\n",
    "# load fresh object\n",
    "with open('/home/mfumagal/Data/ImaGene/Sorting_effect_Epoch1/mypop_majorminor_filtered','rb') as fp:\n",
    "    mypop = pickle.load(fp)\n",
    "# sort and resize\n",
    "mypop.sort('rows_freq')\n",
    "mypop.resize((128, 128))\n",
    "mypop.plot(0)\n",
    "# convert and shuffle\n",
    "mypop.convert()\n",
    "mypop.shuffle(shuffle_index)\n",
    "# save\n",
    "with open('/home/mfumagal/Data/ImaGene/Sorting_effect_Epoch1/mypop_majorminor_filtered_sortedrowsfreq','wb') as fp:\n",
    "    pickle.dump(mypop, fp)"
   ]
  },
  {
   "cell_type": "code",
   "execution_count": 23,
   "metadata": {},
   "outputs": [
    {
     "data": {
      "image/png": "[encoded data removed]",
      "text/plain": [
       "<Figure size 432x288 with 1 Axes>"
      ]
     },
     "metadata": {
      "needs_background": "light"
     },
     "output_type": "display_data"
    },
    {
     "name": "stdout",
     "output_type": "stream",
     "text": [
      "Converting to numpy array.\n",
      "Converting to float32.\n",
      "Converting to [0,1].\n",
      "A numpy array with dimensions (20500, 128, 128, 1) and target with length 20500 and 41 classes.\n"
     ]
    }
   ],
   "source": [
    "## COLS FREQ\n",
    "# load fresh object\n",
    "with open('/home/mfumagal/Data/ImaGene/Sorting_effect_Epoch1/mypop_majorminor_filtered','rb') as fp:\n",
    "    mypop = pickle.load(fp)\n",
    "# sort and resize\n",
    "mypop.sort('cols_freq')\n",
    "mypop.resize((128, 128))\n",
    "mypop.plot(0)\n",
    "# convert and shuffle\n",
    "mypop.convert()\n",
    "mypop.shuffle(shuffle_index)\n",
    "# save\n",
    "with open('/home/mfumagal/Data/ImaGene/Sorting_effect_Epoch1/mypop_majorminor_filtered_sortedcolsfreq','wb') as fp:\n",
    "    pickle.dump(mypop, fp)"
   ]
  },
  {
   "cell_type": "code",
   "execution_count": 24,
   "metadata": {},
   "outputs": [
    {
     "data": {
      "image/png": "[encoded data removed]",
      "text/plain": [
       "<Figure size 432x288 with 1 Axes>"
      ]
     },
     "metadata": {
      "needs_background": "light"
     },
     "output_type": "display_data"
    },
    {
     "name": "stdout",
     "output_type": "stream",
     "text": [
      "Converting to numpy array.\n",
      "Converting to float32.\n",
      "Converting to [0,1].\n",
      "A numpy array with dimensions (20500, 128, 128, 1) and target with length 20500 and 41 classes.\n"
     ]
    }
   ],
   "source": [
    "## ROWS+COLS FREQ\n",
    "# load fresh object\n",
    "with open('/home/mfumagal/Data/ImaGene/Sorting_effect_Epoch1/mypop_majorminor_filtered','rb') as fp:\n",
    "    mypop = pickle.load(fp)\n",
    "# sort and resize\n",
    "mypop.sort('rows_freq')\n",
    "mypop.sort('cols_freq')\n",
    "mypop.resize((128, 128))\n",
    "mypop.plot(0)\n",
    "# convert and shuffle\n",
    "mypop.convert()\n",
    "mypop.shuffle(shuffle_index)\n",
    "# save\n",
    "with open('/home/mfumagal/Data/ImaGene/Sorting_effect_Epoch1/mypop_majorminor_filtered_sortedrowscolsfreq','wb') as fp:\n",
    "    pickle.dump(mypop, fp)"
   ]
  },
  {
   "cell_type": "code",
   "execution_count": 25,
   "metadata": {},
   "outputs": [
    {
     "data": {
      "image/png": "[encoded data removed]",
      "text/plain": [
       "<Figure size 432x288 with 1 Axes>"
      ]
     },
     "metadata": {
      "needs_background": "light"
     },
     "output_type": "display_data"
    },
    {
     "name": "stdout",
     "output_type": "stream",
     "text": [
      "Converting to numpy array.\n",
      "Converting to float32.\n",
      "Converting to [0,1].\n",
      "A numpy array with dimensions (20500, 128, 128, 1) and target with length 20500 and 41 classes.\n"
     ]
    }
   ],
   "source": [
    "## ROWS+COLS DISTANCE\n",
    "# load fresh object\n",
    "with open('/home/mfumagal/Data/ImaGene/Sorting_effect_Epoch1/mypop_majorminor_filtered','rb') as fp:\n",
    "    mypop = pickle.load(fp)\n",
    "# sort and resize\n",
    "mypop.sort('rows_distance_top')\n",
    "mypop.sort('cols_distance_top')\n",
    "mypop.resize((128, 128))\n",
    "mypop.plot(0)\n",
    "# convert and shuffle\n",
    "mypop.convert()\n",
    "mypop.shuffle(shuffle_index)\n",
    "# save\n",
    "with open('/home/mfumagal/Data/ImaGene/Sorting_effect_Epoch1/mypop_majorminor_filtered_sortedrowscolsdist','wb') as fp:\n",
    "    pickle.dump(mypop, fp)"
   ]
  },
  {
   "cell_type": "code",
   "execution_count": 26,
   "metadata": {},
   "outputs": [
    {
     "data": {
      "image/png": "[encoded data removed]",
      "text/plain": [
       "<Figure size 432x288 with 1 Axes>"
      ]
     },
     "metadata": {
      "needs_background": "light"
     },
     "output_type": "display_data"
    },
    {
     "name": "stdout",
     "output_type": "stream",
     "text": [
      "Converting to numpy array.\n",
      "Converting to float32.\n",
      "Converting to [0,1].\n",
      "A numpy array with dimensions (20500, 128, 128, 1) and target with length 20500 and 41 classes.\n"
     ]
    }
   ],
   "source": [
    "## ROWS DISTANCE\n",
    "# load fresh object\n",
    "with open('/home/mfumagal/Data/ImaGene/Sorting_effect_Epoch1/mypop_majorminor_filtered','rb') as fp:\n",
    "    mypop = pickle.load(fp)\n",
    "# sort and resize\n",
    "mypop.sort('rows_distance_top')\n",
    "mypop.resize((128, 128))\n",
    "mypop.plot(0)\n",
    "# convert and shuffle\n",
    "mypop.convert()\n",
    "mypop.shuffle(shuffle_index)\n",
    "# save\n",
    "with open('/home/mfumagal/Data/ImaGene/Sorting_effect_Epoch1/mypop_majorminor_filtered_sortedrowsdist','wb') as fp:\n",
    "    pickle.dump(mypop, fp)"
   ]
  },
  {
   "cell_type": "code",
   "execution_count": 27,
   "metadata": {},
   "outputs": [
    {
     "data": {
      "image/png": "[encoded data removed]",
      "text/plain": [
       "<Figure size 432x288 with 1 Axes>"
      ]
     },
     "metadata": {
      "needs_background": "light"
     },
     "output_type": "display_data"
    },
    {
     "name": "stdout",
     "output_type": "stream",
     "text": [
      "Converting to numpy array.\n",
      "Converting to float32.\n",
      "Converting to [0,1].\n",
      "A numpy array with dimensions (20500, 128, 128, 1) and target with length 20500 and 41 classes.\n"
     ]
    }
   ],
   "source": [
    "## COLS DISTANCE\n",
    "# load fresh object\n",
    "with open('/home/mfumagal/Data/ImaGene/Sorting_effect_Epoch1/mypop_majorminor_filtered','rb') as fp:\n",
    "    mypop = pickle.load(fp)\n",
    "# sort and resize\n",
    "mypop.sort('cols_distance_top')\n",
    "mypop.resize((128, 128))\n",
    "mypop.plot(0)\n",
    "# convert and shuffle\n",
    "mypop.convert()\n",
    "mypop.shuffle(shuffle_index)\n",
    "# save\n",
    "with open('/home/mfumagal/Data/ImaGene/Sorting_effect_Epoch1/mypop_majorminor_filtered_sortedcolsdist','wb') as fp:\n",
    "    pickle.dump(mypop, fp)"
   ]
  },
  {
   "cell_type": "code",
   "execution_count": 28,
   "metadata": {},
   "outputs": [
    {
     "data": {
      "image/png": "[encoded data removed]",
      "text/plain": [
       "<Figure size 432x288 with 1 Axes>"
      ]
     },
     "metadata": {
      "needs_background": "light"
     },
     "output_type": "display_data"
    },
    {
     "name": "stdout",
     "output_type": "stream",
     "text": [
      "Converting to numpy array.\n",
      "Converting to float32.\n",
      "Converting to [0,1].\n",
      "A numpy array with dimensions (20500, 128, 128, 1) and target with length 20500 and 41 classes.\n"
     ]
    }
   ],
   "source": [
    "## ROWS DISTANCE + COLS FREQ\n",
    "# load fresh object\n",
    "with open('/home/mfumagal/Data/ImaGene/Sorting_effect_Epoch1/mypop_majorminor_filtered','rb') as fp:\n",
    "    mypop = pickle.load(fp)\n",
    "# sort and resize\n",
    "mypop.sort('rows_distance_top')\n",
    "mypop.sort('cols_freq')\n",
    "mypop.resize((128, 128))\n",
    "mypop.plot(0)\n",
    "# convert and shuffle\n",
    "mypop.convert()\n",
    "mypop.shuffle(shuffle_index)\n",
    "# save\n",
    "with open('/home/mfumagal/Data/ImaGene/Sorting_effect_Epoch1/mypop_majorminor_filtered_sortedrowsdistcolsfreq','wb') as fp:\n",
    "    pickle.dump(mypop, fp)"
   ]
  },
  {
   "cell_type": "code",
   "execution_count": null,
   "metadata": {},
   "outputs": [],
   "source": []
  },
  {
   "cell_type": "code",
   "execution_count": null,
   "metadata": {},
   "outputs": [],
   "source": []
  }
 ],
 "metadata": {
  "kernelspec": {
   "display_name": "Python 3",
   "language": "python",
   "name": "python3"
  },
  "language_info": {
   "codemirror_mode": {
    "name": "ipython",
    "version": 3
   },
   "file_extension": ".py",
   "mimetype": "text/x-python",
   "name": "python",
   "nbconvert_exporter": "python",
   "pygments_lexer": "ipython3",
   "version": "3.6.7"
  }
 },
 "nbformat": 4,
 "nbformat_minor": 2
}
