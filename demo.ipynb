{
 "cells": [
  {
   "cell_type": "markdown",
   "metadata": {},
   "source": [
    "# Tutorial"
   ]
  },
  {
   "cell_type": "markdown",
   "metadata": {},
   "source": [
    "Simulate genes under various levels of selection coefficient, with different demographic models (1,2,3-epoch) and with selection time between 15kya and 25 kya. "
   ]
  },
  {
   "cell_type": "code",
   "execution_count": null,
   "metadata": {},
   "outputs": [],
   "source": [
    "# bash generate_training_data.sh"
   ]
  },
  {
   "cell_type": "code",
   "execution_count": 1,
   "metadata": {},
   "outputs": [
    {
     "name": "stderr",
     "output_type": "stream",
     "text": [
      "Using TensorFlow backend.\n"
     ]
    }
   ],
   "source": [
    "import os\n",
    "import gzip\n",
    "\n",
    "import numpy as np\n",
    "import scipy.stats\n",
    "\n",
    "import skimage.transform\n",
    "from keras import models, layers, optimizers, regularizers\n",
    "from keras.utils import to_categorical, plot_model\n",
    "\n",
    "import matplotlib.pyplot as plt\n",
    "import pymc3\n",
    "import pydot"
   ]
  },
  {
   "cell_type": "code",
   "execution_count": 2,
   "metadata": {},
   "outputs": [],
   "source": [
    "%run -i ImaGene.py"
   ]
  },
  {
   "cell_type": "markdown",
   "metadata": {},
   "source": [
    "For the first analysis, we seek to understand the impact of soring images on the quantification. \n",
    "We use 1-epoch model for this first analysis.\n",
    "Results will be visualised by linear regression plots."
   ]
  },
  {
   "cell_type": "markdown",
   "metadata": {},
   "source": [
    "Read simulations and store in object."
   ]
  },
  {
   "cell_type": "code",
   "execution_count": 3,
   "metadata": {},
   "outputs": [],
   "source": [
    "myfile = ImaFile(simulations_folder='/home/mfumagal/Data/ImaGene/Simulations_Epoch1', nr_samples=128, model_name='Marth-1epoch-CEU')"
   ]
  },
  {
   "cell_type": "code",
   "execution_count": 5,
   "metadata": {},
   "outputs": [
    {
     "name": "stdout",
     "output_type": "stream",
     "text": [
      "Local current time : time.struct_time(tm_year=2018, tm_mon=12, tm_mday=20, tm_hour=12, tm_min=5, tm_sec=51, tm_wday=3, tm_yday=354, tm_isdst=0)\n",
      "Local current time : time.struct_time(tm_year=2018, tm_mon=12, tm_mday=20, tm_hour=12, tm_min=5, tm_sec=51, tm_wday=3, tm_yday=354, tm_isdst=0)\n"
     ]
    }
   ],
   "source": [
    "import time\n",
    "localtime = time.localtime(time.time())\n",
    "print(\"Local current time :\", localtime)\n",
    "localtime = time.localtime(time.time())\n",
    "print(\"Local current time :\", localtime)"
   ]
  },
  {
   "cell_type": "code",
   "execution_count": 6,
   "metadata": {},
   "outputs": [
    {
     "name": "stdout",
     "output_type": "stream",
     "text": [
      "Local current time : time.struct_time(tm_year=2018, tm_mon=12, tm_mday=20, tm_hour=12, tm_min=6, tm_sec=31, tm_wday=3, tm_yday=354, tm_isdst=0)\n",
      "/home/mfumagal/Data/ImaGene/Simulations_Epoch1/msms..280...0150..txt.gz : 2000\n",
      "/home/mfumagal/Data/ImaGene/Simulations_Epoch1/msms..130...0175..txt.gz : 2000\n",
      "/home/mfumagal/Data/ImaGene/Simulations_Epoch1/msms..140...0250..txt.gz : 2000\n",
      "/home/mfumagal/Data/ImaGene/Simulations_Epoch1/msms..300...0250..txt.gz : 2000\n",
      "/home/mfumagal/Data/ImaGene/Simulations_Epoch1/msms..200...0225..txt.gz : 2000\n",
      "/home/mfumagal/Data/ImaGene/Simulations_Epoch1/msms..210...0225..txt.gz : 2000\n",
      "/home/mfumagal/Data/ImaGene/Simulations_Epoch1/msms..240...0200..txt.gz : 2000\n",
      "/home/mfumagal/Data/ImaGene/Simulations_Epoch1/msms..90...0200..txt.gz : 2000\n",
      "/home/mfumagal/Data/ImaGene/Simulations_Epoch1/msms..260...0225..txt.gz : 2000\n",
      "/home/mfumagal/Data/ImaGene/Simulations_Epoch1/msms..210...0250..txt.gz : 2000\n",
      "/home/mfumagal/Data/ImaGene/Simulations_Epoch1/msms..230...0200..txt.gz : 2000\n",
      "/home/mfumagal/Data/ImaGene/Simulations_Epoch1/msms..160...0225..txt.gz : 2000\n",
      "/home/mfumagal/Data/ImaGene/Simulations_Epoch1/msms..300...0200..txt.gz : 2000\n",
      "/home/mfumagal/Data/ImaGene/Simulations_Epoch1/msms..110...0250..txt.gz : 2000\n",
      "/home/mfumagal/Data/ImaGene/Simulations_Epoch1/msms..80...0175..txt.gz : 2000\n",
      "/home/mfumagal/Data/ImaGene/Simulations_Epoch1/msms..390...0175..txt.gz : 2000\n",
      "/home/mfumagal/Data/ImaGene/Simulations_Epoch1/msms..150...0250..txt.gz : 2000\n",
      "/home/mfumagal/Data/ImaGene/Simulations_Epoch1/msms..260...0175..txt.gz : 2000\n",
      "/home/mfumagal/Data/ImaGene/Simulations_Epoch1/msms..220...0200..txt.gz : 2000\n",
      "/home/mfumagal/Data/ImaGene/Simulations_Epoch1/msms..340...0200..txt.gz : 2000\n",
      "/home/mfumagal/Data/ImaGene/Simulations_Epoch1/msms..380...0200..txt.gz : 2000\n",
      "/home/mfumagal/Data/ImaGene/Simulations_Epoch1/msms..150...0200..txt.gz : 2000\n",
      "/home/mfumagal/Data/ImaGene/Simulations_Epoch1/msms..70...0150..txt.gz : 2000\n",
      "/home/mfumagal/Data/ImaGene/Simulations_Epoch1/msms..210...0200..txt.gz : 2000\n",
      "/home/mfumagal/Data/ImaGene/Simulations_Epoch1/msms..340...0150..txt.gz : 2000\n",
      "/home/mfumagal/Data/ImaGene/Simulations_Epoch1/msms..100...0150..txt.gz : 2000\n",
      "/home/mfumagal/Data/ImaGene/Simulations_Epoch1/msms..260...0150..txt.gz : 2000\n",
      "/home/mfumagal/Data/ImaGene/Simulations_Epoch1/msms..10...0225..txt.gz : 2000\n",
      "/home/mfumagal/Data/ImaGene/Simulations_Epoch1/msms..230...0250..txt.gz : 2000\n",
      "/home/mfumagal/Data/ImaGene/Simulations_Epoch1/msms..220...0225..txt.gz : 2000\n",
      "/home/mfumagal/Data/ImaGene/Simulations_Epoch1/msms..140...0175..txt.gz : 2000\n",
      "/home/mfumagal/Data/ImaGene/Simulations_Epoch1/msms..350...0250..txt.gz : 2000\n",
      "/home/mfumagal/Data/ImaGene/Simulations_Epoch1/msms..0...0200..txt.gz : 2000\n",
      "/home/mfumagal/Data/ImaGene/Simulations_Epoch1/msms..110...0225..txt.gz : 2000\n",
      "/home/mfumagal/Data/ImaGene/Simulations_Epoch1/msms..260...0200..txt.gz : 2000\n",
      "/home/mfumagal/Data/ImaGene/Simulations_Epoch1/msms..0...0175..txt.gz : 2000\n",
      "/home/mfumagal/Data/ImaGene/Simulations_Epoch1/msms..80...0225..txt.gz : 2000\n",
      "/home/mfumagal/Data/ImaGene/Simulations_Epoch1/msms..120...0150..txt.gz : 2000\n",
      "/home/mfumagal/Data/ImaGene/Simulations_Epoch1/msms..80...0150..txt.gz : 2000\n",
      "/home/mfumagal/Data/ImaGene/Simulations_Epoch1/msms..120...0250..txt.gz : 2000\n",
      "/home/mfumagal/Data/ImaGene/Simulations_Epoch1/msms..390...0250..txt.gz : 2000\n",
      "/home/mfumagal/Data/ImaGene/Simulations_Epoch1/msms..360...0175..txt.gz : 2000\n",
      "/home/mfumagal/Data/ImaGene/Simulations_Epoch1/msms..220...0250..txt.gz : 2000\n",
      "/home/mfumagal/Data/ImaGene/Simulations_Epoch1/msms..220...0175..txt.gz : 2000\n",
      "/home/mfumagal/Data/ImaGene/Simulations_Epoch1/msms..70...0200..txt.gz : 2000\n",
      "/home/mfumagal/Data/ImaGene/Simulations_Epoch1/msms..380...0225..txt.gz : 2000\n",
      "/home/mfumagal/Data/ImaGene/Simulations_Epoch1/msms..100...0250..txt.gz : 2000\n",
      "/home/mfumagal/Data/ImaGene/Simulations_Epoch1/msms..30...0200..txt.gz : 2000\n",
      "/home/mfumagal/Data/ImaGene/Simulations_Epoch1/msms..60...0150..txt.gz : 2000\n",
      "/home/mfumagal/Data/ImaGene/Simulations_Epoch1/msms..290...0250..txt.gz : 2000\n",
      "/home/mfumagal/Data/ImaGene/Simulations_Epoch1/msms..10...0250..txt.gz : 2000\n",
      "/home/mfumagal/Data/ImaGene/Simulations_Epoch1/msms..130...0150..txt.gz : 2000\n",
      "/home/mfumagal/Data/ImaGene/Simulations_Epoch1/msms..360...0250..txt.gz : 2000\n",
      "/home/mfumagal/Data/ImaGene/Simulations_Epoch1/msms..210...0150..txt.gz : 2000\n",
      "/home/mfumagal/Data/ImaGene/Simulations_Epoch1/msms..280...0175..txt.gz : 2000\n",
      "/home/mfumagal/Data/ImaGene/Simulations_Epoch1/msms..350...0200..txt.gz : 2000\n",
      "/home/mfumagal/Data/ImaGene/Simulations_Epoch1/msms..120...0225..txt.gz : 2000\n",
      "/home/mfumagal/Data/ImaGene/Simulations_Epoch1/msms..280...0200..txt.gz : 2000\n",
      "/home/mfumagal/Data/ImaGene/Simulations_Epoch1/msms..350...0175..txt.gz : 2000\n",
      "/home/mfumagal/Data/ImaGene/Simulations_Epoch1/msms..50...0175..txt.gz : 2000\n",
      "/home/mfumagal/Data/ImaGene/Simulations_Epoch1/msms..320...0250..txt.gz : 2000\n",
      "/home/mfumagal/Data/ImaGene/Simulations_Epoch1/msms..110...0150..txt.gz : 2000\n",
      "/home/mfumagal/Data/ImaGene/Simulations_Epoch1/msms..40...0200..txt.gz : 2000\n",
      "/home/mfumagal/Data/ImaGene/Simulations_Epoch1/msms..190...0200..txt.gz : 2000\n",
      "/home/mfumagal/Data/ImaGene/Simulations_Epoch1/msms..50...0250..txt.gz : 2000\n",
      "/home/mfumagal/Data/ImaGene/Simulations_Epoch1/msms..60...0225..txt.gz : 2000\n",
      "/home/mfumagal/Data/ImaGene/Simulations_Epoch1/msms..240...0250..txt.gz : 2000\n",
      "/home/mfumagal/Data/ImaGene/Simulations_Epoch1/msms..270...0250..txt.gz : 2000\n",
      "/home/mfumagal/Data/ImaGene/Simulations_Epoch1/msms..290...0200..txt.gz : 2000\n",
      "/home/mfumagal/Data/ImaGene/Simulations_Epoch1/msms..370...0175..txt.gz : 2000\n",
      "/home/mfumagal/Data/ImaGene/Simulations_Epoch1/msms..170...0200..txt.gz : 2000\n",
      "/home/mfumagal/Data/ImaGene/Simulations_Epoch1/msms..400...0150..txt.gz : 2000\n",
      "/home/mfumagal/Data/ImaGene/Simulations_Epoch1/msms..330...0200..txt.gz : 2000\n",
      "/home/mfumagal/Data/ImaGene/Simulations_Epoch1/msms..310...0150..txt.gz : 2000\n",
      "/home/mfumagal/Data/ImaGene/Simulations_Epoch1/msms..40...0250..txt.gz : 2000\n",
      "/home/mfumagal/Data/ImaGene/Simulations_Epoch1/msms..320...0225..txt.gz : 2000\n",
      "/home/mfumagal/Data/ImaGene/Simulations_Epoch1/msms..200...0250..txt.gz : 2000\n",
      "/home/mfumagal/Data/ImaGene/Simulations_Epoch1/msms..390...0200..txt.gz : 2000\n",
      "/home/mfumagal/Data/ImaGene/Simulations_Epoch1/msms..70...0175..txt.gz : 2000\n",
      "/home/mfumagal/Data/ImaGene/Simulations_Epoch1/msms..160...0200..txt.gz : 2000\n",
      "/home/mfumagal/Data/ImaGene/Simulations_Epoch1/msms..0...0150..txt.gz : 2000\n",
      "/home/mfumagal/Data/ImaGene/Simulations_Epoch1/msms..170...0150..txt.gz : 2000\n",
      "/home/mfumagal/Data/ImaGene/Simulations_Epoch1/msms..110...0200..txt.gz : 2000\n",
      "/home/mfumagal/Data/ImaGene/Simulations_Epoch1/msms..340...0175..txt.gz : 2000\n",
      "/home/mfumagal/Data/ImaGene/Simulations_Epoch1/msms..270...0150..txt.gz : 2000\n",
      "/home/mfumagal/Data/ImaGene/Simulations_Epoch1/msms..250...0225..txt.gz : 2000\n",
      "/home/mfumagal/Data/ImaGene/Simulations_Epoch1/msms..190...0250..txt.gz : 2000\n",
      "/home/mfumagal/Data/ImaGene/Simulations_Epoch1/msms..20...0150..txt.gz : 2000\n",
      "/home/mfumagal/Data/ImaGene/Simulations_Epoch1/msms..190...0225..txt.gz : 2000\n",
      "/home/mfumagal/Data/ImaGene/Simulations_Epoch1/msms..270...0175..txt.gz : 2000\n",
      "/home/mfumagal/Data/ImaGene/Simulations_Epoch1/msms..200...0175..txt.gz : 2000\n",
      "/home/mfumagal/Data/ImaGene/Simulations_Epoch1/msms..170...0175..txt.gz : 2000\n",
      "/home/mfumagal/Data/ImaGene/Simulations_Epoch1/msms..160...0175..txt.gz : 2000\n",
      "/home/mfumagal/Data/ImaGene/Simulations_Epoch1/msms..80...0200..txt.gz : 2000\n",
      "/home/mfumagal/Data/ImaGene/Simulations_Epoch1/msms..380...0250..txt.gz : 2000\n",
      "/home/mfumagal/Data/ImaGene/Simulations_Epoch1/msms..330...0150..txt.gz : 2000\n",
      "/home/mfumagal/Data/ImaGene/Simulations_Epoch1/msms..280...0250..txt.gz : 2000\n",
      "/home/mfumagal/Data/ImaGene/Simulations_Epoch1/msms..150...0225..txt.gz : 2000\n",
      "/home/mfumagal/Data/ImaGene/Simulations_Epoch1/msms..250...0200..txt.gz : 2000\n",
      "/home/mfumagal/Data/ImaGene/Simulations_Epoch1/msms..70...0225..txt.gz : 2000\n",
      "/home/mfumagal/Data/ImaGene/Simulations_Epoch1/msms..30...0225..txt.gz : 2000\n",
      "/home/mfumagal/Data/ImaGene/Simulations_Epoch1/msms..180...0150..txt.gz : 2000\n"
     ]
    },
    {
     "name": "stdout",
     "output_type": "stream",
     "text": [
      "/home/mfumagal/Data/ImaGene/Simulations_Epoch1/msms..150...0175..txt.gz : 2000\n",
      "/home/mfumagal/Data/ImaGene/Simulations_Epoch1/msms..10...0150..txt.gz : 2000\n",
      "/home/mfumagal/Data/ImaGene/Simulations_Epoch1/msms..370...0150..txt.gz : 2000\n",
      "/home/mfumagal/Data/ImaGene/Simulations_Epoch1/msms..30...0175..txt.gz : 2000\n",
      "/home/mfumagal/Data/ImaGene/Simulations_Epoch1/msms..140...0200..txt.gz : 2000\n",
      "/home/mfumagal/Data/ImaGene/Simulations_Epoch1/msms..320...0200..txt.gz : 2000\n",
      "/home/mfumagal/Data/ImaGene/Simulations_Epoch1/msms..240...0225..txt.gz : 2000\n",
      "/home/mfumagal/Data/ImaGene/Simulations_Epoch1/msms..230...0150..txt.gz : 2000\n",
      "/home/mfumagal/Data/ImaGene/Simulations_Epoch1/msms..130...0250..txt.gz : 2000\n",
      "/home/mfumagal/Data/ImaGene/Simulations_Epoch1/msms..350...0150..txt.gz : 2000\n",
      "/home/mfumagal/Data/ImaGene/Simulations_Epoch1/msms..140...0225..txt.gz : 2000\n",
      "/home/mfumagal/Data/ImaGene/Simulations_Epoch1/msms..390...0150..txt.gz : 2000\n",
      "/home/mfumagal/Data/ImaGene/Simulations_Epoch1/msms..310...0250..txt.gz : 2000\n",
      "/home/mfumagal/Data/ImaGene/Simulations_Epoch1/msms..400...0250..txt.gz : 2000\n",
      "/home/mfumagal/Data/ImaGene/Simulations_Epoch1/msms..390...0225..txt.gz : 2000\n",
      "/home/mfumagal/Data/ImaGene/Simulations_Epoch1/msms..340...0225..txt.gz : 2000\n",
      "/home/mfumagal/Data/ImaGene/Simulations_Epoch1/msms..60...0250..txt.gz : 2000\n",
      "/home/mfumagal/Data/ImaGene/Simulations_Epoch1/msms..380...0175..txt.gz : 2000\n",
      "/home/mfumagal/Data/ImaGene/Simulations_Epoch1/msms..60...0175..txt.gz : 2000\n",
      "/home/mfumagal/Data/ImaGene/Simulations_Epoch1/msms..330...0225..txt.gz : 2000\n",
      "/home/mfumagal/Data/ImaGene/Simulations_Epoch1/msms..190...0150..txt.gz : 2000\n",
      "/home/mfumagal/Data/ImaGene/Simulations_Epoch1/msms..320...0175..txt.gz : 2000\n",
      "/home/mfumagal/Data/ImaGene/Simulations_Epoch1/msms..250...0175..txt.gz : 2000\n",
      "/home/mfumagal/Data/ImaGene/Simulations_Epoch1/msms..290...0225..txt.gz : 2000\n",
      "/home/mfumagal/Data/ImaGene/Simulations_Epoch1/msms..290...0150..txt.gz : 2000\n",
      "/home/mfumagal/Data/ImaGene/Simulations_Epoch1/msms..20...0200..txt.gz : 2000\n",
      "/home/mfumagal/Data/ImaGene/Simulations_Epoch1/msms..60...0200..txt.gz : 2000\n",
      "/home/mfumagal/Data/ImaGene/Simulations_Epoch1/msms..50...0225..txt.gz : 2000\n",
      "/home/mfumagal/Data/ImaGene/Simulations_Epoch1/msms..310...0225..txt.gz : 2000\n",
      "/home/mfumagal/Data/ImaGene/Simulations_Epoch1/msms..400...0200..txt.gz : 2000\n",
      "/home/mfumagal/Data/ImaGene/Simulations_Epoch1/msms..370...0200..txt.gz : 2000\n",
      "/home/mfumagal/Data/ImaGene/Simulations_Epoch1/msms..200...0150..txt.gz : 2000\n",
      "/home/mfumagal/Data/ImaGene/Simulations_Epoch1/msms..110...0175..txt.gz : 2000\n",
      "/home/mfumagal/Data/ImaGene/Simulations_Epoch1/msms..190...0175..txt.gz : 2000\n",
      "/home/mfumagal/Data/ImaGene/Simulations_Epoch1/msms..90...0225..txt.gz : 2000\n",
      "/home/mfumagal/Data/ImaGene/Simulations_Epoch1/msms..120...0175..txt.gz : 2000\n",
      "/home/mfumagal/Data/ImaGene/Simulations_Epoch1/msms..170...0250..txt.gz : 2000\n",
      "/home/mfumagal/Data/ImaGene/Simulations_Epoch1/msms..20...0250..txt.gz : 2000\n",
      "/home/mfumagal/Data/ImaGene/Simulations_Epoch1/msms..310...0200..txt.gz : 2000\n",
      "/home/mfumagal/Data/ImaGene/Simulations_Epoch1/msms..300...0150..txt.gz : 2000\n",
      "/home/mfumagal/Data/ImaGene/Simulations_Epoch1/msms..210...0175..txt.gz : 2000\n",
      "/home/mfumagal/Data/ImaGene/Simulations_Epoch1/msms..0...0250..txt.gz : 2000\n",
      "/home/mfumagal/Data/ImaGene/Simulations_Epoch1/msms..50...0150..txt.gz : 2000\n",
      "/home/mfumagal/Data/ImaGene/Simulations_Epoch1/msms..330...0250..txt.gz : 2000\n",
      "/home/mfumagal/Data/ImaGene/Simulations_Epoch1/msms..180...0175..txt.gz : 2000\n",
      "/home/mfumagal/Data/ImaGene/Simulations_Epoch1/msms..130...0225..txt.gz : 2000\n",
      "/home/mfumagal/Data/ImaGene/Simulations_Epoch1/msms..30...0150..txt.gz : 2000\n",
      "/home/mfumagal/Data/ImaGene/Simulations_Epoch1/msms..50...0200..txt.gz : 2000\n",
      "/home/mfumagal/Data/ImaGene/Simulations_Epoch1/msms..100...0200..txt.gz : 2000\n",
      "/home/mfumagal/Data/ImaGene/Simulations_Epoch1/msms..180...0250..txt.gz : 2000\n",
      "/home/mfumagal/Data/ImaGene/Simulations_Epoch1/msms..180...0200..txt.gz : 2000\n",
      "/home/mfumagal/Data/ImaGene/Simulations_Epoch1/msms..170...0225..txt.gz : 2000\n",
      "/home/mfumagal/Data/ImaGene/Simulations_Epoch1/msms..280...0225..txt.gz : 2000\n",
      "/home/mfumagal/Data/ImaGene/Simulations_Epoch1/msms..220...0150..txt.gz : 2000\n",
      "/home/mfumagal/Data/ImaGene/Simulations_Epoch1/msms..300...0175..txt.gz : 2000\n",
      "/home/mfumagal/Data/ImaGene/Simulations_Epoch1/msms..160...0250..txt.gz : 2000\n",
      "/home/mfumagal/Data/ImaGene/Simulations_Epoch1/msms..160...0150..txt.gz : 2000\n",
      "/home/mfumagal/Data/ImaGene/Simulations_Epoch1/msms..400...0175..txt.gz : 2000\n",
      "/home/mfumagal/Data/ImaGene/Simulations_Epoch1/msms..260...0250..txt.gz : 2000\n",
      "/home/mfumagal/Data/ImaGene/Simulations_Epoch1/msms..240...0150..txt.gz : 2000\n",
      "/home/mfumagal/Data/ImaGene/Simulations_Epoch1/msms..340...0250..txt.gz : 2000\n",
      "/home/mfumagal/Data/ImaGene/Simulations_Epoch1/msms..20...0225..txt.gz : 2000\n",
      "/home/mfumagal/Data/ImaGene/Simulations_Epoch1/msms..230...0225..txt.gz : 2000\n",
      "/home/mfumagal/Data/ImaGene/Simulations_Epoch1/msms..80...0250..txt.gz : 2000\n",
      "/home/mfumagal/Data/ImaGene/Simulations_Epoch1/msms..150...0150..txt.gz : 2000\n",
      "/home/mfumagal/Data/ImaGene/Simulations_Epoch1/msms..250...0250..txt.gz : 2000\n",
      "/home/mfumagal/Data/ImaGene/Simulations_Epoch1/msms..270...0200..txt.gz : 2000\n",
      "/home/mfumagal/Data/ImaGene/Simulations_Epoch1/msms..330...0175..txt.gz : 2000\n",
      "/home/mfumagal/Data/ImaGene/Simulations_Epoch1/msms..310...0175..txt.gz : 2000\n",
      "/home/mfumagal/Data/ImaGene/Simulations_Epoch1/msms..370...0225..txt.gz : 2000\n",
      "/home/mfumagal/Data/ImaGene/Simulations_Epoch1/msms..70...0250..txt.gz : 2000\n",
      "/home/mfumagal/Data/ImaGene/Simulations_Epoch1/msms..230...0175..txt.gz : 2000\n",
      "/home/mfumagal/Data/ImaGene/Simulations_Epoch1/msms..360...0200..txt.gz : 2000\n",
      "/home/mfumagal/Data/ImaGene/Simulations_Epoch1/msms..250...0150..txt.gz : 2000\n",
      "/home/mfumagal/Data/ImaGene/Simulations_Epoch1/msms..200...0200..txt.gz : 2000\n",
      "/home/mfumagal/Data/ImaGene/Simulations_Epoch1/msms..270...0225..txt.gz : 2000\n",
      "/home/mfumagal/Data/ImaGene/Simulations_Epoch1/msms..290...0175..txt.gz : 2000\n",
      "/home/mfumagal/Data/ImaGene/Simulations_Epoch1/msms..180...0225..txt.gz : 2000\n",
      "/home/mfumagal/Data/ImaGene/Simulations_Epoch1/msms..40...0150..txt.gz : 2000\n",
      "/home/mfumagal/Data/ImaGene/Simulations_Epoch1/msms..320...0150..txt.gz : 2000\n",
      "/home/mfumagal/Data/ImaGene/Simulations_Epoch1/msms..140...0150..txt.gz : 2000\n",
      "/home/mfumagal/Data/ImaGene/Simulations_Epoch1/msms..100...0225..txt.gz : 2000\n",
      "/home/mfumagal/Data/ImaGene/Simulations_Epoch1/msms..90...0175..txt.gz : 2000\n",
      "/home/mfumagal/Data/ImaGene/Simulations_Epoch1/msms..40...0175..txt.gz : 2000\n",
      "/home/mfumagal/Data/ImaGene/Simulations_Epoch1/msms..40...0225..txt.gz : 2000\n",
      "/home/mfumagal/Data/ImaGene/Simulations_Epoch1/msms..130...0200..txt.gz : 2000\n",
      "/home/mfumagal/Data/ImaGene/Simulations_Epoch1/msms..100...0175..txt.gz : 2000\n",
      "/home/mfumagal/Data/ImaGene/Simulations_Epoch1/msms..300...0225..txt.gz : 2000\n",
      "/home/mfumagal/Data/ImaGene/Simulations_Epoch1/msms..0...0225..txt.gz : 2000\n",
      "/home/mfumagal/Data/ImaGene/Simulations_Epoch1/msms..360...0225..txt.gz : 2000\n",
      "/home/mfumagal/Data/ImaGene/Simulations_Epoch1/msms..90...0150..txt.gz : 2000\n",
      "/home/mfumagal/Data/ImaGene/Simulations_Epoch1/msms..350...0225..txt.gz : 2000\n",
      "/home/mfumagal/Data/ImaGene/Simulations_Epoch1/msms..360...0150..txt.gz : 2000\n",
      "/home/mfumagal/Data/ImaGene/Simulations_Epoch1/msms..20...0175..txt.gz : 2000\n",
      "/home/mfumagal/Data/ImaGene/Simulations_Epoch1/msms..400...0225..txt.gz : 2000\n",
      "/home/mfumagal/Data/ImaGene/Simulations_Epoch1/msms..240...0175..txt.gz : 2000\n",
      "/home/mfumagal/Data/ImaGene/Simulations_Epoch1/msms..370...0250..txt.gz : 2000\n",
      "/home/mfumagal/Data/ImaGene/Simulations_Epoch1/msms..380...0150..txt.gz : 2000\n",
      "/home/mfumagal/Data/ImaGene/Simulations_Epoch1/msms..30...0250..txt.gz : 2000\n",
      "/home/mfumagal/Data/ImaGene/Simulations_Epoch1/msms..10...0200..txt.gz : 2000\n",
      "/home/mfumagal/Data/ImaGene/Simulations_Epoch1/msms..120...0200..txt.gz : 2000\n",
      "/home/mfumagal/Data/ImaGene/Simulations_Epoch1/msms..10...0175..txt.gz : 2000\n",
      "/home/mfumagal/Data/ImaGene/Simulations_Epoch1/msms..90...0250..txt.gz : 2000\n",
      "Local current time : time.struct_time(tm_year=2018, tm_mon=12, tm_mday=20, tm_hour=12, tm_min=42, tm_sec=26, tm_wday=3, tm_yday=354, tm_isdst=0)\n"
     ]
    }
   ],
   "source": [
    "mypop = myfile.read_simulations(parameter_name='selection_coeff_hetero')"
   ]
  },
  {
   "cell_type": "markdown",
   "metadata": {},
   "source": [
    "(optional) Save description of files in .json file"
   ]
  },
  {
   "cell_type": "code",
   "execution_count": 7,
   "metadata": {},
   "outputs": [],
   "source": [
    "import json\n",
    "\n",
    "with open('/home/mfumagal/Data/ImaGene/simulations_Epoch1.json', 'w') as fp:\n",
    "    json.dump(mypop.description, fp, sort_keys=True, allow_nan=False, indent=0)"
   ]
  },
  {
   "cell_type": "markdown",
   "metadata": {},
   "source": [
    "(optional) Save the original data object."
   ]
  },
  {
   "cell_type": "code",
   "execution_count": 8,
   "metadata": {},
   "outputs": [],
   "source": [
    "import _pickle as pickle"
   ]
  },
  {
   "cell_type": "code",
   "execution_count": null,
   "metadata": {},
   "outputs": [],
   "source": [
    "# to save\n",
    "#os.mkdir('/home/mfumagal/Data/ImaGene/Sorting_effect_Epoch1')\n",
    "with open('/home/mfumagal/Data/ImaGene/Sorting_effect_Epoch1/mypop','wb') as fp:\n",
    "    pickle.dump(mypop, fp)"
   ]
  },
  {
   "cell_type": "code",
   "execution_count": null,
   "metadata": {},
   "outputs": [],
   "source": [
    "# to load:\n",
    "with open('/home/mfumagal/Data/ImaGene/Sorting_effect_Epoch1/mypop','rb') as fp:\n",
    "    mypop = pickle.load(fp)"
   ]
  },
  {
   "cell_type": "markdown",
   "metadata": {},
   "source": [
    "Explore the object."
   ]
  },
  {
   "cell_type": "code",
   "execution_count": 1,
   "metadata": {},
   "outputs": [
    {
     "ename": "NameError",
     "evalue": "name 'mypop' is not defined",
     "output_type": "error",
     "traceback": [
      "\u001b[0;31m---------------------------------------------------------------------------\u001b[0m",
      "\u001b[0;31mNameError\u001b[0m                                 Traceback (most recent call last)",
      "\u001b[0;32m<ipython-input-1-4088f4ae2645>\u001b[0m in \u001b[0;36m<module>\u001b[0;34m\u001b[0m\n\u001b[0;32m----> 1\u001b[0;31m \u001b[0mmypop\u001b[0m\u001b[0;34m.\u001b[0m\u001b[0msummary\u001b[0m\u001b[0;34m(\u001b[0m\u001b[0;34m)\u001b[0m\u001b[0;34m\u001b[0m\u001b[0;34m\u001b[0m\u001b[0m\n\u001b[0m",
      "\u001b[0;31mNameError\u001b[0m: name 'mypop' is not defined"
     ]
    }
   ],
   "source": [
    "mypop.summary()"
   ]
  },
  {
   "cell_type": "code",
   "execution_count": null,
   "metadata": {},
   "outputs": [],
   "source": [
    "print(len(mypop.data))\n",
    "print(mypop.data[0].shape)\n",
    "print(mypop.data[0].dtype)"
   ]
  },
  {
   "cell_type": "markdown",
   "metadata": {},
   "source": [
    "Plot one image for no selection, at 1% and at 2%"
   ]
  },
  {
   "cell_type": "code",
   "execution_count": null,
   "metadata": {},
   "outputs": [],
   "source": [
    "mypop.plot(0)\n",
    "print(mypop.description[0])"
   ]
  },
  {
   "cell_type": "code",
   "execution_count": null,
   "metadata": {},
   "outputs": [],
   "source": [
    "idx = np.where(mypop.target==0)[0][0]\n",
    "mypop.plot(idx)\n",
    "print(mypop.description[idx])\n",
    "mypop.data[idx].shape"
   ]
  },
  {
   "cell_type": "code",
   "execution_count": null,
   "metadata": {},
   "outputs": [],
   "source": [
    "idx = np.where(mypop.target==400)[0][0]\n",
    "mypop.plot(idx)\n",
    "print(mypop.description[idx])\n",
    "mypop.data[idx].shape"
   ]
  },
  {
   "cell_type": "markdown",
   "metadata": {},
   "source": [
    "Switch to major/minor allele polarisation."
   ]
  },
  {
   "cell_type": "code",
   "execution_count": null,
   "metadata": {},
   "outputs": [],
   "source": [
    "mypop.majorminor()\n",
    "mypop.plot(0)"
   ]
  },
  {
   "cell_type": "code",
   "execution_count": null,
   "metadata": {},
   "outputs": [],
   "source": [
    "# optional\n",
    "with open('/home/mfumagal/Data/ImaGene/Sorting_effect_Epoch1/mypop_majorminor','wb') as fp:\n",
    "    pickle.dump(mypop, fp)"
   ]
  },
  {
   "cell_type": "markdown",
   "metadata": {},
   "source": [
    "Filter out rare variants."
   ]
  },
  {
   "cell_type": "code",
   "execution_count": null,
   "metadata": {},
   "outputs": [],
   "source": [
    "mypop.filter_freq(0.01)\n",
    "mypop.plot(0)\n",
    "mypop.data[0].shape"
   ]
  },
  {
   "cell_type": "code",
   "execution_count": null,
   "metadata": {},
   "outputs": [],
   "source": [
    "mypop.summary()"
   ]
  },
  {
   "cell_type": "code",
   "execution_count": null,
   "metadata": {},
   "outputs": [],
   "source": [
    "# optional\n",
    "with open('/home/mfumagal/Data/ImaGene/Sorting_effect_Epoch1/mypop_majorminor_filtered','wb') as fp:\n",
    "    pickle.dump(mypop, fp)"
   ]
  },
  {
   "cell_type": "markdown",
   "metadata": {},
   "source": [
    "Sort images using different orderings.\n",
    "Then resize to same dimensions 128x128.\n",
    "Then convert them to float numpy arrays and shuffle using the same order."
   ]
  },
  {
   "cell_type": "code",
   "execution_count": null,
   "metadata": {},
   "outputs": [],
   "source": [
    "shuffle_index = np.random.permutation(len(mypop.data))"
   ]
  },
  {
   "cell_type": "code",
   "execution_count": null,
   "metadata": {},
   "outputs": [],
   "source": [
    "## NONE\n",
    "# load fresh object\n",
    "with open('/home/mfumagal/Data/ImaGene/Sorting_effect_Epoch1/mypop_majorminor_filtered','rb') as fp:\n",
    "    mypop = pickle.load(fp)\n",
    "# sort and resize\n",
    "mypop.resize((128, 128))\n",
    "mypop.plot(0)\n",
    "# convert and shuffle\n",
    "mypop.convert()\n",
    "mypop.shuffle(shuffle_index)\n",
    "# save\n",
    "with open('/home/mfumagal/Data/ImaGene/Sorting_effect_Epoch1/mypop_majorminor_filtered_sortednone','wb') as fp:\n",
    "    pickle.dump(mypop, fp)"
   ]
  },
  {
   "cell_type": "code",
   "execution_count": null,
   "metadata": {},
   "outputs": [],
   "source": [
    "## ROWS FREQ\n",
    "# load fresh object\n",
    "with open('/home/mfumagal/Data/ImaGene/Sorting_effect_Epoch1/mypop_majorminor_filtered','rb') as fp:\n",
    "    mypop = pickle.load(fp)\n",
    "# sort and resize\n",
    "mypop.sort('rows_freq')\n",
    "mypop.resize((128, 128))\n",
    "mypop.plot(0)\n",
    "# convert and shuffle\n",
    "mypop.convert()\n",
    "mypop.shuffle(shuffle_index)\n",
    "# save\n",
    "with open('/home/mfumagal/Data/ImaGene/Sorting_effect_Epoch1/mypop_majorminor_filtered_sortedrowsfreq','wb') as fp:\n",
    "    pickle.dump(mypop, fp)"
   ]
  },
  {
   "cell_type": "code",
   "execution_count": null,
   "metadata": {},
   "outputs": [],
   "source": [
    "## COLS FREQ\n",
    "# load fresh object\n",
    "with open('/home/mfumagal/Data/ImaGene/Sorting_effect_Epoch1/mypop_majorminor_filtered','rb') as fp:\n",
    "    mypop = pickle.load(fp)\n",
    "# sort and resize\n",
    "mypop.sort('cols_freq')\n",
    "mypop.resize((128, 128))\n",
    "mypop.plot(0)\n",
    "# convert and shuffle\n",
    "mypop.convert()\n",
    "mypop.shuffle(shuffle_index)\n",
    "# save\n",
    "with open('/home/mfumagal/Data/ImaGene/Sorting_effect_Epoch1/mypop_majorminor_filtered_sortedcolsfreq','wb') as fp:\n",
    "    pickle.dump(mypop, fp)"
   ]
  },
  {
   "cell_type": "code",
   "execution_count": null,
   "metadata": {},
   "outputs": [],
   "source": [
    "## ROWS+COLS FREQ\n",
    "# load fresh object\n",
    "with open('/home/mfumagal/Data/ImaGene/Sorting_effect_Epoch1/mypop_majorminor_filtered','rb') as fp:\n",
    "    mypop = pickle.load(fp)\n",
    "# sort and resize\n",
    "mypop.sort('rows_freq')\n",
    "mypop.sort('cols_freq')\n",
    "mypop.resize((128, 128))\n",
    "mypop.plot(0)\n",
    "# convert and shuffle\n",
    "mypop.convert()\n",
    "mypop.shuffle(shuffle_index)\n",
    "# save\n",
    "with open('/home/mfumagal/Data/ImaGene/Sorting_effect_Epoch1/mypop_majorminor_filtered_sortedrowscolsfreq','wb') as fp:\n",
    "    pickle.dump(mypop, fp)"
   ]
  },
  {
   "cell_type": "code",
   "execution_count": null,
   "metadata": {},
   "outputs": [],
   "source": [
    "## ROWS+COLS DISTANCE\n",
    "# load fresh object\n",
    "with open('/home/mfumagal/Data/ImaGene/Sorting_effect_Epoch1/mypop_majorminor_filtered','rb') as fp:\n",
    "    mypop = pickle.load(fp)\n",
    "# sort and resize\n",
    "mypop.sort('rows_distance_top')\n",
    "mypop.sort('cols_distance_top')\n",
    "mypop.resize((128, 128))\n",
    "mypop.plot(0)\n",
    "# convert and shuffle\n",
    "mypop.convert()\n",
    "mypop.shuffle(shuffle_index)\n",
    "# save\n",
    "with open('/home/mfumagal/Data/ImaGene/Sorting_effect_Epoch1/mypop_majorminor_filtered_sortedrowscolsdist','wb') as fp:\n",
    "    pickle.dump(mypop, fp)"
   ]
  },
  {
   "cell_type": "code",
   "execution_count": null,
   "metadata": {},
   "outputs": [],
   "source": [
    "## ROWS DISTANCE\n",
    "# load fresh object\n",
    "with open('/home/mfumagal/Data/ImaGene/Sorting_effect_Epoch1/mypop_majorminor_filtered','rb') as fp:\n",
    "    mypop = pickle.load(fp)\n",
    "# sort and resize\n",
    "mypop.sort('rows_distance_top')\n",
    "mypop.resize((128, 128))\n",
    "mypop.plot(0)\n",
    "# convert and shuffle\n",
    "mypop.convert()\n",
    "mypop.shuffle(shuffle_index)\n",
    "# save\n",
    "with open('/home/mfumagal/Data/ImaGene/Sorting_effect_Epoch1/mypop_majorminor_filtered_sortedrowsdist','wb') as fp:\n",
    "    pickle.dump(mypop, fp)"
   ]
  },
  {
   "cell_type": "code",
   "execution_count": null,
   "metadata": {},
   "outputs": [],
   "source": [
    "## COLS DISTANCE\n",
    "# load fresh object\n",
    "with open('/home/mfumagal/Data/ImaGene/Sorting_effect_Epoch1/mypop_majorminor_filtered','rb') as fp:\n",
    "    mypop = pickle.load(fp)\n",
    "# sort and resize\n",
    "mypop.sort('cols_distance_top')\n",
    "mypop.resize((128, 128))\n",
    "mypop.plot(0)\n",
    "# convert and shuffle\n",
    "mypop.convert()\n",
    "mypop.shuffle(shuffle_index)\n",
    "# save\n",
    "with open('/home/mfumagal/Data/ImaGene/Sorting_effect_Epoch1/mypop_majorminor_filtered_sortedcolsdist','wb') as fp:\n",
    "    pickle.dump(mypop, fp)"
   ]
  },
  {
   "cell_type": "code",
   "execution_count": null,
   "metadata": {},
   "outputs": [],
   "source": [
    "## ROWS DISTANCE + COLS FREQ\n",
    "# load fresh object\n",
    "with open('/home/mfumagal/Data/ImaGene/Sorting_effect_Epoch1/mypop_majorminor_filtered','rb') as fp:\n",
    "    mypop = pickle.load(fp)\n",
    "# sort and resize\n",
    "mypop.sort('rows_distance_top')\n",
    "mypop.sort('cols_freq')\n",
    "mypop.resize((128, 128))\n",
    "mypop.plot(0)\n",
    "# convert and shuffle\n",
    "mypop.convert()\n",
    "mypop.shuffle(shuffle_index)\n",
    "# save\n",
    "with open('/home/mfumagal/Data/ImaGene/Sorting_effect_Epoch1/mypop_majorminor_filtered_sortedrowsdistcolsfreq','wb') as fp:\n",
    "    pickle.dump(mypop, fp)"
   ]
  },
  {
   "cell_type": "markdown",
   "metadata": {},
   "source": [
    "Set classes and targets."
   ]
  },
  {
   "cell_type": "code",
   "execution_count": null,
   "metadata": {},
   "outputs": [],
   "source": [
    "#\n",
    "print(mypop.classes)\n",
    "mypop.target = np.zeros(len(mypop.data), dtype='float32')\n",
    "mypop.set_targets(sd=1)\n",
    "mypop.target[0]"
   ]
  },
  {
   "cell_type": "markdown",
   "metadata": {},
   "source": [
    "Build, compile, train and test a network."
   ]
  },
  {
   "cell_type": "code",
   "execution_count": null,
   "metadata": {},
   "outputs": [],
   "source": [
    "# initiate an instance of ImaNet object\n",
    "mynet = ImaNet(mypop)"
   ]
  },
  {
   "cell_type": "code",
   "execution_count": null,
   "metadata": {},
   "outputs": [],
   "source": [
    "# build the newtork, e.g. for multiclassification\n",
    "mynet.net = models.Sequential()\n",
    "mynet.net.add(layers.Conv2D(16, (3,3), activation='relu', padding='same', kernel_regularizer=regularizers.l2(0.001), input_shape=mynet.input_shape))\n",
    "mynet.net.add(layers.MaxPool2D((2,2)))\n",
    "mynet.net.add(layers.Conv2D(32, (3,3), activation='relu', padding='same', kernel_regularizer=regularizers.l2(0.001), input_shape=mynet.input_shape))\n",
    "mynet.net.add(layers.MaxPool2D((2,2)))\n",
    "mynet.net.add(layers.Dropout(0.5))\n",
    "mynet.net.add(layers.Flatten())\n",
    "mynet.net.add(layers.Dense(64, activation = 'relu'))\n",
    "mynet.net.add(layers.Dense(mynet.output_shape-1, activation = 'sigmoid'))"
   ]
  },
  {
   "cell_type": "code",
   "execution_count": null,
   "metadata": {},
   "outputs": [],
   "source": [
    "mynet.net.summary()\n",
    "plot_model(mynet.net, to_file='Data/net.png')"
   ]
  },
  {
   "cell_type": "code",
   "execution_count": null,
   "metadata": {},
   "outputs": [],
   "source": [
    "mynet.net.compile(loss='binary_crossentropy', optimizer=optimizers.RMSprop(lr=0.001), metrics=['acc'])"
   ]
  },
  {
   "cell_type": "code",
   "execution_count": null,
   "metadata": {},
   "outputs": [],
   "source": [
    "nr_train = int(mynet.gene.data.shape[0] * (1 - mynet.notraining[0]))\n",
    "nr_test = int(mynet.gene.data.shape[0]) - nr_train\n",
    "print(nr_train, nr_test)"
   ]
  },
  {
   "cell_type": "code",
   "execution_count": null,
   "metadata": {},
   "outputs": [],
   "source": [
    "mynet.train(epochs=20, batch_size=128)"
   ]
  },
  {
   "cell_type": "code",
   "execution_count": null,
   "metadata": {},
   "outputs": [],
   "source": [
    "mynet.plot_train()"
   ]
  },
  {
   "cell_type": "code",
   "execution_count": null,
   "metadata": {},
   "outputs": [],
   "source": [
    "scores = mynet.test()\n",
    "print(scores)"
   ]
  },
  {
   "cell_type": "code",
   "execution_count": null,
   "metadata": {},
   "outputs": [],
   "source": [
    "values = mynet.predict(gene=mypop.data[0:1])\n",
    "print(mypop.classes[np.argmax(mypop.target[0])])\n",
    "print(mypop.description[0])"
   ]
  },
  {
   "cell_type": "code",
   "execution_count": null,
   "metadata": {},
   "outputs": [],
   "source": []
  },
  {
   "cell_type": "code",
   "execution_count": null,
   "metadata": {},
   "outputs": [],
   "source": []
  }
 ],
 "metadata": {
  "kernelspec": {
   "display_name": "Python 3",
   "language": "python",
   "name": "python3"
  },
  "language_info": {
   "codemirror_mode": {
    "name": "ipython",
    "version": 3
   },
   "file_extension": ".py",
   "mimetype": "text/x-python",
   "name": "python",
   "nbconvert_exporter": "python",
   "pygments_lexer": "ipython3",
   "version": "3.6.7"
  }
 },
 "nbformat": 4,
 "nbformat_minor": 2
}
