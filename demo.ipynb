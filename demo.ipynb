{
 "cells": [
  {
   "cell_type": "markdown",
   "metadata": {},
   "source": [
    "# Tutorial"
   ]
  },
  {
   "cell_type": "markdown",
   "metadata": {},
   "source": [
    "Simulate genes under various levels of selection coefficient, with different demographic models (1,2,3-epoch) and with selection time between 15kya and 25 kya. Each scenario is run 3 times."
   ]
  },
  {
   "cell_type": "code",
   "execution_count": null,
   "metadata": {},
   "outputs": [],
   "source": [
    "# bash generate_training_data.sh"
   ]
  },
  {
   "cell_type": "code",
   "execution_count": 1,
   "metadata": {},
   "outputs": [
    {
     "name": "stderr",
     "output_type": "stream",
     "text": [
      "Using TensorFlow backend.\n"
     ]
    }
   ],
   "source": [
    "import os\n",
    "import gzip\n",
    "\n",
    "import numpy as np\n",
    "import scipy.stats\n",
    "\n",
    "import skimage.transform\n",
    "from keras import models, layers, optimizers, regularizers\n",
    "from keras.utils import to_categorical, plot_model\n",
    "\n",
    "import matplotlib.pyplot as plt\n",
    "import pymc3\n",
    "import pydot"
   ]
  },
  {
   "cell_type": "code",
   "execution_count": 2,
   "metadata": {},
   "outputs": [],
   "source": [
    "%run -i ImaGene.py"
   ]
  },
  {
   "cell_type": "markdown",
   "metadata": {},
   "source": [
    "For the first analysis, we seek to understand the impact of sorting images on the quantification. \n",
    "We use 1-epoch model for this first analysis.\n",
    "Results will be visualised by linear regression plots."
   ]
  },
  {
   "cell_type": "markdown",
   "metadata": {},
   "source": [
    "Read simulations and store in object."
   ]
  },
  {
   "cell_type": "code",
   "execution_count": 3,
   "metadata": {},
   "outputs": [],
   "source": [
    "myfile = ImaFile(simulations_folder='/home/mfumagal/Data/ImaGene/Simulations2.Epoch1', nr_samples=128, model_name='Marth-1epoch-CEU')"
   ]
  },
  {
   "cell_type": "code",
   "execution_count": 4,
   "metadata": {},
   "outputs": [],
   "source": [
    "mypop = myfile.read_simulations(parameter_name='selection_coeff_hetero', max_nrepl=100)"
   ]
  },
  {
   "cell_type": "markdown",
   "metadata": {},
   "source": [
    "(optional) Save description of files in .json file"
   ]
  },
  {
   "cell_type": "code",
   "execution_count": 5,
   "metadata": {},
   "outputs": [],
   "source": [
    "import json\n",
    "\n",
    "with open('/home/mfumagal/Data/ImaGene/simulations2.Epoch1.json', 'w') as fp:\n",
    "    json.dump(mypop.description, fp, sort_keys=True, allow_nan=False, indent=4)"
   ]
  },
  {
   "cell_type": "markdown",
   "metadata": {},
   "source": [
    "(optional) Save the original data object."
   ]
  },
  {
   "cell_type": "code",
   "execution_count": 6,
   "metadata": {},
   "outputs": [],
   "source": [
    "import _pickle as pickle"
   ]
  },
  {
   "cell_type": "code",
   "execution_count": null,
   "metadata": {},
   "outputs": [],
   "source": [
    "# to save, create folder\n",
    "#os.mkdir('/home/mfumagal/Data/ImaGene/Sorting_effect_Epoch1')"
   ]
  },
  {
   "cell_type": "code",
   "execution_count": 7,
   "metadata": {},
   "outputs": [],
   "source": [
    "# save\n",
    "with open('/home/mfumagal/Data/ImaGene/Sorting_effect_Epoch1/mypop','wb') as fp:\n",
    "    pickle.dump(mypop, fp)"
   ]
  },
  {
   "cell_type": "code",
   "execution_count": null,
   "metadata": {},
   "outputs": [],
   "source": [
    "# to load:\n",
    "with open('/home/mfumagal/Data/ImaGene/Sorting_effect_Epoch1/mypop','rb') as fp:\n",
    "    mypop = pickle.load(fp)"
   ]
  },
  {
   "cell_type": "markdown",
   "metadata": {},
   "source": [
    "Explore the object (with nrepl=20 we have 40100 images)."
   ]
  },
  {
   "cell_type": "code",
   "execution_count": 8,
   "metadata": {},
   "outputs": [
    {
     "name": "stdout",
     "output_type": "stream",
     "text": [
      "An object of 4100 images\n",
      "Rows: min 128, max 128, mean 128.000000, std 0.000000\n",
      "Columns: min 187, max 477, mean 325.228780, std 36.905903\n"
     ]
    },
    {
     "data": {
      "text/plain": [
       "0"
      ]
     },
     "execution_count": 8,
     "metadata": {},
     "output_type": "execute_result"
    }
   ],
   "source": [
    "mypop.summary()"
   ]
  },
  {
   "cell_type": "code",
   "execution_count": null,
   "metadata": {},
   "outputs": [],
   "source": [
    "print(len(mypop.data))\n",
    "print(mypop.data[0].shape)\n",
    "print(mypop.data[0].dtype)"
   ]
  },
  {
   "cell_type": "markdown",
   "metadata": {},
   "source": [
    "Plot one image for no selection, at 1% and at 2%"
   ]
  },
  {
   "cell_type": "code",
   "execution_count": null,
   "metadata": {},
   "outputs": [],
   "source": [
    "mypop.plot(0)\n",
    "print(mypop.description[0])"
   ]
  },
  {
   "cell_type": "code",
   "execution_count": null,
   "metadata": {},
   "outputs": [],
   "source": [
    "idx = np.where(mypop.target==0)[0][0]\n",
    "mypop.plot(idx)\n",
    "print(mypop.description[idx])\n",
    "mypop.data[idx].shape"
   ]
  },
  {
   "cell_type": "code",
   "execution_count": null,
   "metadata": {},
   "outputs": [],
   "source": [
    "idx = np.where(mypop.target==400)[0][0]\n",
    "mypop.plot(idx)\n",
    "print(mypop.description[idx])\n",
    "mypop.data[idx].shape"
   ]
  },
  {
   "cell_type": "markdown",
   "metadata": {},
   "source": [
    "Switch to major/minor allele polarisation."
   ]
  },
  {
   "cell_type": "code",
   "execution_count": 9,
   "metadata": {},
   "outputs": [
    {
     "data": {
      "image/png": "[encoded data removed]",
      "text/plain": [
       "<Figure size 432x288 with 1 Axes>"
      ]
     },
     "metadata": {
      "needs_background": "light"
     },
     "output_type": "display_data"
    },
    {
     "data": {
      "text/plain": [
       "0"
      ]
     },
     "execution_count": 9,
     "metadata": {},
     "output_type": "execute_result"
    }
   ],
   "source": [
    "mypop.majorminor()\n",
    "mypop.plot(0)"
   ]
  },
  {
   "cell_type": "markdown",
   "metadata": {},
   "source": [
    "Filter out rare variants."
   ]
  },
  {
   "cell_type": "code",
   "execution_count": 10,
   "metadata": {},
   "outputs": [
    {
     "data": {
      "image/png": "[encoded data removed]",
      "text/plain": [
       "<Figure size 432x288 with 1 Axes>"
      ]
     },
     "metadata": {
      "needs_background": "light"
     },
     "output_type": "display_data"
    },
    {
     "data": {
      "text/plain": [
       "(128, 326, 1)"
      ]
     },
     "execution_count": 10,
     "metadata": {},
     "output_type": "execute_result"
    }
   ],
   "source": [
    "mypop.filter_freq(0.01)\n",
    "mypop.plot(0)\n",
    "mypop.data[0].shape"
   ]
  },
  {
   "cell_type": "code",
   "execution_count": null,
   "metadata": {},
   "outputs": [],
   "source": [
    "mypop.summary()"
   ]
  },
  {
   "cell_type": "code",
   "execution_count": null,
   "metadata": {},
   "outputs": [],
   "source": [
    "# optional\n",
    "with open('/home/mfumagal/Data/ImaGene/Sorting_effect_Epoch1/mypop_majorminor_filtered','wb') as fp:\n",
    "    pickle.dump(mypop, fp)"
   ]
  },
  {
   "cell_type": "markdown",
   "metadata": {},
   "source": [
    "Sort images using different orderings.\n",
    "Then resize to same dimensions 128x128.\n",
    "Then convert them to float numpy arrays and shuffle using the same order."
   ]
  },
  {
   "cell_type": "code",
   "execution_count": 11,
   "metadata": {},
   "outputs": [],
   "source": [
    "shuffle_index = np.random.permutation(len(mypop.data))"
   ]
  },
  {
   "cell_type": "code",
   "execution_count": 13,
   "metadata": {},
   "outputs": [],
   "source": [
    "with open('/home/mfumagal/Data/ImaGene/Sorting_effect_Epoch1/mypop','wb') as fp:\n",
    "    pickle.dump(mypop, fp)"
   ]
  },
  {
   "cell_type": "code",
   "execution_count": 14,
   "metadata": {},
   "outputs": [
    {
     "name": "stdout",
     "output_type": "stream",
     "text": [
      "Converting to numpy array.\n",
      "Converting to float32.\n",
      "Converting to [0,1].\n",
      "Flipping values.\n",
      "A numpy array with dimensions (4100, 128, 128, 1) and target with length 4100 and 41 classes.\n"
     ]
    },
    {
     "data": {
      "image/png": "[encoded data removed]",
      "text/plain": [
       "<Figure size 432x288 with 1 Axes>"
      ]
     },
     "metadata": {
      "needs_background": "light"
     },
     "output_type": "display_data"
    }
   ],
   "source": [
    "## NONE\n",
    "# load fresh object\n",
    "with open('/home/mfumagal/Data/ImaGene/Sorting_effect_Epoch1/mypop','rb') as fp:\n",
    "    mypop = pickle.load(fp)\n",
    "# sort and resize\n",
    "mypop.resize((128, 128))\n",
    "# convert and shuffle\n",
    "mypop.convert()\n",
    "mypop.shuffle(shuffle_index)\n",
    "mypop.plot(0)\n",
    "# save\n",
    "with open('/home/mfumagal/Data/ImaGene/Sorting_effect_Epoch1/mypop_sortednone','wb') as fp:\n",
    "    pickle.dump(mypop, fp)"
   ]
  },
  {
   "cell_type": "code",
   "execution_count": 15,
   "metadata": {},
   "outputs": [
    {
     "name": "stdout",
     "output_type": "stream",
     "text": [
      "Converting to numpy array.\n",
      "Converting to float32.\n",
      "Converting to [0,1].\n",
      "Flipping values.\n",
      "A numpy array with dimensions (4100, 128, 128, 1) and target with length 4100 and 41 classes.\n"
     ]
    },
    {
     "data": {
      "image/png": "[encoded data removed]",
      "text/plain": [
       "<Figure size 432x288 with 1 Axes>"
      ]
     },
     "metadata": {
      "needs_background": "light"
     },
     "output_type": "display_data"
    }
   ],
   "source": [
    "## ROWS FREQ\n",
    "# load fresh object\n",
    "with open('/home/mfumagal/Data/ImaGene/Sorting_effect_Epoch1/mypop','rb') as fp:\n",
    "    mypop = pickle.load(fp)\n",
    "# sort and resize\n",
    "mypop.sort('rows_freq')\n",
    "mypop.resize((128, 128))\n",
    "# convert and shuffle\n",
    "mypop.convert()\n",
    "mypop.shuffle(shuffle_index)\n",
    "mypop.plot(0)\n",
    "# save\n",
    "with open('/home/mfumagal/Data/ImaGene/Sorting_effect_Epoch1/mypop_sortedrowsfreq','wb') as fp:\n",
    "    pickle.dump(mypop, fp)"
   ]
  },
  {
   "cell_type": "code",
   "execution_count": 16,
   "metadata": {},
   "outputs": [
    {
     "name": "stdout",
     "output_type": "stream",
     "text": [
      "Converting to numpy array.\n",
      "Converting to float32.\n",
      "Converting to [0,1].\n",
      "Flipping values.\n",
      "A numpy array with dimensions (4100, 128, 128, 1) and target with length 4100 and 41 classes.\n"
     ]
    },
    {
     "data": {
      "image/png": "[encoded data removed]",
      "text/plain": [
       "<Figure size 432x288 with 1 Axes>"
      ]
     },
     "metadata": {
      "needs_background": "light"
     },
     "output_type": "display_data"
    }
   ],
   "source": [
    "## COLS FREQ\n",
    "# load fresh object\n",
    "with open('/home/mfumagal/Data/ImaGene/Sorting_effect_Epoch1/mypop','rb') as fp:\n",
    "    mypop = pickle.load(fp)\n",
    "# sort and resize\n",
    "mypop.sort('cols_freq')\n",
    "mypop.resize((128, 128))\n",
    "# convert and shuffle\n",
    "mypop.convert()\n",
    "mypop.shuffle(shuffle_index)\n",
    "mypop.plot(0)\n",
    "# save\n",
    "with open('/home/mfumagal/Data/ImaGene/Sorting_effect_Epoch1/mypop_sortedcolsfreq','wb') as fp:\n",
    "    pickle.dump(mypop, fp)"
   ]
  },
  {
   "cell_type": "code",
   "execution_count": 17,
   "metadata": {},
   "outputs": [
    {
     "name": "stdout",
     "output_type": "stream",
     "text": [
      "Converting to numpy array.\n",
      "Converting to float32.\n",
      "Converting to [0,1].\n",
      "Flipping values.\n",
      "A numpy array with dimensions (4100, 128, 128, 1) and target with length 4100 and 41 classes.\n"
     ]
    },
    {
     "data": {
      "image/png": "[encoded data removed]",
      "text/plain": [
       "<Figure size 432x288 with 1 Axes>"
      ]
     },
     "metadata": {
      "needs_background": "light"
     },
     "output_type": "display_data"
    }
   ],
   "source": [
    "## ROWS+COLS FREQ\n",
    "# load fresh object\n",
    "with open('/home/mfumagal/Data/ImaGene/Sorting_effect_Epoch1/mypop','rb') as fp:\n",
    "    mypop = pickle.load(fp)\n",
    "# sort and resize\n",
    "mypop.sort('rows_freq')\n",
    "mypop.sort('cols_freq')\n",
    "mypop.resize((128, 128))\n",
    "# convert and shuffle\n",
    "mypop.convert()\n",
    "mypop.shuffle(shuffle_index)\n",
    "mypop.plot(0)\n",
    "# save\n",
    "with open('/home/mfumagal/Data/ImaGene/Sorting_effect_Epoch1/mypop_sortedrowscolsfreq','wb') as fp:\n",
    "    pickle.dump(mypop, fp)"
   ]
  },
  {
   "cell_type": "code",
   "execution_count": 18,
   "metadata": {},
   "outputs": [
    {
     "name": "stdout",
     "output_type": "stream",
     "text": [
      "Converting to numpy array.\n",
      "Converting to float32.\n",
      "Converting to [0,1].\n",
      "Flipping values.\n",
      "A numpy array with dimensions (4100, 128, 128, 1) and target with length 4100 and 41 classes.\n"
     ]
    },
    {
     "data": {
      "image/png": "[encoded data removed]",
      "text/plain": [
       "<Figure size 432x288 with 1 Axes>"
      ]
     },
     "metadata": {
      "needs_background": "light"
     },
     "output_type": "display_data"
    }
   ],
   "source": [
    "## ROWS+COLS DISTANCE\n",
    "# load fresh object\n",
    "with open('/home/mfumagal/Data/ImaGene/Sorting_effect_Epoch1/mypop','rb') as fp:\n",
    "    mypop = pickle.load(fp)\n",
    "# sort and resize\n",
    "mypop.sort('rows_distance_top')\n",
    "mypop.sort('cols_distance_top')\n",
    "mypop.resize((128, 128))\n",
    "# convert and shuffle\n",
    "mypop.convert()\n",
    "mypop.shuffle(shuffle_index)\n",
    "mypop.plot(0)\n",
    "# save\n",
    "with open('/home/mfumagal/Data/ImaGene/Sorting_effect_Epoch1/mypop_sortedrowscolsdist','wb') as fp:\n",
    "    pickle.dump(mypop, fp)"
   ]
  },
  {
   "cell_type": "code",
   "execution_count": null,
   "metadata": {},
   "outputs": [],
   "source": [
    "## ROWS DISTANCE\n",
    "# load fresh object\n",
    "with open('/home/mfumagal/Data/ImaGene/Sorting_effect_Epoch1/mypop_majorminor_filtered','rb') as fp:\n",
    "    mypop = pickle.load(fp)\n",
    "# sort and resize\n",
    "mypop.sort('rows_distance_top')\n",
    "mypop.resize((128, 128))\n",
    "mypop.plot(0)\n",
    "# convert and shuffle\n",
    "mypop.convert()\n",
    "mypop.shuffle(shuffle_index)\n",
    "# save\n",
    "with open('/home/mfumagal/Data/ImaGene/Sorting_effect_Epoch1/mypop_majorminor_filtered_sortedrowsdist','wb') as fp:\n",
    "    pickle.dump(mypop, fp)"
   ]
  },
  {
   "cell_type": "code",
   "execution_count": null,
   "metadata": {},
   "outputs": [],
   "source": [
    "## COLS DISTANCE\n",
    "# load fresh object\n",
    "with open('/home/mfumagal/Data/ImaGene/Sorting_effect_Epoch1/mypop_majorminor_filtered','rb') as fp:\n",
    "    mypop = pickle.load(fp)\n",
    "# sort and resize\n",
    "mypop.sort('cols_distance_top')\n",
    "mypop.resize((128, 128))\n",
    "mypop.plot(0)\n",
    "# convert and shuffle\n",
    "mypop.convert()\n",
    "mypop.shuffle(shuffle_index)\n",
    "# save\n",
    "with open('/home/mfumagal/Data/ImaGene/Sorting_effect_Epoch1/mypop_majorminor_filtered_sortedcolsdist','wb') as fp:\n",
    "    pickle.dump(mypop, fp)"
   ]
  },
  {
   "cell_type": "code",
   "execution_count": null,
   "metadata": {},
   "outputs": [],
   "source": [
    "## ROWS DISTANCE + COLS FREQ\n",
    "# load fresh object\n",
    "with open('/home/mfumagal/Data/ImaGene/Sorting_effect_Epoch1/mypop_majorminor_filtered','rb') as fp:\n",
    "    mypop = pickle.load(fp)\n",
    "# sort and resize\n",
    "mypop.sort('rows_distance_top')\n",
    "mypop.sort('cols_freq')\n",
    "mypop.resize((128, 128))\n",
    "mypop.plot(0)\n",
    "# convert and shuffle\n",
    "mypop.convert()\n",
    "mypop.shuffle(shuffle_index)\n",
    "# save\n",
    "with open('/home/mfumagal/Data/ImaGene/Sorting_effect_Epoch1/mypop_majorminor_filtered_sortedrowsdistcolsfreq','wb') as fp:\n",
    "    pickle.dump(mypop, fp)"
   ]
  },
  {
   "cell_type": "code",
   "execution_count": null,
   "metadata": {},
   "outputs": [],
   "source": []
  },
  {
   "cell_type": "code",
   "execution_count": null,
   "metadata": {},
   "outputs": [],
   "source": []
  }
 ],
 "metadata": {
  "kernelspec": {
   "display_name": "Python 3",
   "language": "python",
   "name": "python3"
  },
  "language_info": {
   "codemirror_mode": {
    "name": "ipython",
    "version": 3
   },
   "file_extension": ".py",
   "mimetype": "text/x-python",
   "name": "python",
   "nbconvert_exporter": "python",
   "pygments_lexer": "ipython3",
   "version": "3.6.8"
  }
 },
 "nbformat": 4,
 "nbformat_minor": 2
}
