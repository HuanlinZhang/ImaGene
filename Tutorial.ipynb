{
 "cells": [
  {
   "cell_type": "markdown",
   "metadata": {},
   "source": [
    "# Quick start"
   ]
  },
  {
   "cell_type": "markdown",
   "metadata": {},
   "source": [
    "..."
   ]
  },
  {
   "cell_type": "code",
   "execution_count": 1,
   "metadata": {},
   "outputs": [],
   "source": [
    "# bash generate_data.sh"
   ]
  },
  {
   "cell_type": "code",
   "execution_count": 127,
   "metadata": {},
   "outputs": [],
   "source": [
    "import os\n",
    "import gzip\n",
    "\n",
    "import numpy as np\n",
    "import scipy.stats\n",
    "\n",
    "import skimage.transform\n",
    "from keras import models, layers, activations, optimizers, regularizers\n",
    "from keras.utils import to_categorical, plot_model\n",
    "from keras.models import load_model\n",
    "\n",
    "import matplotlib.pyplot as plt\n",
    "from sklearn.metrics import confusion_matrix\n",
    "import pymc3 # this will be removed\n",
    "import pydot # optional"
   ]
  },
  {
   "cell_type": "code",
   "execution_count": 128,
   "metadata": {},
   "outputs": [],
   "source": [
    "%run -i ImaGene.py"
   ]
  },
  {
   "cell_type": "code",
   "execution_count": 175,
   "metadata": {},
   "outputs": [],
   "source": [
    "myfile = ImaFile(simulations_folder='/home/mfumagal/Data/ImaGene/Simulations1.Epoch3', nr_samples=128, model_name='Marth-1epoch-CEU')"
   ]
  },
  {
   "cell_type": "code",
   "execution_count": 176,
   "metadata": {},
   "outputs": [],
   "source": [
    "mypop = myfile.read_simulations(parameter_name='selection_coeff_hetero', max_nrepl=12)"
   ]
  },
  {
   "cell_type": "code",
   "execution_count": 177,
   "metadata": {},
   "outputs": [
    {
     "name": "stdout",
     "output_type": "stream",
     "text": [
      "An object of 9612 images\n",
      "Rows: min 128, max 128, mean 128.000000, std 0.000000\n",
      "Columns: min 91, max 423, mean 226.473055, std 56.774059\n"
     ]
    },
    {
     "data": {
      "text/plain": [
       "0"
      ]
     },
     "execution_count": 177,
     "metadata": {},
     "output_type": "execute_result"
    }
   ],
   "source": [
    "mypop.summary()"
   ]
  },
  {
   "cell_type": "code",
   "execution_count": 178,
   "metadata": {},
   "outputs": [
    {
     "name": "stdout",
     "output_type": "stream",
     "text": [
      "9612\n"
     ]
    }
   ],
   "source": [
    "freqs = np.zeros(len(mypop.data))\n",
    "print(len(freqs))\n",
    "for i in range(len(freqs)):\n",
    "    freqs[i] = np.where(mypop.data[i][:,np.where(mypop.positions[i]==0.5)[0][0],0]==255,1,0).sum()"
   ]
  },
  {
   "cell_type": "code",
   "execution_count": 181,
   "metadata": {},
   "outputs": [],
   "source": [
    "freqs = [np.where(mypop.data[i][:,np.where(mypop.positions[i]==0.5)[0][0],0]==255,1,0).sum() for i in range(len(mypop.data))]"
   ]
  },
  {
   "cell_type": "code",
   "execution_count": 182,
   "metadata": {},
   "outputs": [
    {
     "data": {
      "text/plain": [
       "Text(0, 0.5, 'Allele frequency')"
      ]
     },
     "execution_count": 182,
     "metadata": {},
     "output_type": "execute_result"
    },
    {
     "data": {
      "image/png": "[encoded data removed]",
      "text/plain": [
       "<Figure size 432x288 with 1 Axes>"
      ]
     },
     "metadata": {
      "needs_background": "light"
     },
     "output_type": "display_data"
    }
   ],
   "source": [
    "plt.scatter(mypop.target, freqs, marker='o')\n",
    "plt.xlabel('Target')\n",
    "plt.ylabel('Allele frequency')"
   ]
  },
  {
   "cell_type": "code",
   "execution_count": 132,
   "metadata": {},
   "outputs": [
    {
     "name": "stdout",
     "output_type": "stream",
     "text": [
      "Converting to numpy array.\n",
      "Converting to float32.\n",
      "Converting to [0,1].\n",
      "Flipping values.\n",
      "A numpy array with dimensions (9612, 128, 128, 1) and target with length 9612 and 801 classes.\n"
     ]
    },
    {
     "data": {
      "text/plain": [
       "0"
      ]
     },
     "execution_count": 132,
     "metadata": {},
     "output_type": "execute_result"
    }
   ],
   "source": [
    "mypop.majorminor()\n",
    "#mypop.filter_freq(0.01)\n",
    "mypop.sort('rows_freq')\n",
    "mypop.sort('cols_freq')\n",
    "mypop.resize((128, 128))\n",
    "mypop.convert()\n",
    "mypop.shuffle()"
   ]
  },
  {
   "cell_type": "code",
   "execution_count": 9,
   "metadata": {},
   "outputs": [],
   "source": [
    "import _pickle as pickle"
   ]
  },
  {
   "cell_type": "code",
   "execution_count": 10,
   "metadata": {},
   "outputs": [],
   "source": [
    "# to save, create folder\n",
    "os.mkdir('/home/mfumagal/Data/ImaGene/Images1.Epoch1')"
   ]
  },
  {
   "cell_type": "code",
   "execution_count": 11,
   "metadata": {},
   "outputs": [],
   "source": [
    "# save\n",
    "with open('/home/mfumagal/Data/ImaGene/Images1.Epoch1/mypop_sortedrowscolsfreq','wb') as fp:\n",
    "    pickle.dump(mypop, fp)"
   ]
  },
  {
   "cell_type": "code",
   "execution_count": 12,
   "metadata": {},
   "outputs": [],
   "source": [
    "# to load:\n",
    "with open('/home/mfumagal/Data/ImaGene/Images1.Epoch1/mypop_sortedrowscolsfreq','rb') as fp:\n",
    "    mypop = pickle.load(fp)"
   ]
  },
  {
   "cell_type": "code",
   "execution_count": null,
   "metadata": {},
   "outputs": [],
   "source": [
    "#mypop.majorminor()\n",
    "#mypop.filter_freq(0.01)\n",
    "mypop.sort('rows_distance_top')\n",
    "mypop.sort('cols_distance_top')\n",
    "mypop.resize((128, 128))\n",
    "mypop.convert()\n",
    "mypop.shuffle()\n",
    "\n",
    "# save\n",
    "with open('/home/mfumagal/Data/ImaGene/Images1.Epoch1/mypop_sortedrowscolsdist','wb') as fp:\n",
    "    pickle.dump(mypop, fp)\n",
    "    \n",
    "# to load:\n",
    "with open('/home/mfumagal/Data/ImaGene/Images1.Epoch1/mypop_sortedrowscolsdist','rb') as fp:\n",
    "    mypop = pickle.load(fp)"
   ]
  },
  {
   "cell_type": "code",
   "execution_count": null,
   "metadata": {},
   "outputs": [],
   "source": [
    "# to load:\n",
    "with open('/home/mfumagal/Data/ImaGene/Images1.Epoch1/mypop_sortedrowscolsdist','rb') as fp:\n",
    "    mypop = pickle.load(fp)"
   ]
  },
  {
   "cell_type": "code",
   "execution_count": 133,
   "metadata": {},
   "outputs": [
    {
     "name": "stdout",
     "output_type": "stream",
     "text": [
      "0\n"
     ]
    },
    {
     "data": {
      "image/png": "[encoded data removed]",
      "text/plain": [
       "<Figure size 432x288 with 1 Axes>"
      ]
     },
     "metadata": {
      "needs_background": "light"
     },
     "output_type": "display_data"
    },
    {
     "name": "stdout",
     "output_type": "stream",
     "text": [
      "100\n"
     ]
    },
    {
     "data": {
      "image/png": "[encoded data removed]",
      "text/plain": [
       "<Figure size 432x288 with 1 Axes>"
      ]
     },
     "metadata": {
      "needs_background": "light"
     },
     "output_type": "display_data"
    },
    {
     "name": "stdout",
     "output_type": "stream",
     "text": [
      "200\n"
     ]
    },
    {
     "data": {
      "image/png": "[encoded data removed]",
      "text/plain": [
       "<Figure size 432x288 with 1 Axes>"
      ]
     },
     "metadata": {
      "needs_background": "light"
     },
     "output_type": "display_data"
    },
    {
     "name": "stdout",
     "output_type": "stream",
     "text": [
      "300\n"
     ]
    },
    {
     "data": {
      "image/png": "[encoded data removed]",
      "text/plain": [
       "<Figure size 432x288 with 1 Axes>"
      ]
     },
     "metadata": {
      "needs_background": "light"
     },
     "output_type": "display_data"
    },
    {
     "name": "stdout",
     "output_type": "stream",
     "text": [
      "400\n"
     ]
    },
    {
     "data": {
      "image/png": "[encoded data removed]",
      "text/plain": [
       "<Figure size 432x288 with 1 Axes>"
      ]
     },
     "metadata": {
      "needs_background": "light"
     },
     "output_type": "display_data"
    },
    {
     "name": "stdout",
     "output_type": "stream",
     "text": [
      "500\n"
     ]
    },
    {
     "data": {
      "image/png": "[encoded data removed]",
      "text/plain": [
       "<Figure size 432x288 with 1 Axes>"
      ]
     },
     "metadata": {
      "needs_background": "light"
     },
     "output_type": "display_data"
    },
    {
     "name": "stdout",
     "output_type": "stream",
     "text": [
      "600\n"
     ]
    },
    {
     "data": {
      "image/png": "[encoded data removed]",
      "text/plain": [
       "<Figure size 432x288 with 1 Axes>"
      ]
     },
     "metadata": {
      "needs_background": "light"
     },
     "output_type": "display_data"
    },
    {
     "name": "stdout",
     "output_type": "stream",
     "text": [
      "700\n"
     ]
    },
    {
     "data": {
      "image/png": "[encoded data removed]",
      "text/plain": [
       "<Figure size 432x288 with 1 Axes>"
      ]
     },
     "metadata": {
      "needs_background": "light"
     },
     "output_type": "display_data"
    },
    {
     "name": "stdout",
     "output_type": "stream",
     "text": [
      "799\n"
     ]
    },
    {
     "data": {
      "image/png": "[encoded data removed]",
      "text/plain": [
       "<Figure size 432x288 with 1 Axes>"
      ]
     },
     "metadata": {
      "needs_background": "light"
     },
     "output_type": "display_data"
    }
   ],
   "source": [
    "for sel in [0,100,200,300,400,500,600,700,799]:\n",
    "    ind=np.where(mypop.target == sel)[0][2]\n",
    "    print(sel)\n",
    "    mypop.plot(ind)"
   ]
  },
  {
   "cell_type": "code",
   "execution_count": 134,
   "metadata": {},
   "outputs": [
    {
     "name": "stdout",
     "output_type": "stream",
     "text": [
      "[  0.         266.66666667 533.33333333 800.        ]\n"
     ]
    }
   ],
   "source": [
    "mypop.set_classes(nr_classes=4)\n",
    "print(mypop.classes)"
   ]
  },
  {
   "cell_type": "code",
   "execution_count": 139,
   "metadata": {},
   "outputs": [
    {
     "data": {
      "text/plain": [
       "array([[0, 1, 0, 0],\n",
       "       [0, 1, 0, 0],\n",
       "       [0, 0, 0, 1],\n",
       "       ...,\n",
       "       [0, 1, 0, 0],\n",
       "       [0, 0, 0, 1],\n",
       "       [0, 1, 0, 0]])"
      ]
     },
     "execution_count": 139,
     "metadata": {},
     "output_type": "execute_result"
    }
   ],
   "source": [
    "mypop.set_targets(wiggle=0, sd=0)\n",
    "mypop.target"
   ]
  },
  {
   "cell_type": "code",
   "execution_count": 157,
   "metadata": {},
   "outputs": [
    {
     "name": "stdout",
     "output_type": "stream",
     "text": [
      "9612\n",
      "0\n",
      "1\n"
     ]
    },
    {
     "ename": "IndexError",
     "evalue": "index 0 is out of bounds for axis 0 with size 0",
     "output_type": "error",
     "traceback": [
      "\u001b[0;31m---------------------------------------------------------------------------\u001b[0m",
      "\u001b[0;31mIndexError\u001b[0m                                Traceback (most recent call last)",
      "\u001b[0;32m~/Software/ImaGene/ImaGene.py\u001b[0m in \u001b[0;36m<module>\u001b[0;34m\u001b[0m\n\u001b[1;32m      3\u001b[0m \u001b[0;32mfor\u001b[0m \u001b[0mi\u001b[0m \u001b[0;32min\u001b[0m \u001b[0mrange\u001b[0m\u001b[0;34m(\u001b[0m\u001b[0mlen\u001b[0m\u001b[0;34m(\u001b[0m\u001b[0mfreqs\u001b[0m\u001b[0;34m)\u001b[0m\u001b[0;34m)\u001b[0m\u001b[0;34m:\u001b[0m\u001b[0;34m\u001b[0m\u001b[0;34m\u001b[0m\u001b[0m\n\u001b[1;32m      4\u001b[0m     \u001b[0mprint\u001b[0m\u001b[0;34m(\u001b[0m\u001b[0mi\u001b[0m\u001b[0;34m)\u001b[0m\u001b[0;34m\u001b[0m\u001b[0;34m\u001b[0m\u001b[0m\n\u001b[0;32m----> 5\u001b[0;31m     \u001b[0mfreqs\u001b[0m\u001b[0;34m[\u001b[0m\u001b[0mi\u001b[0m\u001b[0;34m]\u001b[0m \u001b[0;34m=\u001b[0m \u001b[0mmypop\u001b[0m\u001b[0;34m.\u001b[0m\u001b[0mdata\u001b[0m\u001b[0;34m[\u001b[0m\u001b[0mi\u001b[0m\u001b[0;34m]\u001b[0m\u001b[0;34m[\u001b[0m\u001b[0;34m:\u001b[0m\u001b[0;34m,\u001b[0m\u001b[0mnp\u001b[0m\u001b[0;34m.\u001b[0m\u001b[0mwhere\u001b[0m\u001b[0;34m(\u001b[0m\u001b[0mmypop\u001b[0m\u001b[0;34m.\u001b[0m\u001b[0mpositions\u001b[0m\u001b[0;34m[\u001b[0m\u001b[0mi\u001b[0m\u001b[0;34m]\u001b[0m\u001b[0;34m==\u001b[0m\u001b[0;36m0.5\u001b[0m\u001b[0;34m)\u001b[0m\u001b[0;34m[\u001b[0m\u001b[0;36m0\u001b[0m\u001b[0;34m]\u001b[0m\u001b[0;34m[\u001b[0m\u001b[0;36m0\u001b[0m\u001b[0;34m]\u001b[0m\u001b[0;34m,\u001b[0m\u001b[0;36m0\u001b[0m\u001b[0;34m]\u001b[0m\u001b[0;34m.\u001b[0m\u001b[0msum\u001b[0m\u001b[0;34m(\u001b[0m\u001b[0;34m)\u001b[0m\u001b[0;34m\u001b[0m\u001b[0;34m\u001b[0m\u001b[0m\n\u001b[0m",
      "\u001b[0;31mIndexError\u001b[0m: index 0 is out of bounds for axis 0 with size 0"
     ]
    }
   ],
   "source": [
    "freqs = np.zeros(len(mypop.data))\n",
    "print(len(freqs))\n",
    "for i in range(len(freqs)):\n",
    "    print(i)\n",
    "    freqs[i] = mypop.data[i][:,np.where(mypop.positions[i]==0.5)[0][0],0].sum()\n"
   ]
  },
  {
   "cell_type": "code",
   "execution_count": 161,
   "metadata": {},
   "outputs": [
    {
     "data": {
      "text/plain": [
       "array([7.7000e-04, 3.3500e-03, 1.1300e-02, 1.7320e-02, 1.8040e-02,\n",
       "       3.5420e-02, 4.9290e-02, 5.1440e-02, 5.2450e-02, 5.6960e-02,\n",
       "       6.2760e-02, 6.6100e-02, 6.9100e-02, 7.4720e-02, 8.1870e-02,\n",
       "       8.5170e-02, 1.0473e-01, 1.0514e-01, 1.1739e-01, 1.2402e-01,\n",
       "       1.2413e-01, 1.2529e-01, 1.3213e-01, 1.3336e-01, 1.4190e-01,\n",
       "       1.4227e-01, 1.5247e-01, 1.5323e-01, 1.5557e-01, 1.5595e-01,\n",
       "       1.5854e-01, 1.6759e-01, 1.7663e-01, 1.8551e-01, 1.9017e-01,\n",
       "       2.1241e-01, 2.3179e-01, 2.3888e-01, 2.4481e-01, 2.5826e-01,\n",
       "       2.5982e-01, 2.7092e-01, 2.7506e-01, 2.7815e-01, 2.8093e-01,\n",
       "       2.8452e-01, 2.8640e-01, 2.8823e-01, 2.9768e-01, 3.0169e-01,\n",
       "       3.0474e-01, 3.0826e-01, 3.0891e-01, 3.1310e-01, 3.2349e-01,\n",
       "       3.2620e-01, 3.4197e-01, 3.5441e-01, 3.6261e-01, 3.6440e-01,\n",
       "       3.6797e-01, 3.7425e-01, 3.7595e-01, 3.7821e-01, 3.8481e-01,\n",
       "       3.9001e-01, 3.9403e-01, 3.9425e-01, 4.0448e-01, 4.0460e-01,\n",
       "       4.0956e-01, 4.1269e-01, 4.1520e-01, 4.2145e-01, 4.2189e-01,\n",
       "       4.2352e-01, 4.2813e-01, 4.3162e-01, 4.3198e-01, 4.3562e-01,\n",
       "       4.3775e-01, 4.4978e-01, 4.5852e-01, 4.6952e-01, 4.7560e-01,\n",
       "       4.8485e-01, 4.8489e-01, 4.8971e-01, 4.9522e-01, 4.9616e-01,\n",
       "       5.0859e-01, 5.1196e-01, 5.1253e-01, 5.1972e-01, 5.2037e-01,\n",
       "       5.2095e-01, 5.3147e-01, 5.3383e-01, 5.4651e-01, 5.4856e-01,\n",
       "       5.4913e-01, 5.5141e-01, 5.5257e-01, 5.5434e-01, 5.5865e-01,\n",
       "       5.5927e-01, 5.6448e-01, 5.7327e-01, 5.7458e-01, 5.7554e-01,\n",
       "       5.7632e-01, 5.7868e-01, 5.8209e-01, 5.8369e-01, 5.9380e-01,\n",
       "       5.9518e-01, 5.9592e-01, 6.0853e-01, 6.0924e-01, 6.0959e-01,\n",
       "       6.1066e-01, 6.1860e-01, 6.1996e-01, 6.2143e-01, 6.3313e-01,\n",
       "       6.3559e-01, 6.4267e-01, 6.5719e-01, 6.6822e-01, 6.7356e-01,\n",
       "       6.7513e-01, 6.8324e-01, 6.8825e-01, 7.1272e-01, 7.1681e-01,\n",
       "       7.1841e-01, 7.1989e-01, 7.2354e-01, 7.2515e-01, 7.2539e-01,\n",
       "       7.2770e-01, 7.2885e-01, 7.3572e-01, 7.3875e-01, 7.4221e-01,\n",
       "       7.4514e-01, 7.4540e-01, 7.4917e-01, 7.6308e-01, 7.6413e-01,\n",
       "       7.8208e-01, 7.8430e-01, 7.8600e-01, 7.9892e-01, 8.0629e-01,\n",
       "       8.1089e-01, 8.1590e-01, 8.1944e-01, 8.2502e-01, 8.3046e-01,\n",
       "       8.3157e-01, 8.3787e-01, 8.4210e-01, 8.5349e-01, 8.5388e-01,\n",
       "       8.5809e-01, 8.6635e-01, 8.6768e-01, 8.6899e-01, 8.8469e-01,\n",
       "       8.9801e-01, 9.0271e-01, 9.0283e-01, 9.0347e-01, 9.1175e-01,\n",
       "       9.1176e-01, 9.1432e-01, 9.2483e-01, 9.2522e-01, 9.2871e-01,\n",
       "       9.3002e-01, 9.3010e-01, 9.4386e-01, 9.4764e-01, 9.6711e-01,\n",
       "       9.7170e-01, 9.7197e-01, 9.7600e-01, 9.8743e-01, 9.8861e-01,\n",
       "       9.9346e-01, 9.9451e-01, 9.9476e-01], dtype=float32)"
      ]
     },
     "execution_count": 161,
     "metadata": {},
     "output_type": "execute_result"
    }
   ],
   "source": [
    "i=1\n",
    "mypop.positions[i]\n",
    "#mypop.data[i]#[:,np.where(mypop.positions[i]==0.5)[0][0],0].sum()"
   ]
  },
  {
   "cell_type": "code",
   "execution_count": null,
   "metadata": {},
   "outputs": [],
   "source": [
    "mynet = ImaNet(mypop)"
   ]
  },
  {
   "cell_type": "code",
   "execution_count": null,
   "metadata": {},
   "outputs": [],
   "source": [
    "model = models.Sequential([\n",
    "                        layers.Conv2D(filters=32, kernel_size=(5,5), strides=(1,1), activation='relu', padding=\"same\", input_shape=mynet.input_shape),\n",
    "                        layers.MaxPooling2D(pool_size=(2,2)),\n",
    "                        layers.Dropout(rate=0.5),\n",
    "                        layers.Conv2D(filters=32, kernel_size=(5,5), strides=(1,1), activation='relu', padding=\"same\", input_shape=mynet.input_shape),\n",
    "                        layers.MaxPooling2D(pool_size=(2,2)),\n",
    "                        layers.Dropout(rate=0.5),\n",
    "                        layers.Conv2D(filters=32, kernel_size=(5,5), strides=(1,1), activation='relu', padding=\"same\", input_shape=mynet.input_shape),\n",
    "                        layers.MaxPooling2D(pool_size=(2,2)),\n",
    "                        layers.Dropout(rate=0.5),\n",
    "                        layers.Flatten(),\n",
    "                        #layers.Dense(units=128, activation=\"relu\"),\n",
    "                        layers.Dense(units=mynet.output_shape, activation=\"softmax\")])\n",
    "\n",
    "model.compile(optimizer=optimizers.Adam(0.001),\n",
    "                  loss='categorical_crossentropy',\n",
    "                  metrics=['accuracy'])"
   ]
  },
  {
   "cell_type": "code",
   "execution_count": null,
   "metadata": {},
   "outputs": [],
   "source": [
    "mynet.net = model\n",
    "#mynet.plot_net()"
   ]
  },
  {
   "cell_type": "code",
   "execution_count": null,
   "metadata": {},
   "outputs": [],
   "source": [
    "mynet.train(epochs=50, batch_size=64)"
   ]
  },
  {
   "cell_type": "code",
   "execution_count": null,
   "metadata": {},
   "outputs": [],
   "source": [
    "mynet.plot_train()"
   ]
  },
  {
   "cell_type": "code",
   "execution_count": null,
   "metadata": {},
   "outputs": [],
   "source": [
    "mynet.test()"
   ]
  },
  {
   "cell_type": "code",
   "execution_count": null,
   "metadata": {},
   "outputs": [],
   "source": [
    "mynet.plot_cm()"
   ]
  },
  {
   "cell_type": "code",
   "execution_count": null,
   "metadata": {},
   "outputs": [],
   "source": [
    "from sklearn.linear_model import LinearRegression"
   ]
  },
  {
   "cell_type": "code",
   "execution_count": null,
   "metadata": {},
   "outputs": [],
   "source": [
    "pred = np.argmax(mynet.net.predict(mynet.gene.data, batch_size=None), axis=1)\n",
    "true = np.argmax(mynet.gene.target, axis=1)"
   ]
  },
  {
   "cell_type": "code",
   "execution_count": null,
   "metadata": {},
   "outputs": [],
   "source": [
    "reg = LinearRegression().fit(true.reshape(-1,1), pred.reshape(-1,1))"
   ]
  },
  {
   "cell_type": "code",
   "execution_count": null,
   "metadata": {},
   "outputs": [],
   "source": [
    "plt.scatter(true, pred , marker='o')\n",
    "plt.title('Linear relationship between true and predicted labels')\n",
    "plt.xlabel('True label')\n",
    "plt.ylabel('Predicted label')"
   ]
  },
  {
   "cell_type": "code",
   "execution_count": null,
   "metadata": {},
   "outputs": [],
   "source": []
  }
 ],
 "metadata": {
  "kernelspec": {
   "display_name": "Python 3",
   "language": "python",
   "name": "python3"
  },
  "language_info": {
   "codemirror_mode": {
    "name": "ipython",
    "version": 3
   },
   "file_extension": ".py",
   "mimetype": "text/x-python",
   "name": "python",
   "nbconvert_exporter": "python",
   "pygments_lexer": "ipython3",
   "version": "3.6.8"
  }
 },
 "nbformat": 4,
 "nbformat_minor": 2
}
