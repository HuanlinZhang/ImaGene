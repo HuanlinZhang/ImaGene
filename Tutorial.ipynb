{
 "cells": [
  {
   "cell_type": "markdown",
   "metadata": {},
   "source": [
    "# Quick start"
   ]
  },
  {
   "cell_type": "markdown",
   "metadata": {},
   "source": [
    "..."
   ]
  },
  {
   "cell_type": "code",
   "execution_count": null,
   "metadata": {},
   "outputs": [],
   "source": [
    "# bash generate_data.sh # or use simulate.sh?"
   ]
  },
  {
   "cell_type": "code",
   "execution_count": 1,
   "metadata": {},
   "outputs": [
    {
     "name": "stderr",
     "output_type": "stream",
     "text": [
      "Using TensorFlow backend.\n"
     ]
    }
   ],
   "source": [
    "import os\n",
    "import gzip\n",
    "\n",
    "import numpy as np\n",
    "import scipy.stats\n",
    "\n",
    "import skimage.transform\n",
    "from keras import models, layers, activations, optimizers, regularizers\n",
    "from keras.utils import to_categorical, plot_model\n",
    "\n",
    "import matplotlib.pyplot as plt\n",
    "from sklearn.metrics import confusion_matrix\n",
    "import pymc3 # this will be removed\n",
    "import pydot # optional"
   ]
  },
  {
   "cell_type": "code",
   "execution_count": 2,
   "metadata": {},
   "outputs": [],
   "source": [
    "%run -i ImaGene.py"
   ]
  },
  {
   "cell_type": "code",
   "execution_count": 3,
   "metadata": {},
   "outputs": [],
   "source": [
    "myfile = ImaFile(simulations_folder='/home/mfumagal/Data/ImaGene/Simulations1.Epoch1', nr_samples=128, model_name='Marth-1epoch-CEU')"
   ]
  },
  {
   "cell_type": "code",
   "execution_count": 4,
   "metadata": {},
   "outputs": [],
   "source": [
    "mypop = myfile.read_simulations(parameter_name='selection_coeff_hetero', max_nrepl=12)"
   ]
  },
  {
   "cell_type": "code",
   "execution_count": 5,
   "metadata": {},
   "outputs": [
    {
     "name": "stdout",
     "output_type": "stream",
     "text": [
      "An object of 9600 images\n",
      "Rows: min 128, max 128, mean 128.000000, std 0.000000\n",
      "Columns: min 53, max 465, mean 319.766250, std 50.490591\n"
     ]
    },
    {
     "data": {
      "text/plain": [
       "0"
      ]
     },
     "execution_count": 5,
     "metadata": {},
     "output_type": "execute_result"
    }
   ],
   "source": [
    "mypop.summary()"
   ]
  },
  {
   "cell_type": "code",
   "execution_count": 6,
   "metadata": {},
   "outputs": [
    {
     "name": "stdout",
     "output_type": "stream",
     "text": [
      "Converting to numpy array.\n",
      "Converting to float32.\n",
      "Converting to [0,1].\n",
      "Flipping values.\n",
      "A numpy array with dimensions (9600, 128, 128, 1) and target with length 9600 and 800 classes.\n"
     ]
    },
    {
     "data": {
      "text/plain": [
       "0"
      ]
     },
     "execution_count": 6,
     "metadata": {},
     "output_type": "execute_result"
    }
   ],
   "source": [
    "mypop.majorminor()\n",
    "mypop.filter_freq(0.01)\n",
    "mypop.sort('rows_freq')\n",
    "mypop.sort('cols_freq')\n",
    "mypop.resize((128, 128))\n",
    "mypop.convert()\n",
    "mypop.shuffle()"
   ]
  },
  {
   "cell_type": "code",
   "execution_count": 7,
   "metadata": {},
   "outputs": [],
   "source": [
    "import _pickle as pickle"
   ]
  },
  {
   "cell_type": "code",
   "execution_count": null,
   "metadata": {},
   "outputs": [],
   "source": [
    "# to save, create folder\n",
    "#os.mkdir('/home/mfumagal/Data/ImaGene/Images1.Epoch1')"
   ]
  },
  {
   "cell_type": "code",
   "execution_count": 8,
   "metadata": {},
   "outputs": [],
   "source": [
    "# save\n",
    "with open('/home/mfumagal/Data/ImaGene/Images1.Epoch1/mypop_sortedrowscolsfreq','wb') as fp:\n",
    "    pickle.dump(mypop, fp)"
   ]
  },
  {
   "cell_type": "code",
   "execution_count": 33,
   "metadata": {},
   "outputs": [],
   "source": [
    "# to load:\n",
    "with open('/home/mfumagal/Data/ImaGene/Images1.Epoch1/mypop_sortedrowscolsfreq','rb') as fp:\n",
    "    mypop = pickle.load(fp)"
   ]
  },
  {
   "cell_type": "code",
   "execution_count": 22,
   "metadata": {},
   "outputs": [
    {
     "name": "stdout",
     "output_type": "stream",
     "text": [
      "Converting to [0,1].\n",
      "Flipping values.\n",
      "A numpy array with dimensions (9600, 128, 128, 1) and target with length 9600 and 800 classes.\n"
     ]
    }
   ],
   "source": [
    "#mypop.majorminor()\n",
    "#mypop.filter_freq(0.01)\n",
    "mypop.sort('rows_distance_top')\n",
    "mypop.sort('cols_distance_top')\n",
    "mypop.resize((128, 128))\n",
    "mypop.convert()\n",
    "mypop.shuffle()\n",
    "\n",
    "# save\n",
    "with open('/home/mfumagal/Data/ImaGene/Images1.Epoch1/mypop_sortedrowscolsdist','wb') as fp:\n",
    "    pickle.dump(mypop, fp)\n",
    "    \n",
    "# to load:\n",
    "with open('/home/mfumagal/Data/ImaGene/Images1.Epoch1/mypop_sortedrowscolsdist','rb') as fp:\n",
    "    mypop = pickle.load(fp)"
   ]
  },
  {
   "cell_type": "code",
   "execution_count": 31,
   "metadata": {},
   "outputs": [],
   "source": [
    "# to load:\n",
    "with open('/home/mfumagal/Data/ImaGene/Images1.Epoch1/mypop_sortedrowscolsdist','rb') as fp:\n",
    "    mypop = pickle.load(fp)"
   ]
  },
  {
   "cell_type": "code",
   "execution_count": 34,
   "metadata": {},
   "outputs": [
    {
     "name": "stdout",
     "output_type": "stream",
     "text": [
      "0\n"
     ]
    },
    {
     "data": {
      "image/png": "[encoded data removed]",
      "text/plain": [
       "<Figure size 432x288 with 1 Axes>"
      ]
     },
     "metadata": {
      "needs_background": "light"
     },
     "output_type": "display_data"
    },
    {
     "name": "stdout",
     "output_type": "stream",
     "text": [
      "100\n"
     ]
    },
    {
     "data": {
      "image/png": "[encoded data removed]",
      "text/plain": [
       "<Figure size 432x288 with 1 Axes>"
      ]
     },
     "metadata": {
      "needs_background": "light"
     },
     "output_type": "display_data"
    },
    {
     "name": "stdout",
     "output_type": "stream",
     "text": [
      "200\n"
     ]
    },
    {
     "data": {
      "image/png": "[encoded data removed]",
      "text/plain": [
       "<Figure size 432x288 with 1 Axes>"
      ]
     },
     "metadata": {
      "needs_background": "light"
     },
     "output_type": "display_data"
    },
    {
     "name": "stdout",
     "output_type": "stream",
     "text": [
      "300\n"
     ]
    },
    {
     "data": {
      "image/png": "[encoded data removed]",
      "text/plain": [
       "<Figure size 432x288 with 1 Axes>"
      ]
     },
     "metadata": {
      "needs_background": "light"
     },
     "output_type": "display_data"
    },
    {
     "name": "stdout",
     "output_type": "stream",
     "text": [
      "400\n"
     ]
    },
    {
     "data": {
      "image/png": "[encoded data removed]",
      "text/plain": [
       "<Figure size 432x288 with 1 Axes>"
      ]
     },
     "metadata": {
      "needs_background": "light"
     },
     "output_type": "display_data"
    },
    {
     "name": "stdout",
     "output_type": "stream",
     "text": [
      "500\n"
     ]
    },
    {
     "data": {
      "image/png": "[encoded data removed]",
      "text/plain": [
       "<Figure size 432x288 with 1 Axes>"
      ]
     },
     "metadata": {
      "needs_background": "light"
     },
     "output_type": "display_data"
    },
    {
     "name": "stdout",
     "output_type": "stream",
     "text": [
      "600\n"
     ]
    },
    {
     "data": {
      "image/png": "[encoded data removed]",
      "text/plain": [
       "<Figure size 432x288 with 1 Axes>"
      ]
     },
     "metadata": {
      "needs_background": "light"
     },
     "output_type": "display_data"
    },
    {
     "name": "stdout",
     "output_type": "stream",
     "text": [
      "700\n"
     ]
    },
    {
     "data": {
      "image/png": "[encoded data removed]",
      "text/plain": [
       "<Figure size 432x288 with 1 Axes>"
      ]
     },
     "metadata": {
      "needs_background": "light"
     },
     "output_type": "display_data"
    },
    {
     "name": "stdout",
     "output_type": "stream",
     "text": [
      "799\n"
     ]
    },
    {
     "data": {
      "image/png": "[encoded data removed]",
      "text/plain": [
       "<Figure size 432x288 with 1 Axes>"
      ]
     },
     "metadata": {
      "needs_background": "light"
     },
     "output_type": "display_data"
    }
   ],
   "source": [
    "for sel in [0,100,200,300,400,500,600,700,799]:\n",
    "    ind=np.where(mypop.target == sel)[0][2]\n",
    "    print(sel)\n",
    "    mypop.plot(ind)"
   ]
  },
  {
   "cell_type": "code",
   "execution_count": 25,
   "metadata": {},
   "outputs": [
    {
     "name": "stdout",
     "output_type": "stream",
     "text": [
      "589\n"
     ]
    },
    {
     "data": {
      "image/png": "[encoded data removed]",
      "text/plain": [
       "<Figure size 432x288 with 1 Axes>"
      ]
     },
     "metadata": {
      "needs_background": "light"
     },
     "output_type": "display_data"
    },
    {
     "data": {
      "text/plain": [
       "0"
      ]
     },
     "execution_count": 25,
     "metadata": {},
     "output_type": "execute_result"
    }
   ],
   "source": [
    "ind=np.where(mypop.target == 399)[0][0]\n",
    "print(ind)\n",
    "mypop.plot(ind)"
   ]
  },
  {
   "cell_type": "code",
   "execution_count": 35,
   "metadata": {},
   "outputs": [
    {
     "data": {
      "text/plain": [
       "array([  0.  , 199.75, 399.5 , 599.25, 799.  ])"
      ]
     },
     "execution_count": 35,
     "metadata": {},
     "output_type": "execute_result"
    }
   ],
   "source": [
    "mypop.set_classes(nr_classes=5)\n",
    "mypop.classes"
   ]
  },
  {
   "cell_type": "code",
   "execution_count": 36,
   "metadata": {},
   "outputs": [
    {
     "data": {
      "text/plain": [
       "array([[0., 1., 0., 0., 0.],\n",
       "       [0., 0., 1., 0., 0.],\n",
       "       [0., 0., 0., 0., 1.],\n",
       "       ...,\n",
       "       [0., 0., 0., 1., 0.],\n",
       "       [0., 0., 1., 0., 0.],\n",
       "       [0., 0., 1., 0., 0.]], dtype=float32)"
      ]
     },
     "execution_count": 36,
     "metadata": {},
     "output_type": "execute_result"
    }
   ],
   "source": [
    "mypop.set_targets(sd=0, wiggle=0)\n",
    "mypop.target"
   ]
  },
  {
   "cell_type": "code",
   "execution_count": 41,
   "metadata": {},
   "outputs": [],
   "source": [
    "mynet = ImaNet(mypop)"
   ]
  },
  {
   "cell_type": "code",
   "execution_count": 42,
   "metadata": {},
   "outputs": [],
   "source": [
    "model = models.Sequential([\n",
    "                        layers.Conv2D(filters=32, kernel_size=(5,5), strides=(1,1), activation='relu', padding=\"same\", input_shape=mynet.input_shape),\n",
    "                        layers.MaxPooling2D(pool_size=(2,2)),\n",
    "                        layers.Dropout(rate=0.5),\n",
    "                        layers.Conv2D(filters=32, kernel_size=(5,5), strides=(1,1), activation='relu', padding=\"same\", input_shape=mynet.input_shape),\n",
    "                        layers.MaxPooling2D(pool_size=(2,2)),\n",
    "                        layers.Dropout(rate=0.5),\n",
    "                        layers.Conv2D(filters=32, kernel_size=(5,5), strides=(1,1), activation='relu', padding=\"same\", input_shape=mynet.input_shape),\n",
    "                        layers.MaxPooling2D(pool_size=(2,2)),\n",
    "                        layers.Dropout(rate=0.5),\n",
    "                        layers.Flatten(),\n",
    "                        #layers.Dense(units=128, activation=\"relu\"),\n",
    "                        layers.Dense(units=mynet.output_shape, activation=\"softmax\")])\n",
    "\n",
    "model.compile(optimizer=optimizers.Adam(0.001),\n",
    "                  loss='categorical_crossentropy',\n",
    "                  metrics=['accuracy'])"
   ]
  },
  {
   "cell_type": "code",
   "execution_count": 43,
   "metadata": {},
   "outputs": [],
   "source": [
    "mynet.net = model\n",
    "#mynet.plot_net()"
   ]
  },
  {
   "cell_type": "code",
   "execution_count": null,
   "metadata": {},
   "outputs": [
    {
     "name": "stdout",
     "output_type": "stream",
     "text": [
      "Train on 6144 samples, validate on 1536 samples\n",
      "Epoch 1/50\n",
      "6144/6144 [==============================] - 26s 4ms/step - loss: 1.5781 - acc: 0.2445 - val_loss: 1.5877 - val_acc: 0.2409\n",
      "Epoch 2/50\n",
      "6144/6144 [==============================] - 27s 4ms/step - loss: 1.5624 - acc: 0.2432 - val_loss: 1.5892 - val_acc: 0.2467\n",
      "Epoch 3/50\n",
      "6144/6144 [==============================] - 26s 4ms/step - loss: 1.5627 - acc: 0.2614 - val_loss: 1.5753 - val_acc: 0.2467\n",
      "Epoch 4/50\n",
      "6144/6144 [==============================] - 27s 4ms/step - loss: 1.5610 - acc: 0.2572 - val_loss: 1.5753 - val_acc: 0.2552\n",
      "Epoch 5/50\n",
      "6144/6144 [==============================] - 27s 4ms/step - loss: 1.5604 - acc: 0.2599 - val_loss: 1.5716 - val_acc: 0.2507\n",
      "Epoch 6/50\n",
      "6144/6144 [==============================] - 26s 4ms/step - loss: 1.5567 - acc: 0.2653 - val_loss: 1.5799 - val_acc: 0.2585\n",
      "Epoch 7/50\n",
      "6144/6144 [==============================] - 27s 4ms/step - loss: 1.5580 - acc: 0.2612 - val_loss: 1.5719 - val_acc: 0.2578\n",
      "Epoch 8/50\n",
      "6144/6144 [==============================] - 27s 4ms/step - loss: 1.5550 - acc: 0.2638 - val_loss: 1.5718 - val_acc: 0.2546\n",
      "Epoch 9/50\n",
      "6144/6144 [==============================] - 27s 4ms/step - loss: 1.5527 - acc: 0.2668 - val_loss: 1.5784 - val_acc: 0.2507\n",
      "Epoch 10/50\n",
      "6144/6144 [==============================] - 26s 4ms/step - loss: 1.5509 - acc: 0.2664 - val_loss: 1.5805 - val_acc: 0.2480\n",
      "Epoch 11/50\n",
      "6144/6144 [==============================] - 27s 4ms/step - loss: 1.5477 - acc: 0.2733 - val_loss: 1.5732 - val_acc: 0.2539\n",
      "Epoch 12/50\n",
      "6144/6144 [==============================] - 27s 4ms/step - loss: 1.5436 - acc: 0.2796 - val_loss: 1.5790 - val_acc: 0.2396\n",
      "Epoch 13/50\n",
      "6144/6144 [==============================] - 27s 4ms/step - loss: 1.5431 - acc: 0.2941 - val_loss: 1.5923 - val_acc: 0.2480\n",
      "Epoch 14/50\n",
      "6144/6144 [==============================] - 26s 4ms/step - loss: 1.5359 - acc: 0.2881 - val_loss: 1.5842 - val_acc: 0.2454\n",
      "Epoch 15/50\n",
      "6144/6144 [==============================] - 26s 4ms/step - loss: 1.5357 - acc: 0.2941 - val_loss: 1.5828 - val_acc: 0.2428\n",
      "Epoch 16/50\n",
      "6144/6144 [==============================] - 26s 4ms/step - loss: 1.5297 - acc: 0.3001 - val_loss: 1.5855 - val_acc: 0.2454\n",
      "Epoch 17/50\n",
      "6144/6144 [==============================] - 26s 4ms/step - loss: 1.5280 - acc: 0.3047 - val_loss: 1.5912 - val_acc: 0.2448\n",
      "Epoch 18/50\n",
      "6144/6144 [==============================] - 27s 4ms/step - loss: 1.5140 - acc: 0.3167 - val_loss: 1.5855 - val_acc: 0.2363\n",
      "Epoch 19/50\n",
      "6144/6144 [==============================] - 27s 4ms/step - loss: 1.5112 - acc: 0.3224 - val_loss: 1.5908 - val_acc: 0.2422\n",
      "Epoch 20/50\n",
      "5696/6144 [==========================>...] - ETA: 1s - loss: 1.5056 - acc: 0.3311"
     ]
    }
   ],
   "source": [
    "mynet.train(epochs=50, batch_size=64)"
   ]
  },
  {
   "cell_type": "code",
   "execution_count": null,
   "metadata": {},
   "outputs": [],
   "source": [
    "mynet.plot_train()"
   ]
  },
  {
   "cell_type": "code",
   "execution_count": null,
   "metadata": {},
   "outputs": [],
   "source": [
    "mynet.test()"
   ]
  },
  {
   "cell_type": "code",
   "execution_count": null,
   "metadata": {},
   "outputs": [],
   "source": []
  },
  {
   "cell_type": "code",
   "execution_count": null,
   "metadata": {},
   "outputs": [],
   "source": [
    "from sklearn.linear_model import LinearRegression"
   ]
  },
  {
   "cell_type": "code",
   "execution_count": null,
   "metadata": {},
   "outputs": [],
   "source": [
    "pred = np.argmax(mynet.net.predict(mynet.gene.data, batch_size=None), axis=1)\n",
    "true = np.argmax(mynet.gene.target, axis=1)"
   ]
  },
  {
   "cell_type": "code",
   "execution_count": null,
   "metadata": {},
   "outputs": [],
   "source": [
    "reg = LinearRegression().fit(true.reshape(-1,1), pred.reshape(-1,1))"
   ]
  },
  {
   "cell_type": "code",
   "execution_count": null,
   "metadata": {},
   "outputs": [],
   "source": [
    "plt.scatter(true, pred , marker='o')\n",
    "plt.title('Linear relationship between true and predicted labels')\n",
    "plt.xlabel('True label')\n",
    "plt.ylabel('Predicted label')"
   ]
  },
  {
   "cell_type": "code",
   "execution_count": null,
   "metadata": {},
   "outputs": [],
   "source": []
  }
 ],
 "metadata": {
  "kernelspec": {
   "display_name": "Python 3",
   "language": "python",
   "name": "python3"
  },
  "language_info": {
   "codemirror_mode": {
    "name": "ipython",
    "version": 3
   },
   "file_extension": ".py",
   "mimetype": "text/x-python",
   "name": "python",
   "nbconvert_exporter": "python",
   "pygments_lexer": "ipython3",
   "version": "3.6.8"
  }
 },
 "nbformat": 4,
 "nbformat_minor": 2
}
