{
 "cells": [
  {
   "cell_type": "markdown",
   "metadata": {},
   "source": [
    "# Tutorial for multiclass classification on continuous variables using _ImaGene_\n",
    "\n",
    "In this example, the aim is to estimate the selection coefficient on a given _locus_ using multiclass classification.\n",
    "Please refer to the tutorial for binay classification for an in-depth explanation of each step.\n",
    "Please also refer to the main paper for the rational behind this approach."
   ]
  },
  {
   "cell_type": "code",
   "execution_count": null,
   "metadata": {},
   "outputs": [],
   "source": [
    "import os\n",
    "import gzip\n",
    "import _pickle as pickle\n",
    "\n",
    "import numpy as np\n",
    "import scipy.stats\n",
    "\n",
    "import skimage.transform\n",
    "from keras import models, layers, activations, optimizers, regularizers\n",
    "from keras.utils import plot_model\n",
    "from keras.models import load_model\n",
    "\n",
    "import itertools\n",
    "import matplotlib.pyplot as plt\n",
    "from sklearn.metrics import confusion_matrix"
   ]
  },
  {
   "cell_type": "code",
   "execution_count": null,
   "metadata": {},
   "outputs": [],
   "source": [
    "%run -i ImaGene.py"
   ]
  },
  {
   "cell_type": "code",
   "execution_count": null,
   "metadata": {},
   "outputs": [],
   "source": [
    "i = 1\n",
    "while i <= 10:\n",
    "\n",
    "    # simulations from one-epoch demographic model\n",
    "    myfile = ImaFile(simulations_folder='/home/mfumagal/Data/ImaGene/Continuous/Simulations' + str(i) + '.Epoch1', nr_samples=128, model_name='Marth-1epoch-CEU')\n",
    "\n",
    "    # only 100 replicates per class since I simulated many classes here, all discrete values from 0 to 400\n",
    "    mygene = myfile.read_simulations(parameter_name='selection_coeff_hetero', max_nrepl=100)\n",
    "    if i == 1:\n",
    "        mygene.summary()\n",
    "    \n",
    "    # manipulate data\n",
    "    mygene.filter_freq(0.02)\n",
    "    mygene.sort('rows_freq')\n",
    "    mygene.sort('cols_freq')\n",
    "    mygene.resize((128, 128))\n",
    "    mygene.convert(verbose=False)\n",
    "    \n",
    "    # we assign 11 classes out of all the data simulated\n",
    "    mygene.set_classes(nr_classes=11)\n",
    "    if i == 1:\n",
    "        print(mygene.classes)\n",
    "    # and we assign targets corresponding to the previously set classes \n",
    "    mygene.set_targets()\n",
    "    \n",
    "    # randomise data\n",
    "    mygene.subset(get_index_random(mygene))\n",
    "\n",
    "    # targets have to be converted into categorical data; here we can use some extra options to, for instance, impose a Guassian distribution on the true targets\n",
    "    mygene.targets = to_categorical(mygene.targets, wiggle=0, sd=0.5)\n",
    "    \n",
    "    # at first iteration we build the model \n",
    "    # note that, as an illustration, we don't implement a final fully-connected layer\n",
    "    if i == 1:\n",
    "\n",
    "        model = models.Sequential([\n",
    "                    layers.Conv2D(filters=32, kernel_size=(3,3), strides=(1,1), activation='relu', kernel_regularizer=regularizers.l1_l2(l1=0.005, l2=0.005), padding='valid', input_shape=mygene.data.shape[1:4]),\n",
    "                    layers.MaxPooling2D(pool_size=(2,2)),\n",
    "                    layers.Conv2D(filters=64, kernel_size=(3,3), strides=(1,1), activation='relu', kernel_regularizer=regularizers.l1_l2(l1=0.005, l2=0.005), padding='valid'),\n",
    "                    layers.MaxPooling2D(pool_size=(2,2)),\n",
    "                    layers.Conv2D(filters=128, kernel_size=(3,3), strides=(1,1), activation='relu', kernel_regularizer=regularizers.l1_l2(l1=0.005, l2=0.005), padding='valid'),\n",
    "                    layers.MaxPooling2D(pool_size=(2,2)),\n",
    "                    layers.Flatten(),\n",
    "                    layers.Dense(units=len(mygene.classes), activation='softmax')])\n",
    "        model.compile(optimizer='adam',\n",
    "                    loss='categorical_crossentropy',\n",
    "                    metrics=['accuracy'])\n",
    "\n",
    "        mynet = ImaNet(name='[C32+P]+[C64+P]+[C128+P]')\n",
    "\n",
    "    # training for iterations from 1 to 9\n",
    "    print(i)\n",
    "    if i < 10:\n",
    "        score = model.fit(mygene.data, mygene.targets, batch_size=32, epochs=1, verbose=1, validation_split=0.10)\n",
    "        mynet.update_scores(score)\n",
    "    else:\n",
    "        # testing for iteration 10\n",
    "        mynet.test = model.evaluate(mygene.data, mygene.targets, batch_size=None, verbose=1)\n",
    "        mynet.predict(mygene, model)\n",
    "\n",
    "    i += 1"
   ]
  },
  {
   "cell_type": "code",
   "execution_count": null,
   "metadata": {},
   "outputs": [],
   "source": [
    "# save final (trained) model\n",
    "model.save('Data/model.cont.h5')\n",
    "\n",
    "# save testing data\n",
    "mygene.save('Data/mygene.cont')\n",
    "\n",
    "# save network\n",
    "mynet.save('Data/mynet.cont')"
   ]
  },
  {
   "cell_type": "code",
   "execution_count": null,
   "metadata": {},
   "outputs": [],
   "source": [
    "# assess the training\n",
    "mynet.plot_train()"
   ]
  },
  {
   "cell_type": "code",
   "execution_count": null,
   "metadata": {},
   "outputs": [],
   "source": [
    "# print the testing results [loss, accuracy]\n",
    "print(mynet.test)"
   ]
  },
  {
   "cell_type": "code",
   "execution_count": null,
   "metadata": {},
   "outputs": [],
   "source": [
    "# plot a confusion matrix (on the last mygene object which represents the testing data)\n",
    "mynet.plot_cm(mygene.classes)"
   ]
  },
  {
   "cell_type": "markdown",
   "metadata": {},
   "source": [
    "A plot of the probability distrbution can be easily obtained by, for instance, gathering MCMC samples (using `import pymc3`) followed by a histogram. MCMC samples can be used to obtain Bayes Factors and HPDI. \n",
    "However, it is not guaranteed that this approach is better than using a regression as final layer. More tests need to be conducted."
   ]
  }
 ],
 "metadata": {
  "kernelspec": {
   "display_name": "Python 3",
   "language": "python",
   "name": "python3"
  },
  "language_info": {
   "codemirror_mode": {
    "name": "ipython",
    "version": 3
   },
   "file_extension": ".py",
   "mimetype": "text/x-python",
   "name": "python",
   "nbconvert_exporter": "python",
   "pygments_lexer": "ipython3",
   "version": "3.6.9"
  }
 },
 "nbformat": 4,
 "nbformat_minor": 2
}
