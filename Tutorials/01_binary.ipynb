{
 "cells": [
  {
   "cell_type": "markdown",
   "metadata": {},
   "source": [
    "# Binary classification using _ImaGene_"
   ]
  },
  {
   "cell_type": "markdown",
   "metadata": {},
   "source": [
    "This is a short tutorial to learn the basic usage of _ImaGene_ which contains a series of objects in python to interact with the populat package for deep learning _keras_.\n",
    "In this example our aim is to predict whether a given locus is under natural selection from population genomic data. \n",
    "Therefore, we will employ _ImaGene_ to perform a binary classification and we will use the classic example of positive selection for lactase persistence in human populations.\n",
    "\n",
    "The C/T(-13910) variant, or rs4988235, is located on chromosome 2 in the _MCM6_ gene but influences the lactase _LCT_ gene. This SNP is associated with the primary haplotype associated with lactose intolerance in European populations. \n",
    "In these populations, the common T allele is associated with lactase persistence. Individuals who are homozygous for C allele are likely to be lactose intolerant. \n",
    "We extracted SNP information from a region of 80k base pairs around the target variant rs4988235 from the 1000 Genomes Project data for all unrelated individuals of CEU population (of European descent).\n",
    "The data is in the form of a VCF file.\n",
    "\n",
    "In this tutorial, you will learn how to:\n",
    "1. read data from VCF file and store it into _ImaGene_ objects,\n",
    "2. run and process simulations to be used for training,\n",
    "3. implement, train and evaluate the neural network,\n",
    "4. deploy the trained network on your genomic data of interest."
   ]
  },
  {
   "cell_type": "markdown",
   "metadata": {},
   "source": [
    "Before starting, we need to load the necessary modules in _python_"
   ]
  },
  {
   "cell_type": "code",
   "execution_count": 1,
   "metadata": {},
   "outputs": [
    {
     "name": "stderr",
     "output_type": "stream",
     "text": [
      "Using TensorFlow backend.\n"
     ]
    }
   ],
   "source": [
    "import os\n",
    "import gzip\n",
    "import _pickle as pickle\n",
    "\n",
    "import numpy as np\n",
    "import scipy.stats\n",
    "import pymc3\n",
    "\n",
    "import tensorflow as tf\n",
    "from tensorflow import keras\n",
    "from keras import models, layers, activations, optimizers, regularizers\n",
    "from keras.utils import plot_model\n",
    "from keras.models import load_model\n",
    "\n",
    "import itertools\n",
    "import matplotlib.pyplot as plt\n",
    "import skimage.transform\n",
    "from sklearn.metrics import confusion_matrix\n",
    "import pydot # optional, but required by keras to plot the model "
   ]
  },
  {
   "cell_type": "markdown",
   "metadata": {},
   "source": [
    "and _ImaGene_."
   ]
  },
  {
   "cell_type": "code",
   "execution_count": 3,
   "metadata": {},
   "outputs": [],
   "source": [
    "%run -i ../ImaGene.py"
   ]
  },
  {
   "cell_type": "markdown",
   "metadata": {},
   "source": [
    "Make sure you created a virtual environment with all dependencies as requested. See the main README.md page. Additionally please note that this tutorial has been tested with:\n",
    "* python 3.6.10\n",
    "* numpy 1.18.1\n",
    "* scipy 1.4.1 \n",
    "* keras 2.3.1\n",
    "* tensorflow 2.1.0\n",
    "* scikit-image 0.16.2\n",
    "* scikit-learn 0.22.1\n",
    "* matplotlib 3.1.3\n",
    "* pydot 1.4.1 \n",
    "* pymc3 3.8\n",
    "* ipython 7.13.0\n",
    "* jupyter 1.0.0"
   ]
  },
  {
   "cell_type": "markdown",
   "metadata": {},
   "source": [
    "### 1. read data from VCF file and store it into _ImaGene_ objects\n",
    "\n",
    "We store the information of the genomic data into an _ImaFile_ object where we specify the name of the VCF file and the number of samples (i.e. the number of chromosomal copies, twice the number of individuals for a diploid organism).\n",
    "The latter parameter is not strictly necessary but it is useful to check whether the VCF we are analysing contains the data that we expect."
   ]
  },
  {
   "cell_type": "code",
   "execution_count": 4,
   "metadata": {},
   "outputs": [],
   "source": [
    "file_LCT = ImaFile(nr_samples=198, VCF_file_name='LCT.CEU.vcf')"
   ]
  },
  {
   "cell_type": "markdown",
   "metadata": {},
   "source": [
    "We create an _ImaGene_ object by reading the VCF file and generating a matrix of haplotypes."
   ]
  },
  {
   "cell_type": "code",
   "execution_count": 5,
   "metadata": {},
   "outputs": [],
   "source": [
    "gene_LCT = file_LCT.read_VCF()"
   ]
  },
  {
   "cell_type": "markdown",
   "metadata": {},
   "source": [
    "An _ImaGene_ has a series of useful methods. \n",
    "For instance, we can have a quick look at the data stored in this object."
   ]
  },
  {
   "cell_type": "code",
   "execution_count": 6,
   "metadata": {},
   "outputs": [
    {
     "name": "stdout",
     "output_type": "stream",
     "text": [
      "An object of 1 image(s)\n",
      "Rows: min 198, max 198, mean 198.000000, std 0.000000\n",
      "Columns: min 2200, max 2200, mean 2200.000000, std 0.000000\n"
     ]
    },
    {
     "data": {
      "text/plain": [
       "0"
      ]
     },
     "execution_count": 6,
     "metadata": {},
     "output_type": "execute_result"
    }
   ],
   "source": [
    "gene_LCT.summary()"
   ]
  },
  {
   "cell_type": "markdown",
   "metadata": {},
   "source": [
    "As expected, we have one image with 198 rows (equivalent to the number of sampled chromosomal copies) and 2200 columns representing all genomic positions reported.\n",
    "It is likely that not all of these positions will be polymorphic in the CEU sample as the VCF file reports variats across all analysed populations.\n",
    "\n",
    "Similarly, we may want to discard rare variants as they may be more associated to errors or be less informative of the scenario we want to predict.\n",
    "Assume that we want to ignore monomorphic sites and singletons for the derived allele.\n",
    "We can accomplish this with the following command."
   ]
  },
  {
   "cell_type": "code",
   "execution_count": 7,
   "metadata": {},
   "outputs": [
    {
     "data": {
      "text/plain": [
       "0"
      ]
     },
     "execution_count": 7,
     "metadata": {},
     "output_type": "execute_result"
    }
   ],
   "source": [
    "gene_LCT.filter_freq(0.01)"
   ]
  },
  {
   "cell_type": "markdown",
   "metadata": {},
   "source": [
    "If we are unsure about the ancestral/derived polarisation of alleles, we can convert them into major/minor alleles using the method `.majorminor()`. \n",
    "We can have a look at the resulting image."
   ]
  },
  {
   "cell_type": "code",
   "execution_count": 8,
   "metadata": {},
   "outputs": [
    {
     "data": {
      "image/png": "[encoded data removed]",
      "text/plain": [
       "<matplotlib.figure.Figure at 0x7f06d0d29668>"
      ]
     },
     "metadata": {},
     "output_type": "display_data"
    },
    {
     "data": {
      "text/plain": [
       "0"
      ]
     },
     "execution_count": 8,
     "metadata": {},
     "output_type": "execute_result"
    }
   ],
   "source": [
    "gene_LCT.plot()"
   ]
  },
  {
   "cell_type": "markdown",
   "metadata": {},
   "source": [
    "As the order on the rows is arbitrary, we can order them (and columns) following several criteria.\n",
    "We can do this with _ImaGene_ with the `.sort` method which has the following options."
   ]
  },
  {
   "cell_type": "code",
   "execution_count": 9,
   "metadata": {},
   "outputs": [],
   "source": [
    "gene_LCT.sort?"
   ]
  },
  {
   "cell_type": "markdown",
   "metadata": {},
   "source": [
    "Assume that we wish to sort only rows by their frequency (with the most frequent haplotypes on the top).\n",
    "This can be done with the following command (which will also visualise the resulting image)."
   ]
  },
  {
   "cell_type": "code",
   "execution_count": 10,
   "metadata": {},
   "outputs": [
    {
     "data": {
      "image/png": "[encoded data removed]",
      "text/plain": [
       "<matplotlib.figure.Figure at 0x7f06d0d8f3c8>"
      ]
     },
     "metadata": {},
     "output_type": "display_data"
    },
    {
     "data": {
      "text/plain": [
       "0"
      ]
     },
     "execution_count": 10,
     "metadata": {},
     "output_type": "execute_result"
    }
   ],
   "source": [
    "gene_LCT.sort('rows_freq')\n",
    "gene_LCT.plot()"
   ]
  },
  {
   "cell_type": "markdown",
   "metadata": {},
   "source": [
    "Once we are happy with our data processing (e.g. filtering and sorting), we need to convert the image into an appropriate format which will be later used for the prediction.\n",
    "As an illustration, we also flip black and white pixels to assign the former to derived (or minor) alleles which is the standard representation of genomic data."
   ]
  },
  {
   "cell_type": "code",
   "execution_count": 11,
   "metadata": {},
   "outputs": [
    {
     "data": {
      "image/png": "[encoded data removed]",
      "text/plain": [
       "<matplotlib.figure.Figure at 0x7f06d0ab82e8>"
      ]
     },
     "metadata": {},
     "output_type": "display_data"
    },
    {
     "name": "stdout",
     "output_type": "stream",
     "text": [
      "An object of 1 image(s)\n",
      "Rows: min 198, max 198, mean 198.000000, std 0.000000\n",
      "Columns: min 192, max 192, mean 192.000000, std 0.000000\n"
     ]
    },
    {
     "data": {
      "text/plain": [
       "0"
      ]
     },
     "execution_count": 11,
     "metadata": {},
     "output_type": "execute_result"
    }
   ],
   "source": [
    "gene_LCT.convert(flip=True)\n",
    "gene_LCT.plot()\n",
    "gene_LCT.summary()"
   ]
  },
  {
   "cell_type": "markdown",
   "metadata": {},
   "source": [
    "We finally note that our image has 192 columns now, representing the number of retained SNPs.\n",
    "\n",
    "We can save our _ImaGene_ object (and load it).\n",
    "It is useful at this stage to set up some variables to handle the directories where we want to save our data.\n",
    "For instance, in my case I would set this path:"
   ]
  },
  {
   "cell_type": "code",
   "execution_count": 12,
   "metadata": {},
   "outputs": [],
   "source": [
    "# change to your path\n",
    "path = '/home/mfumagal/Data/ImaGene/Tutorials/'"
   ]
  },
  {
   "cell_type": "markdown",
   "metadata": {},
   "source": [
    "and then I will assume that this data will be saved in the folder `/home/mfumagal/Data/ImaGene/Tutorials/Data`.\n",
    "Please make sure you have already created these folders, for instance with the `import os` and `os.makedirs(path)` or with `import subprocess` and `subprocess.call(\"mkdir -p ... \")`.\n",
    "After this, I can easily save my data in the desired (already created) folder."
   ]
  },
  {
   "cell_type": "code",
   "execution_count": 14,
   "metadata": {},
   "outputs": [
    {
     "data": {
      "text/plain": [
       "0"
      ]
     },
     "execution_count": 14,
     "metadata": {},
     "output_type": "execute_result"
    }
   ],
   "source": [
    "# save\n",
    "gene_LCT.save(file= path + 'Data/gene_LCT_binary')"
   ]
  },
  {
   "cell_type": "code",
   "execution_count": 15,
   "metadata": {},
   "outputs": [],
   "source": [
    "# load\n",
    "gene_LCT = load_imagene(file=path + 'Data/gene_LCT_binary')"
   ]
  },
  {
   "cell_type": "markdown",
   "metadata": {},
   "source": [
    "### 2. run and process simulations to be used for training the neural network\n",
    "\n",
    "_ImaGene_ provides users with an easy interface with _msms_ to run simulations which will be used for training the network.\n",
    "The script `../generate_dataset.sh` accepts an input file which specifies the parameters of the simulations.\n",
    "A generic file with all descriptions is `../params.txt`.\n",
    "If you want to make changes, you need to open the parameter file with a [text editor](https://en.wikipedia.org/wiki/Text_editor), change the value of the desired options, save and close it.\n",
    "\n",
    "We provide an example of this file called `params_binary` which simulates a total of 200,000 loci of 80kbp either under neutral evolution or positive selection with additive effect and an allelic selection coefficient of $1.5$% targeting a variant in the middle of the region.\n",
    "Selection started 800 generations ago (corresponding to 20kya with a generation time of 25 years) with an allele frequency of $0.01$.\n",
    "We impose a mutation rate is $1.5e-8$ per base per generation and a recombination rate of $1e-8$.\n",
    "Finally, the simulated population follows a 3-epoch model of bottleneck and expansion as proposed by [Marth et al. 2004](https://www.ncbi.nlm.nih.gov/pmc/articles/PMC1470693/) for a European population.\n",
    "We sampled 198 chromosomal copies to match our observed data.\n",
    "\n",
    "It is __IMPORTANT__ you modify the `params_binary` to specify the directories for _msms_ and the folder where all the simulations will be stored.\n",
    "These variabiles are set in the first two lines of the file, currently set as:\n",
    "`DIRMSMS=\"/home/mfumagal/Software/msms/lib/msms.jar\" # path to msms.jar`\n",
    "and\n",
    "`DIRDATA=\"/home/mfumagal/Data/ImaGene/Tutorials/Binary\" # path to data storage`\n",
    "Change them accordingly, save and close the file.\n",
    "\n",
    "After this, we can run the following command to perform the simulations. This script will split the simulations into different batches to later perform training with a \"simulation-on-the-fly\" approach."
   ]
  },
  {
   "cell_type": "code",
   "execution_count": null,
   "metadata": {},
   "outputs": [],
   "source": [
    "import subprocess\n",
    "subprocess.call(\"bash ../generate_dataset.sh params_binary.txt\".split())"
   ]
  },
  {
   "cell_type": "markdown",
   "metadata": {},
   "source": [
    "Let's perform the first iteration of training.\n",
    "To do that, we need to read the first batch of simulations in `[..]/Binary/Simulations1`and store them into an _ImaFile_ object."
   ]
  },
  {
   "cell_type": "code",
   "execution_count": null,
   "metadata": {},
   "outputs": [],
   "source": [
    "file_sim = ImaFile(simulations_folder=path+'Binary/Simulations1', nr_samples=198, model_name='Marth-3epoch-CEU')"
   ]
  },
  {
   "cell_type": "markdown",
   "metadata": {},
   "source": [
    "Then, we populate an _ImaGene_ object by specifying the variable we want to estimate/predict (`selection_coeff_hetero`) and how many data points per class we wish to retain. \n",
    "As a quick example, we will use only 2000 data points per class."
   ]
  },
  {
   "cell_type": "code",
   "execution_count": null,
   "metadata": {},
   "outputs": [],
   "source": [
    "gene_sim = file_sim.read_simulations(parameter_name='selection_coeff_hetero', max_nrepl=2000)"
   ]
  },
  {
   "cell_type": "markdown",
   "metadata": {},
   "source": [
    "We can have a look at the data stored in this object."
   ]
  },
  {
   "cell_type": "code",
   "execution_count": null,
   "metadata": {},
   "outputs": [],
   "source": [
    "gene_sim.summary()"
   ]
  },
  {
   "cell_type": "markdown",
   "metadata": {},
   "source": [
    "We have 4000 images in this object. Recall that with the first line we simulated 2 classes and retained 2000 data points for each class. All images have 198 rows as expected, as this represents the number of simulated haplotypes. However, images have different number of columns, ranging from $\\approx 130$ to $\\approx 450$ with an average value of $\\approx 295$. The number of columns represents the number of polymorphic sites and fixed derived alleles in a _msms_ file. This number may vary from simulated gene to another.\n",
    "Our observed data for LCT has 192 columns."
   ]
  },
  {
   "cell_type": "markdown",
   "metadata": {},
   "source": [
    "As mentioned before, _ImaGene_ provides functionalities to manipulate our data. Specifically we can do the following:\n",
    "* convert ancestral/derived to major/minor allele polarisation\n",
    "* filter out columns based on a minimum allele frequency (e.g. 0.01)\n",
    "* sorting rows and columns by frequency (or genetic distance from the most frequent entry)\n",
    "\n",
    "We need to follow the same data processing as the one employed for the real data."
   ]
  },
  {
   "cell_type": "code",
   "execution_count": null,
   "metadata": {},
   "outputs": [],
   "source": [
    "gene_sim.filter_freq(0.01)\n",
    "gene_sim.sort('rows_freq')\n",
    "gene_sim.summary()"
   ]
  },
  {
   "cell_type": "markdown",
   "metadata": {},
   "source": [
    "All images must have the same dimensions. You can explore all different options for resizing."
   ]
  },
  {
   "cell_type": "code",
   "execution_count": null,
   "metadata": {},
   "outputs": [],
   "source": [
    "?gene_sim.resize"
   ]
  },
  {
   "cell_type": "markdown",
   "metadata": {},
   "source": [
    "One possibility would be to resize them to match the dimensions of the real data.\n",
    "In this case it means resize all images to have shape (198, 192) which can be achieved with the following command."
   ]
  },
  {
   "cell_type": "code",
   "execution_count": null,
   "metadata": {},
   "outputs": [],
   "source": [
    "gene_sim.resize((198, 192))\n",
    "gene_sim.summary()"
   ]
  },
  {
   "cell_type": "markdown",
   "metadata": {},
   "source": [
    "After the data manipulation is done, we need to convert images to proper _numpy_ float matrices,as previously discussed. The following line will do the job (including flipping black/white pixels). \n",
    "Note that the `.convert` method allows you to normalise the data too."
   ]
  },
  {
   "cell_type": "code",
   "execution_count": null,
   "metadata": {},
   "outputs": [],
   "source": [
    "gene_sim.convert(flip=True)\n",
    "gene_sim.summary()"
   ]
  },
  {
   "cell_type": "markdown",
   "metadata": {},
   "source": [
    "Note that in addition to the genomic data, an _ImaGene_ object contains information on the corresponding targets (in this case the selection coefficient, either 0 or 300 in $2N_e$ units with $N_e = 10000$).\n",
    "As an illustration, let's plot one random image per class."
   ]
  },
  {
   "cell_type": "code",
   "execution_count": null,
   "metadata": {},
   "outputs": [],
   "source": [
    "for sel in gene_sim.classes:\n",
    "    print(sel)\n",
    "    gene_sim.plot(np.where(gene_sim.targets == sel)[0][0])"
   ]
  },
  {
   "cell_type": "markdown",
   "metadata": {},
   "source": [
    "Finally we need to randomly shuffle our images before using them for training our network.\n",
    "We can easily accomplish this with the following line."
   ]
  },
  {
   "cell_type": "code",
   "execution_count": null,
   "metadata": {},
   "outputs": [],
   "source": [
    "gene_sim.subset(get_index_random(gene_sim))"
   ]
  },
  {
   "cell_type": "markdown",
   "metadata": {},
   "source": [
    "Our targets represent the 2 possible classes. However, since we are doing a binary classification, we need to vectorise them as required by _keras_."
   ]
  },
  {
   "cell_type": "code",
   "execution_count": null,
   "metadata": {},
   "outputs": [],
   "source": [
    "gene_sim.targets = to_binary(gene_sim.targets)"
   ]
  },
  {
   "cell_type": "markdown",
   "metadata": {},
   "source": [
    "The object is now ready to be used for the classification!\n",
    "You can save it."
   ]
  },
  {
   "cell_type": "code",
   "execution_count": null,
   "metadata": {},
   "outputs": [],
   "source": [
    "gene_sim.save(file=path+'Data/gene_sim.binary')"
   ]
  },
  {
   "cell_type": "markdown",
   "metadata": {},
   "source": [
    "If you want to load an _ImaGene_ object you can use the following function."
   ]
  },
  {
   "cell_type": "code",
   "execution_count": null,
   "metadata": {},
   "outputs": [],
   "source": [
    "gene_sim = load_imagene(file=path+'Data/gene_sim.binary')"
   ]
  },
  {
   "cell_type": "markdown",
   "metadata": {},
   "source": [
    "### 3. implement, train and evaluate the neural network\n",
    "\n",
    "Now that our data is ready, we can build our network.\n",
    "Specifically, we can build a model in _keras_ with convolutional, pooling and dense layers.\n",
    "In this example we have 3 layers of 2D convolutions and pooling followed by a fully-connected layer.\n",
    "We just need to specify the dimensions of the data in the first layer, and this is specified by the option `input_shape=gene_sim.data.shape[1:]`."
   ]
  },
  {
   "cell_type": "code",
   "execution_count": null,
   "metadata": {},
   "outputs": [],
   "source": [
    "model = models.Sequential([\n",
    "                    layers.Conv2D(filters=32, kernel_size=(3,3), strides=(1,1), activation='relu', kernel_regularizer=regularizers.l1_l2(l1=0.005, l2=0.005), padding='valid', input_shape=gene_sim.data.shape[1:]),\n",
    "                    layers.MaxPooling2D(pool_size=(2,2)),\n",
    "                    layers.Conv2D(filters=32, kernel_size=(3,3), strides=(1,1), activation='relu', kernel_regularizer=regularizers.l1_l2(l1=0.005, l2=0.005), padding='valid'),\n",
    "                    layers.MaxPooling2D(pool_size=(2,2)),\n",
    "                    layers.Conv2D(filters=64, kernel_size=(3,3), strides=(1,1), activation='relu', kernel_regularizer=regularizers.l1_l2(l1=0.005, l2=0.005), padding='valid'),\n",
    "                    layers.MaxPooling2D(pool_size=(2,2)),\n",
    "                    layers.Flatten(),\n",
    "                    layers.Dense(units=128, activation='relu'),\n",
    "                    layers.Dense(units=1, activation='sigmoid')])"
   ]
  },
  {
   "cell_type": "markdown",
   "metadata": {},
   "source": [
    "Then, let's compile our _keras_ model."
   ]
  },
  {
   "cell_type": "code",
   "execution_count": null,
   "metadata": {},
   "outputs": [],
   "source": [
    "model.compile(optimizer='rmsprop',\n",
    "              loss='binary_crossentropy',\n",
    "              metrics=['accuracy'])"
   ]
  },
  {
   "cell_type": "markdown",
   "metadata": {},
   "source": [
    "Let's look at a summary of the model and plot it."
   ]
  },
  {
   "cell_type": "code",
   "execution_count": null,
   "metadata": {},
   "outputs": [],
   "source": [
    "model.summary()\n",
    "plot_model(model, path+'Data/net.binary.png')"
   ]
  },
  {
   "cell_type": "markdown",
   "metadata": {},
   "source": [
    "Now we are ready for doing the training on this first batch of data."
   ]
  },
  {
   "cell_type": "code",
   "execution_count": null,
   "metadata": {},
   "outputs": [],
   "source": [
    "score = model.fit(gene_sim.data, gene_sim.targets, batch_size=64, epochs=1, verbose=1, validation_split=0.10)"
   ]
  },
  {
   "cell_type": "markdown",
   "metadata": {},
   "source": [
    "Remember that you can save a _keras_ model with `model.save('net.h5')`."
   ]
  },
  {
   "cell_type": "markdown",
   "metadata": {},
   "source": [
    "Now we can initialise a network object _ImaNet_."
   ]
  },
  {
   "cell_type": "code",
   "execution_count": null,
   "metadata": {},
   "outputs": [],
   "source": [
    "net_LCT = ImaNet(name='[C32+P]x2+[C64+P]+D128')"
   ]
  },
  {
   "cell_type": "markdown",
   "metadata": {},
   "source": [
    "We can keep track of scores (loss and accuracy) across iterations with `.update_scores`."
   ]
  },
  {
   "cell_type": "code",
   "execution_count": null,
   "metadata": {},
   "outputs": [],
   "source": [
    "net_LCT.update_scores(score)"
   ]
  },
  {
   "cell_type": "markdown",
   "metadata": {},
   "source": [
    "Now we need to repeat the whole procedure described above using all remaning batches of data, leaving the last one for testing."
   ]
  },
  {
   "cell_type": "code",
   "execution_count": null,
   "metadata": {},
   "outputs": [],
   "source": [
    "i = 2\n",
    "while i < 10:\n",
    "\n",
    "    print(i)\n",
    "    \n",
    "    file_sim = ImaFile(simulations_folder=path+'Binary/Simulations' + str(i), nr_samples=198, model_name='Marth-3epoch-CEU')\n",
    "    gene_sim = file_sim.read_simulations(parameter_name='selection_coeff_hetero', max_nrepl=2000)\n",
    "\n",
    "    gene_sim.filter_freq(0.01)\n",
    "    gene_sim.sort('rows_freq')\n",
    "    gene_sim.resize((198, 192))\n",
    "    gene_sim.convert(flip=True)\n",
    "\n",
    "    gene_sim.subset(get_index_random(gene_sim))\n",
    "    gene_sim.targets = to_binary(gene_sim.targets)\n",
    "     \n",
    "    score = model.fit(gene_sim.data, gene_sim.targets, batch_size=64, epochs=1, verbose=1, validation_split=0.10)\n",
    "    net_LCT.update_scores(score)\n",
    "   \n",
    "    i += 1"
   ]
  },
  {
   "cell_type": "markdown",
   "metadata": {},
   "source": [
    "We can plot loss and validation accuracy during the training to check, for instance, for overfitting."
   ]
  },
  {
   "cell_type": "code",
   "execution_count": null,
   "metadata": {},
   "outputs": [],
   "source": [
    "net_LCT.plot_train()"
   ]
  },
  {
   "cell_type": "markdown",
   "metadata": {},
   "source": [
    "We save (and/or load) the final trained model."
   ]
  },
  {
   "cell_type": "code",
   "execution_count": null,
   "metadata": {},
   "outputs": [],
   "source": [
    "model.save(path+'Data/model.binary.h5')"
   ]
  },
  {
   "cell_type": "code",
   "execution_count": 16,
   "metadata": {},
   "outputs": [],
   "source": [
    "# load\n",
    "model = load_model(path+'Data/model.binary.h5')"
   ]
  },
  {
   "cell_type": "markdown",
   "metadata": {},
   "source": [
    "You can also save the network itself (and load it)."
   ]
  },
  {
   "cell_type": "code",
   "execution_count": null,
   "metadata": {},
   "outputs": [],
   "source": [
    "net_LCT.save(path+'Data/net_LCT.binary')"
   ]
  },
  {
   "cell_type": "code",
   "execution_count": 17,
   "metadata": {},
   "outputs": [],
   "source": [
    "# load\n",
    "net_LCT = load_imanet(path+'Data/net_LCT.binary')"
   ]
  },
  {
   "cell_type": "markdown",
   "metadata": {},
   "source": [
    "Finally, we evaluate the training on the testing dataset, i.e. the last batch of simulated data."
   ]
  },
  {
   "cell_type": "code",
   "execution_count": null,
   "metadata": {},
   "outputs": [],
   "source": [
    "i = 10\n",
    "file_sim = ImaFile(simulations_folder=path+'Binary/Simulations' + str(i), nr_samples=198, model_name='Marth-3epoch-CEU')\n",
    "gene_sim_test = file_sim.read_simulations(parameter_name='selection_coeff_hetero', max_nrepl=2000)\n",
    "\n",
    "gene_sim_test.filter_freq(0.01)\n",
    "gene_sim_test.sort('rows_freq')\n",
    "gene_sim_test.resize((198, 192))\n",
    "gene_sim_test.convert(flip=True)\n",
    "\n",
    "rnd_idx = get_index_random(gene_sim_test) # no need to create this extra variable\n",
    "gene_sim_test.subset(rnd_idx)\n",
    "\n",
    "gene_sim_test.targets = to_binary(gene_sim_test.targets)"
   ]
  },
  {
   "cell_type": "markdown",
   "metadata": {},
   "source": [
    "Let's report loss and accuracy on the testing set."
   ]
  },
  {
   "cell_type": "code",
   "execution_count": null,
   "metadata": {},
   "outputs": [],
   "source": [
    "net_LCT.test = model.evaluate(gene_sim_test.data, gene_sim_test.targets, batch_size=None, verbose=0)\n",
    "print(net_LCT.test) # it will report [loss, accuracy]"
   ]
  },
  {
   "cell_type": "markdown",
   "metadata": {},
   "source": [
    "For a binary (or multiclass) classification, it is convenient to plot the confusion matrix after predicting the responses from the testing data."
   ]
  },
  {
   "cell_type": "code",
   "execution_count": null,
   "metadata": {},
   "outputs": [],
   "source": [
    "net_LCT.predict(gene_sim_test, model)\n",
    "net_LCT.plot_cm(gene_sim_test.classes, text=True)"
   ]
  },
  {
   "cell_type": "markdown",
   "metadata": {},
   "source": [
    "### 4. deploy the trained network on your genomic data of interest\n",
    "\n",
    "Finally we can use the trained network to predict natural selection on our locus of interest.\n",
    "The output of this command will give us the class score (e.g. this can be interpreted as a posterior probability with uniform prior, or scaled likelihood) of said locus under positive selection under the conditions we simulated."
   ]
  },
  {
   "cell_type": "code",
   "execution_count": null,
   "metadata": {},
   "outputs": [],
   "source": [
    "model.predict(gene_LCT.data, batch_size=None)[0][0]"
   ]
  }
 ],
 "metadata": {
  "kernelspec": {
   "display_name": "Python 3",
   "language": "python",
   "name": "python3"
  },
  "language_info": {
   "codemirror_mode": {
    "name": "ipython",
    "version": 3
   },
   "file_extension": ".py",
   "mimetype": "text/x-python",
   "name": "python",
   "nbconvert_exporter": "python",
   "pygments_lexer": "ipython3",
   "version": "3.6.10"
  }
 },
 "nbformat": 4,
 "nbformat_minor": 2
}
