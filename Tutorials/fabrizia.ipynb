{
 "cells": [
  {
   "cell_type": "code",
   "execution_count": 139,
   "metadata": {},
   "outputs": [],
   "source": [
    "#import io\n",
    "import os\n",
    "import numpy as np\n",
    "#import pandas as pd"
   ]
  },
  {
   "cell_type": "code",
   "execution_count": 3,
   "metadata": {},
   "outputs": [],
   "source": [
    "def read_vcf(path):\n",
    "    with open(path, 'r') as f:\n",
    "        lines = [l for l in f if not l.startswith('##')]\n",
    "    return pd.read_csv(\n",
    "        io.StringIO(''.join(lines)),\n",
    "        dtype = {'#CHROM': str, 'POS': int, 'ID': str, 'REF': str, 'ALT': str,\n",
    "               'QUAL': str, 'FILTER': str, 'INFO': str},\n",
    "        sep='\\t'\n",
    "    ).rename(columns = {'#CHROM': 'CHROM'})"
   ]
  },
  {
   "cell_type": "code",
   "execution_count": 163,
   "metadata": {},
   "outputs": [],
   "source": [
    "### MATTEO\n",
    "file_name = 'CEU.recode.vcf'\n",
    "with open(file_name, 'r') as f:\n",
    "    lines = [l for l in f if not l.startswith('##')]\n",
    "header = lines.pop(0)"
   ]
  },
  {
   "cell_type": "code",
   "execution_count": 164,
   "metadata": {},
   "outputs": [],
   "source": [
    "ind_pos = header.split('\\t').index('POS')\n",
    "ind_format = header.split('\\t').index('FORMAT')"
   ]
  },
  {
   "cell_type": "code",
   "execution_count": 165,
   "metadata": {},
   "outputs": [],
   "source": [
    "nr_individuals = len(header.split('\\t')) - ind_format - 1\n",
    "nr_sites = len(lines)"
   ]
  },
  {
   "cell_type": "code",
   "execution_count": 167,
   "metadata": {},
   "outputs": [],
   "source": [
    "haplotypes = np.zeros((1, (nr_individuals * 2), nr_sites, 1), dtype='uint8')\n",
    "pos = np.zeros((1, nr_sites), dtype='int32')"
   ]
  },
  {
   "cell_type": "code",
   "execution_count": 153,
   "metadata": {},
   "outputs": [],
   "source": []
  },
  {
   "cell_type": "code",
   "execution_count": 168,
   "metadata": {},
   "outputs": [],
   "source": [
    "for j in range(nr_snps):\n",
    "    # populate genomic position\n",
    "    pos[0][j] = lines[j].split('\\t')[ind_pos]\n",
    "    # extract genotypes\n",
    "    genotypes = lines[j].split('\\t')[(ind_format+1):]\n",
    "    genotypes[len(genotypes) - 1] = genotypes[len(genotypes) - 1].split('\\n')[0]\n",
    "    for i in range(len(genotypes)):\n",
    "        if i == 0:\n",
    "            i1 = 0\n",
    "            i2 = 1\n",
    "        else:\n",
    "            i2 = i*2\n",
    "            i1 = i2 - 1\n",
    "        if genotypes[i].split('|')[0] == '1':\n",
    "            haplotypes[0][i1,j] = '255'\n",
    "        if genotypes[i].split('|')[1] == '1':\n",
    "            haplotypes[0][i2,j] = '255'"
   ]
  },
  {
   "cell_type": "code",
   "execution_count": 169,
   "metadata": {},
   "outputs": [],
   "source": [
    "%run -i ../ImaGene.py"
   ]
  },
  {
   "cell_type": "code",
   "execution_count": 170,
   "metadata": {},
   "outputs": [],
   "source": [
    "gene = ImaGene(data=haplotypes, positions=pos)"
   ]
  },
  {
   "cell_type": "code",
   "execution_count": 171,
   "metadata": {},
   "outputs": [
    {
     "ename": "NameError",
     "evalue": "name 'plt' is not defined",
     "output_type": "error",
     "traceback": [
      "\u001b[0;31m---------------------------------------------------------------------------\u001b[0m",
      "\u001b[0;31mNameError\u001b[0m                                 Traceback (most recent call last)",
      "\u001b[0;32m~/Software/ImaGene/ImaGene.py\u001b[0m in \u001b[0;36m<module>\u001b[0;34m\u001b[0m\n\u001b[0;32m----> 1\u001b[0;31m \u001b[0mgene\u001b[0m\u001b[0;34m.\u001b[0m\u001b[0mplot\u001b[0m\u001b[0;34m(\u001b[0m\u001b[0mindex\u001b[0m\u001b[0;34m=\u001b[0m\u001b[0;36m0\u001b[0m\u001b[0;34m)\u001b[0m\u001b[0;34m\u001b[0m\u001b[0;34m\u001b[0m\u001b[0m\n\u001b[0m",
      "\u001b[0;32m~/Software/ImaGene/ImaGene.py\u001b[0m in \u001b[0;36mplot\u001b[0;34m(self, index)\u001b[0m\n\u001b[1;32m    278\u001b[0m             \u001b[0;36m0\u001b[0m\u001b[0;34m\u001b[0m\u001b[0;34m\u001b[0m\u001b[0m\n\u001b[1;32m    279\u001b[0m         \"\"\"\n\u001b[0;32m--> 280\u001b[0;31m         \u001b[0mimage\u001b[0m \u001b[0;34m=\u001b[0m \u001b[0mplt\u001b[0m\u001b[0;34m.\u001b[0m\u001b[0mimshow\u001b[0m\u001b[0;34m(\u001b[0m\u001b[0mself\u001b[0m\u001b[0;34m.\u001b[0m\u001b[0mdata\u001b[0m\u001b[0;34m[\u001b[0m\u001b[0mindex\u001b[0m\u001b[0;34m]\u001b[0m\u001b[0;34m[\u001b[0m\u001b[0;34m:\u001b[0m\u001b[0;34m,\u001b[0m\u001b[0;34m:\u001b[0m\u001b[0;34m,\u001b[0m\u001b[0;36m0\u001b[0m\u001b[0;34m]\u001b[0m\u001b[0;34m,\u001b[0m \u001b[0mcmap\u001b[0m\u001b[0;34m=\u001b[0m\u001b[0;34m'gray'\u001b[0m\u001b[0;34m)\u001b[0m\u001b[0;34m\u001b[0m\u001b[0;34m\u001b[0m\u001b[0m\n\u001b[0m\u001b[1;32m    281\u001b[0m         \u001b[0mplt\u001b[0m\u001b[0;34m.\u001b[0m\u001b[0mshow\u001b[0m\u001b[0;34m(\u001b[0m\u001b[0mimage\u001b[0m\u001b[0;34m)\u001b[0m\u001b[0;34m\u001b[0m\u001b[0;34m\u001b[0m\u001b[0m\n\u001b[1;32m    282\u001b[0m         \u001b[0;32mreturn\u001b[0m \u001b[0;36m0\u001b[0m\u001b[0;34m\u001b[0m\u001b[0;34m\u001b[0m\u001b[0m\n",
      "\u001b[0;31mNameError\u001b[0m: name 'plt' is not defined"
     ]
    }
   ],
   "source": [
    "gene.plot(index=0)"
   ]
  },
  {
   "cell_type": "code",
   "execution_count": 179,
   "metadata": {},
   "outputs": [
    {
     "data": {
      "text/plain": [
       "<matplotlib.image.AxesImage at 0x7fe22f448978>"
      ]
     },
     "execution_count": 179,
     "metadata": {},
     "output_type": "execute_result"
    },
    {
     "data": {
      "image/png": "[encoded data removed]",
      "text/plain": [
       "<Figure size 432x288 with 1 Axes>"
      ]
     },
     "metadata": {
      "needs_background": "light"
     },
     "output_type": "display_data"
    }
   ],
   "source": [
    "import matplotlib.pyplot as plt\n",
    "plt.imshow(gene.data[0][:,:,0], cmap='gray')"
   ]
  },
  {
   "cell_type": "code",
   "execution_count": 93,
   "metadata": {},
   "outputs": [
    {
     "data": {
      "text/plain": [
       "['0', '0']"
      ]
     },
     "execution_count": 93,
     "metadata": {},
     "output_type": "execute_result"
    }
   ],
   "source": [
    "i=0\n",
    "genotypes = lines[i].split('\\t')[(ind_format+1):]\n",
    "genotypes[len(genotypes) - 1] = genotypes[len(genotypes) - 1].split('\\n')[0]\n",
    "len(genotypes)\n",
    "genotypes[0].split('|')"
   ]
  },
  {
   "cell_type": "code",
   "execution_count": null,
   "metadata": {},
   "outputs": [],
   "source": [
    "import allel\n",
    "import csv"
   ]
  },
  {
   "cell_type": "code",
   "execution_count": 5,
   "metadata": {},
   "outputs": [],
   "source": [
    "geni=['AKAP9']\n",
    "tot_pop =['CEU','YRI','CHB']\n",
    "etn = ['EUR','AFR','EAS']"
   ]
  },
  {
   "cell_type": "code",
   "execution_count": 7,
   "metadata": {
    "scrolled": true
   },
   "outputs": [
    {
     "ename": "RuntimeError",
     "evalue": "VCF file is missing mandatory header line (\"#CHROM...\")",
     "output_type": "error",
     "traceback": [
      "\u001b[0;31m---------------------------------------------------------------------------\u001b[0m",
      "\u001b[0;31mRuntimeError\u001b[0m                              Traceback (most recent call last)",
      "\u001b[0;32m<ipython-input-7-7f1cb97c7293>\u001b[0m in \u001b[0;36m<module>\u001b[0;34m\u001b[0m\n\u001b[1;32m      5\u001b[0m         \u001b[0mname\u001b[0m\u001b[0;34m=\u001b[0m \u001b[0mp\u001b[0m\u001b[0;34m+\u001b[0m\u001b[0;34m'_'\u001b[0m\u001b[0;34m+\u001b[0m\u001b[0mtot_pop\u001b[0m\u001b[0;34m[\u001b[0m\u001b[0mm\u001b[0m\u001b[0;34m]\u001b[0m\u001b[0;34m+\u001b[0m\u001b[0;34m'_'\u001b[0m\u001b[0;34m+\u001b[0m\u001b[0metn\u001b[0m\u001b[0;34m[\u001b[0m\u001b[0mm\u001b[0m\u001b[0;34m]\u001b[0m\u001b[0;34m\u001b[0m\u001b[0;34m\u001b[0m\u001b[0m\n\u001b[1;32m      6\u001b[0m \u001b[0;34m\u001b[0m\u001b[0m\n\u001b[0;32m----> 7\u001b[0;31m         \u001b[0mpop\u001b[0m\u001b[0;34m=\u001b[0m \u001b[0mallel\u001b[0m\u001b[0;34m.\u001b[0m\u001b[0mvcf_to_dataframe\u001b[0m\u001b[0;34m(\u001b[0m\u001b[0;34m'/home/fsalvatore/Desktop/Genes/gene_pop(5)/vcf/'\u001b[0m\u001b[0;34m+\u001b[0m\u001b[0mname\u001b[0m\u001b[0;34m+\u001b[0m\u001b[0;34m'.vcf'\u001b[0m\u001b[0;34m)\u001b[0m\u001b[0;34m\u001b[0m\u001b[0;34m\u001b[0m\u001b[0m\n\u001b[0m\u001b[1;32m      8\u001b[0m         \u001b[0mpop\u001b[0m\u001b[0;34m=\u001b[0m \u001b[0mpop\u001b[0m\u001b[0;34m.\u001b[0m\u001b[0mdrop\u001b[0m\u001b[0;34m(\u001b[0m\u001b[0;34m[\u001b[0m\u001b[0;34m'CHROM'\u001b[0m\u001b[0;34m,\u001b[0m \u001b[0;34m'QUAL'\u001b[0m\u001b[0;34m,\u001b[0m\u001b[0;34m'FILTER'\u001b[0m\u001b[0;34m,\u001b[0m \u001b[0;34m'INFO'\u001b[0m\u001b[0;34m,\u001b[0m \u001b[0;34m'FORMAT'\u001b[0m\u001b[0;34m,\u001b[0m \u001b[0;34m'ID'\u001b[0m\u001b[0;34m,\u001b[0m \u001b[0;34m'REF'\u001b[0m\u001b[0;34m,\u001b[0m \u001b[0;34m'ALT'\u001b[0m\u001b[0;34m]\u001b[0m\u001b[0;34m,\u001b[0m\u001b[0;36m1\u001b[0m\u001b[0;34m)\u001b[0m\u001b[0;34m\u001b[0m\u001b[0;34m\u001b[0m\u001b[0m\n\u001b[1;32m      9\u001b[0m \u001b[0;34m\u001b[0m\u001b[0m\n",
      "\u001b[0;32m~/anaconda3/lib/python3.7/site-packages/allel/io/vcf_read.py\u001b[0m in \u001b[0;36mvcf_to_dataframe\u001b[0;34m(input, fields, exclude_fields, types, numbers, alt_number, fills, region, tabix, transformers, buffer_size, chunk_length, log)\u001b[0m\n\u001b[1;32m   1860\u001b[0m         \u001b[0mnumbers\u001b[0m\u001b[0;34m=\u001b[0m\u001b[0mnumbers\u001b[0m\u001b[0;34m,\u001b[0m \u001b[0malt_number\u001b[0m\u001b[0;34m=\u001b[0m\u001b[0malt_number\u001b[0m\u001b[0;34m,\u001b[0m \u001b[0mbuffer_size\u001b[0m\u001b[0;34m=\u001b[0m\u001b[0mbuffer_size\u001b[0m\u001b[0;34m,\u001b[0m\u001b[0;34m\u001b[0m\u001b[0;34m\u001b[0m\u001b[0m\n\u001b[1;32m   1861\u001b[0m         \u001b[0mchunk_length\u001b[0m\u001b[0;34m=\u001b[0m\u001b[0mchunk_length\u001b[0m\u001b[0;34m,\u001b[0m \u001b[0mfills\u001b[0m\u001b[0;34m=\u001b[0m\u001b[0mfills\u001b[0m\u001b[0;34m,\u001b[0m \u001b[0mregion\u001b[0m\u001b[0;34m=\u001b[0m\u001b[0mregion\u001b[0m\u001b[0;34m,\u001b[0m \u001b[0mtabix\u001b[0m\u001b[0;34m=\u001b[0m\u001b[0mtabix\u001b[0m\u001b[0;34m,\u001b[0m \u001b[0msamples\u001b[0m\u001b[0;34m=\u001b[0m\u001b[0;34m[\u001b[0m\u001b[0;34m]\u001b[0m\u001b[0;34m,\u001b[0m\u001b[0;34m\u001b[0m\u001b[0;34m\u001b[0m\u001b[0m\n\u001b[0;32m-> 1862\u001b[0;31m         \u001b[0mtransformers\u001b[0m\u001b[0;34m=\u001b[0m\u001b[0mtransformers\u001b[0m\u001b[0;34m\u001b[0m\u001b[0;34m\u001b[0m\u001b[0m\n\u001b[0m\u001b[1;32m   1863\u001b[0m     )\n\u001b[1;32m   1864\u001b[0m \u001b[0;34m\u001b[0m\u001b[0m\n",
      "\u001b[0;32m~/anaconda3/lib/python3.7/site-packages/allel/io/vcf_read.py\u001b[0m in \u001b[0;36miter_vcf_chunks\u001b[0;34m(input, fields, exclude_fields, types, numbers, alt_number, fills, region, tabix, samples, transformers, buffer_size, chunk_length)\u001b[0m\n\u001b[1;32m   1145\u001b[0m \u001b[0;34m\u001b[0m\u001b[0m\n\u001b[1;32m   1146\u001b[0m     \u001b[0;31m# setup iterator\u001b[0m\u001b[0;34m\u001b[0m\u001b[0;34m\u001b[0m\u001b[0;34m\u001b[0m\u001b[0m\n\u001b[0;32m-> 1147\u001b[0;31m     \u001b[0mfields\u001b[0m\u001b[0;34m,\u001b[0m \u001b[0msamples\u001b[0m\u001b[0;34m,\u001b[0m \u001b[0mheaders\u001b[0m\u001b[0;34m,\u001b[0m \u001b[0mit\u001b[0m \u001b[0;34m=\u001b[0m \u001b[0m_iter_vcf_stream\u001b[0m\u001b[0;34m(\u001b[0m\u001b[0mstream\u001b[0m\u001b[0;34m,\u001b[0m \u001b[0;34m**\u001b[0m\u001b[0mkwds\u001b[0m\u001b[0;34m)\u001b[0m\u001b[0;34m\u001b[0m\u001b[0;34m\u001b[0m\u001b[0m\n\u001b[0m\u001b[1;32m   1148\u001b[0m \u001b[0;34m\u001b[0m\u001b[0m\n\u001b[1;32m   1149\u001b[0m     \u001b[0;31m# setup transformers\u001b[0m\u001b[0;34m\u001b[0m\u001b[0;34m\u001b[0m\u001b[0;34m\u001b[0m\u001b[0m\n",
      "\u001b[0;32m~/anaconda3/lib/python3.7/site-packages/allel/io/vcf_read.py\u001b[0m in \u001b[0;36m_iter_vcf_stream\u001b[0;34m(stream, fields, exclude_fields, types, numbers, alt_number, chunk_length, fills, region, samples)\u001b[0m\n\u001b[1;32m   1643\u001b[0m \u001b[0;34m\u001b[0m\u001b[0m\n\u001b[1;32m   1644\u001b[0m     \u001b[0;31m# read VCF headers\u001b[0m\u001b[0;34m\u001b[0m\u001b[0;34m\u001b[0m\u001b[0;34m\u001b[0m\u001b[0m\n\u001b[0;32m-> 1645\u001b[0;31m     \u001b[0mheaders\u001b[0m \u001b[0;34m=\u001b[0m \u001b[0m_read_vcf_headers\u001b[0m\u001b[0;34m(\u001b[0m\u001b[0mstream\u001b[0m\u001b[0;34m)\u001b[0m\u001b[0;34m\u001b[0m\u001b[0;34m\u001b[0m\u001b[0m\n\u001b[0m\u001b[1;32m   1646\u001b[0m \u001b[0;34m\u001b[0m\u001b[0m\n\u001b[1;32m   1647\u001b[0m     \u001b[0;31m# setup samples\u001b[0m\u001b[0;34m\u001b[0m\u001b[0;34m\u001b[0m\u001b[0;34m\u001b[0m\u001b[0m\n",
      "\u001b[0;32m~/anaconda3/lib/python3.7/site-packages/allel/io/vcf_read.py\u001b[0m in \u001b[0;36m_read_vcf_headers\u001b[0;34m(stream)\u001b[0m\n\u001b[1;32m   1770\u001b[0m     \u001b[0;32mif\u001b[0m \u001b[0msamples\u001b[0m \u001b[0;32mis\u001b[0m \u001b[0;32mNone\u001b[0m\u001b[0;34m:\u001b[0m\u001b[0;34m\u001b[0m\u001b[0;34m\u001b[0m\u001b[0m\n\u001b[1;32m   1771\u001b[0m         \u001b[0;31m# can't warn about this, it's fatal\u001b[0m\u001b[0;34m\u001b[0m\u001b[0;34m\u001b[0m\u001b[0;34m\u001b[0m\u001b[0m\n\u001b[0;32m-> 1772\u001b[0;31m         \u001b[0;32mraise\u001b[0m \u001b[0mRuntimeError\u001b[0m\u001b[0;34m(\u001b[0m\u001b[0;34m'VCF file is missing mandatory header line (\"#CHROM...\")'\u001b[0m\u001b[0;34m)\u001b[0m\u001b[0;34m\u001b[0m\u001b[0;34m\u001b[0m\u001b[0m\n\u001b[0m\u001b[1;32m   1773\u001b[0m \u001b[0;34m\u001b[0m\u001b[0m\n\u001b[1;32m   1774\u001b[0m     \u001b[0;32mreturn\u001b[0m \u001b[0mVCFHeaders\u001b[0m\u001b[0;34m(\u001b[0m\u001b[0mheaders\u001b[0m\u001b[0;34m,\u001b[0m \u001b[0mfilters\u001b[0m\u001b[0;34m,\u001b[0m \u001b[0minfos\u001b[0m\u001b[0;34m,\u001b[0m \u001b[0mformats\u001b[0m\u001b[0;34m,\u001b[0m \u001b[0msamples\u001b[0m\u001b[0;34m)\u001b[0m\u001b[0;34m\u001b[0m\u001b[0;34m\u001b[0m\u001b[0m\n",
      "\u001b[0;31mRuntimeError\u001b[0m: VCF file is missing mandatory header line (\"#CHROM...\")"
     ]
    }
   ],
   "source": [
    "for p in geni:\n",
    "    m=0\n",
    "    while m < (len(tot_pop)):\n",
    "        \n",
    "        name= p+'_'+tot_pop[m]+'_'+etn[m]\n",
    "\n",
    "        pop= read_vcf('/home/fsalvatore/Desktop/Genes/gene_pop(5)/vcf/'+name+'.vcf')\n",
    "        pop= pop.drop(['CHROM', 'QUAL','FILTER', 'INFO', 'FORMAT', 'ID', 'REF', 'ALT'],1)\n",
    "        \n",
    "        new_df= pd.DataFrame(columns=pop.POS)\n",
    "        j=0\n",
    "\n",
    "        for i, row in pop.iterrows():\n",
    "        \n",
    "            haplotype=[]\n",
    "\n",
    "            for k, column in row.iteritems():\n",
    "            \n",
    "                if column == '0|0':\n",
    "                    haplotype.extend((0,0))\n",
    "                \n",
    "                elif column == '0|1':\n",
    "                    haplotype.extend((0,1))\n",
    "                \n",
    "                elif column == '1|0':\n",
    "                    haplotype.extend((1,0))\n",
    "                \n",
    "                elif column == '1|1':\n",
    "                    haplotype.extend((1,1))\n",
    "  \n",
    "            new_df.iloc[:,j] = haplotype\n",
    "            j+=1\n",
    "        \n",
    "        export_csv = new_df.to_csv(r'/home/fsalvatore/Desktop/Genes/Haplotype_reconstruction(10)/'+name+'_haplotype.csv')\n",
    "\n",
    "        m+=1\n",
    "    "
   ]
  },
  {
   "cell_type": "code",
   "execution_count": 9,
   "metadata": {
    "scrolled": false
   },
   "outputs": [
    {
     "data": {
      "text/html": [
       "<div>\n",
       "<style scoped>\n",
       "    .dataframe tbody tr th:only-of-type {\n",
       "        vertical-align: middle;\n",
       "    }\n",
       "\n",
       "    .dataframe tbody tr th {\n",
       "        vertical-align: top;\n",
       "    }\n",
       "\n",
       "    .dataframe thead th {\n",
       "        text-align: right;\n",
       "    }\n",
       "</style>\n",
       "<table border=\"1\" class=\"dataframe\">\n",
       "  <thead>\n",
       "    <tr style=\"text-align: right;\">\n",
       "      <th></th>\n",
       "      <th>CHROM</th>\n",
       "      <th>POS</th>\n",
       "      <th>ID</th>\n",
       "      <th>REF</th>\n",
       "      <th>ALT_1</th>\n",
       "      <th>ALT_2</th>\n",
       "      <th>ALT_3</th>\n",
       "      <th>QUAL</th>\n",
       "      <th>FILTER_PASS</th>\n",
       "    </tr>\n",
       "  </thead>\n",
       "  <tbody>\n",
       "    <tr>\n",
       "      <th>0</th>\n",
       "      <td>6</td>\n",
       "      <td>30539205</td>\n",
       "      <td>rs4148247</td>\n",
       "      <td>C</td>\n",
       "      <td>T</td>\n",
       "      <td>NaN</td>\n",
       "      <td>NaN</td>\n",
       "      <td>100.0</td>\n",
       "      <td>True</td>\n",
       "    </tr>\n",
       "    <tr>\n",
       "      <th>1</th>\n",
       "      <td>6</td>\n",
       "      <td>30539235</td>\n",
       "      <td>rs376635574</td>\n",
       "      <td>G</td>\n",
       "      <td>T</td>\n",
       "      <td>NaN</td>\n",
       "      <td>NaN</td>\n",
       "      <td>100.0</td>\n",
       "      <td>True</td>\n",
       "    </tr>\n",
       "    <tr>\n",
       "      <th>2</th>\n",
       "      <td>6</td>\n",
       "      <td>30539269</td>\n",
       "      <td>rs529428649</td>\n",
       "      <td>C</td>\n",
       "      <td>T</td>\n",
       "      <td>NaN</td>\n",
       "      <td>NaN</td>\n",
       "      <td>100.0</td>\n",
       "      <td>True</td>\n",
       "    </tr>\n",
       "    <tr>\n",
       "      <th>3</th>\n",
       "      <td>6</td>\n",
       "      <td>30539297</td>\n",
       "      <td>rs549451699</td>\n",
       "      <td>G</td>\n",
       "      <td>A</td>\n",
       "      <td>NaN</td>\n",
       "      <td>NaN</td>\n",
       "      <td>100.0</td>\n",
       "      <td>True</td>\n",
       "    </tr>\n",
       "    <tr>\n",
       "      <th>4</th>\n",
       "      <td>6</td>\n",
       "      <td>30539315</td>\n",
       "      <td>rs566087434</td>\n",
       "      <td>C</td>\n",
       "      <td>T</td>\n",
       "      <td>NaN</td>\n",
       "      <td>NaN</td>\n",
       "      <td>100.0</td>\n",
       "      <td>True</td>\n",
       "    </tr>\n",
       "    <tr>\n",
       "      <th>...</th>\n",
       "      <td>...</td>\n",
       "      <td>...</td>\n",
       "      <td>...</td>\n",
       "      <td>...</td>\n",
       "      <td>...</td>\n",
       "      <td>...</td>\n",
       "      <td>...</td>\n",
       "      <td>...</td>\n",
       "      <td>...</td>\n",
       "    </tr>\n",
       "    <tr>\n",
       "      <th>677</th>\n",
       "      <td>6</td>\n",
       "      <td>30564914</td>\n",
       "      <td>rs553979094</td>\n",
       "      <td>C</td>\n",
       "      <td>T</td>\n",
       "      <td>NaN</td>\n",
       "      <td>NaN</td>\n",
       "      <td>100.0</td>\n",
       "      <td>True</td>\n",
       "    </tr>\n",
       "    <tr>\n",
       "      <th>678</th>\n",
       "      <td>6</td>\n",
       "      <td>30564924</td>\n",
       "      <td>rs78838891</td>\n",
       "      <td>T</td>\n",
       "      <td>C</td>\n",
       "      <td>NaN</td>\n",
       "      <td>NaN</td>\n",
       "      <td>100.0</td>\n",
       "      <td>True</td>\n",
       "    </tr>\n",
       "    <tr>\n",
       "      <th>679</th>\n",
       "      <td>6</td>\n",
       "      <td>30564925</td>\n",
       "      <td>rs190489896</td>\n",
       "      <td>A</td>\n",
       "      <td>T</td>\n",
       "      <td>NaN</td>\n",
       "      <td>NaN</td>\n",
       "      <td>100.0</td>\n",
       "      <td>True</td>\n",
       "    </tr>\n",
       "    <tr>\n",
       "      <th>680</th>\n",
       "      <td>6</td>\n",
       "      <td>30564953</td>\n",
       "      <td>rs117984242</td>\n",
       "      <td>C</td>\n",
       "      <td>T</td>\n",
       "      <td>NaN</td>\n",
       "      <td>NaN</td>\n",
       "      <td>100.0</td>\n",
       "      <td>True</td>\n",
       "    </tr>\n",
       "    <tr>\n",
       "      <th>681</th>\n",
       "      <td>6</td>\n",
       "      <td>30564955</td>\n",
       "      <td>rs139781241</td>\n",
       "      <td>C</td>\n",
       "      <td>G</td>\n",
       "      <td>NaN</td>\n",
       "      <td>NaN</td>\n",
       "      <td>100.0</td>\n",
       "      <td>True</td>\n",
       "    </tr>\n",
       "  </tbody>\n",
       "</table>\n",
       "<p>682 rows × 9 columns</p>\n",
       "</div>"
      ],
      "text/plain": [
       "    CHROM       POS           ID REF ALT_1 ALT_2  ALT_3   QUAL  FILTER_PASS\n",
       "0       6  30539205    rs4148247   C     T   NaN    NaN  100.0         True\n",
       "1       6  30539235  rs376635574   G     T   NaN    NaN  100.0         True\n",
       "2       6  30539269  rs529428649   C     T   NaN    NaN  100.0         True\n",
       "3       6  30539297  rs549451699   G     A   NaN    NaN  100.0         True\n",
       "4       6  30539315  rs566087434   C     T   NaN    NaN  100.0         True\n",
       "..    ...       ...          ...  ..   ...   ...    ...    ...          ...\n",
       "677     6  30564914  rs553979094   C     T   NaN    NaN  100.0         True\n",
       "678     6  30564924   rs78838891   T     C   NaN    NaN  100.0         True\n",
       "679     6  30564925  rs190489896   A     T   NaN    NaN  100.0         True\n",
       "680     6  30564953  rs117984242   C     T   NaN    NaN  100.0         True\n",
       "681     6  30564955  rs139781241   C     G   NaN    NaN  100.0         True\n",
       "\n",
       "[682 rows x 9 columns]"
      ]
     },
     "execution_count": 9,
     "metadata": {},
     "output_type": "execute_result"
    }
   ],
   "source": [
    "pop"
   ]
  },
  {
   "cell_type": "code",
   "execution_count": 163,
   "metadata": {},
   "outputs": [],
   "source": [
    "#per CIT\n",
    "'''pop= pd.read_csv('/home/fsalvatore/Desktop/Genes/gene_pop(5)/csv/CIT_CHB_EAS.csv')\n",
    "pop= pop.drop(['CHROM', 'QUAL','FILTER', 'INFO', 'FORMAT', 'ID', 'REF', 'ALT'],1)\n",
    "pop\n",
    "\n",
    "a=pd.read_csv(r'/home/fsalvatore/Desktop/Genes/Haplotype_reconstruction(10)/CIT_CHB_EAS_haplotype.csv')\n",
    "a=a.drop(['Unnamed: 0'],1)\n",
    "\n",
    "new_df=pd.DataFrame(columns=pop.POS)\n",
    "\n",
    "for i in range(len(a.columns)):\n",
    "    x=pop.iloc[i]['POS']\n",
    "    a=a.rename(columns={a.columns[i]:x})\n",
    "\n",
    "a.to_csv(r'/home/fsalvatore/Desktop/Genes/Haplotype_reconstruction(10)/CIT_CHB_EAS_haplotype.csv')'''"
   ]
  }
 ],
 "metadata": {
  "kernelspec": {
   "display_name": "Python 3",
   "language": "python",
   "name": "python3"
  },
  "language_info": {
   "codemirror_mode": {
    "name": "ipython",
    "version": 3
   },
   "file_extension": ".py",
   "mimetype": "text/x-python",
   "name": "python",
   "nbconvert_exporter": "python",
   "pygments_lexer": "ipython3",
   "version": "3.6.10"
  }
 },
 "nbformat": 4,
 "nbformat_minor": 2
}
