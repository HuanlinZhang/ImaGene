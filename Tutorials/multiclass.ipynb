{
 "cells": [
  {
   "cell_type": "markdown",
   "metadata": {},
   "source": [
    "# Tutorial for multiclass classification using _ImaGene_\n",
    "\n",
    "In this example, the aim is to classify whether a given _locus_ is under positive selection or neutrally evolving with 3 classes of selection coefficient (0,200,400 in 2Ne units with Ne=10,000).\n",
    "Please refer to the tutorial for binay classification for an in-depth explanation of each step.\n",
    "Here we will just highlight the main differences."
   ]
  },
  {
   "cell_type": "code",
   "execution_count": null,
   "metadata": {},
   "outputs": [],
   "source": [
    "import os\n",
    "import gzip\n",
    "import _pickle as pickle\n",
    "\n",
    "import numpy as np\n",
    "import scipy.stats\n",
    "\n",
    "import skimage.transform\n",
    "from keras import models, layers, activations, optimizers, regularizers\n",
    "from keras.utils import plot_model\n",
    "from keras.models import load_model\n",
    "\n",
    "import itertools\n",
    "import matplotlib.pyplot as plt\n",
    "from sklearn.metrics import confusion_matrix"
   ]
  },
  {
   "cell_type": "code",
   "execution_count": null,
   "metadata": {},
   "outputs": [],
   "source": [
    "%run -i ImaGene.py"
   ]
  },
  {
   "cell_type": "markdown",
   "metadata": {},
   "source": [
    "We can check the sample allele frequency for the selected allele. recall that we imposed selection to be acting in the middle of the region. Therefore, the targeted allele will be in position '0.5' in the _msms_ file."
   ]
  },
  {
   "cell_type": "code",
   "execution_count": null,
   "metadata": {},
   "outputs": [],
   "source": [
    "freqs = calculate_allele_frequency(gene_sim, 0.5)\n",
    "plt.scatter(gene_sim.targets, freqs, marker='o')\n",
    "plt.xlabel('Selection coefficient')\n",
    "plt.ylabel('Allele frequency')"
   ]
  },
  {
   "cell_type": "markdown",
   "metadata": {},
   "source": [
    "As you can see, the current allele frequency for the targeted allele (on the y-axis) tends to increase for increasing selection coefficient (on the x-axis).\n",
    "\n",
    "Next, _ImaGene_ provides functionalities to manipulate our object. Specifically we can do the following:\n",
    "* convert ancestral/derived to major/minor allele polarisation\n",
    "* filter out columns based on a minimum allele frequency (e.g. 0.01)\n",
    "* sorting rows and columns by frequency (or distance from the most frequent entry)\n",
    "* resize rows and columns (e.g. to 128x128)\n",
    "\n",
    "For instance, the options above could be achieved with the following lines:"
   ]
  },
  {
   "cell_type": "markdown",
   "metadata": {},
   "source": [
    "Here we want to do a simple binary classification. This means that we only want to consider 2 classes. For doing that, first we need to set '.classes' to the desired values and then we need to take a subset of the data corresponding to the desired classes only.\n",
    "\n",
    "We can achieve these steps with the following lines with, as an illustration,  classes (i.e. selection coefficients) of 0 and 300 (in 2Ne units)."
   ]
  },
  {
   "cell_type": "code",
   "execution_count": null,
   "metadata": {},
   "outputs": [],
   "source": [
    "mygene.classes = np.array([0,300])\n",
    "classes_idx = get_index_classes(mygene.targets, mygene.classes)\n",
    "len(classes_idx)"
   ]
  },
  {
   "cell_type": "markdown",
   "metadata": {},
   "source": [
    "As you can see, we now have 4000 data points, as expected. Finally, let's take the corresponding subset of the data."
   ]
  },
  {
   "cell_type": "code",
   "execution_count": null,
   "metadata": {},
   "outputs": [],
   "source": [
    "mygene.subset(classes_idx)\n",
    "mygene.summary()"
   ]
  },
  {
   "cell_type": "markdown",
   "metadata": {},
   "source": [
    "Now we have an object of 4000 data points (images). "
   ]
  },
  {
   "cell_type": "code",
   "execution_count": null,
   "metadata": {},
   "outputs": [],
   "source": [
    "i = 1\n",
    "while i <= 10:\n",
    "\n",
    "    # simluations with a one-epoch demographic model\n",
    "    myfile = ImaFile(simulations_folder='/home/mfumagal/Data/ImaGene/Binary/Simulations' + str(i) + '.Epoch1', nr_samples=128, model_name='Marth-1epoch-CEU')\n",
    "\n",
    "    mygene = myfile.read_simulations(parameter_name='selection_coeff_hetero', max_nrepl=2000)\n",
    "    \n",
    "    # manipulate data, we keep the ancestral/derived polarisation in this example and filter out SNPs with a derived allele frequency loer than 2%\n",
    "    mygene.filter_freq(0.02)\n",
    "    mygene.sort('rows_freq')\n",
    "    mygene.sort('cols_freq')\n",
    "    mygene.resize((128, 128))\n",
    "    mygene.convert(verbose=False)\n",
    "    \n",
    "    # we use only classes 0,200,400\n",
    "    mygene.classes = np.array([0,200,400])\n",
    "    \n",
    "    # randomise data\n",
    "    mygene.subset(get_index_classes(mygene.targets, mygene.classes))\n",
    "    mygene.subset(get_index_random(mygene))\n",
    "\n",
    "    # targets have to be converted into categorical data\n",
    "    mygene.targets = to_categorical(mygene.targets)\n",
    "    \n",
    "    # at first iteration we build the model \n",
    "    # note that, as an illustration, we don't implement a final fully-connected layer\n",
    "    if i == 1:\n",
    "\n",
    "        model = models.Sequential([\n",
    "                    layers.Conv2D(filters=32, kernel_size=(3,3), strides=(1,1), activation='relu', kernel_regularizer=regularizers.l1_l2(l1=0.005, l2=0.005), padding='valid', input_shape=mygene.data.shape[1:4]),\n",
    "                    layers.MaxPooling2D(pool_size=(2,2)),\n",
    "                    layers.Conv2D(filters=64, kernel_size=(3,3), strides=(1,1), activation='relu', kernel_regularizer=regularizers.l1_l2(l1=0.005, l2=0.005), padding='valid'),\n",
    "                    layers.MaxPooling2D(pool_size=(2,2)),\n",
    "                    layers.Conv2D(filters=64, kernel_size=(3,3), strides=(1,1), activation='relu', kernel_regularizer=regularizers.l1_l2(l1=0.005, l2=0.005), padding='valid'),\n",
    "                    layers.MaxPooling2D(pool_size=(2,2)),\n",
    "                    layers.Flatten(),\n",
    "                    layers.Dense(units=len(mygene.classes), activation='softmax')])\n",
    "        model.compile(optimizer='adam',\n",
    "                    loss='categorical_crossentropy',\n",
    "                    metrics=['accuracy'])\n",
    "\n",
    "        mynet = ImaNet(name='[C32+P]+[C64+P]x2')\n",
    "\n",
    "    # training for iterations from 1 to 9\n",
    "    if i < 10:\n",
    "        score = model.fit(mygene.data, mygene.targets, batch_size=32, epochs=1, verbose=0, validation_split=0.10)\n",
    "        mynet.update_scores(score)\n",
    "    else:\n",
    "        # testing for iteration 10\n",
    "        mynet.test = model.evaluate(mygene.data, mygene.targets, batch_size=None, verbose=0)\n",
    "        mynet.predict(mygene, model)\n",
    "\n",
    "    i += 1"
   ]
  },
  {
   "cell_type": "code",
   "execution_count": null,
   "metadata": {},
   "outputs": [],
   "source": [
    "# save final (trained) model\n",
    "model.save('Data/model.multi.h5')\n",
    "\n",
    "# save testing data\n",
    "mygene.save('Data/mygene.multi')\n",
    "\n",
    "# save network\n",
    "mynet.save('Data/mynet.multi')"
   ]
  },
  {
   "cell_type": "code",
   "execution_count": null,
   "metadata": {},
   "outputs": [],
   "source": [
    "# assess the training\n",
    "mynet.plot_train()"
   ]
  },
  {
   "cell_type": "code",
   "execution_count": null,
   "metadata": {},
   "outputs": [],
   "source": [
    "# print the testing results [loss, accuracy]\n",
    "print(mynet.test)"
   ]
  },
  {
   "cell_type": "code",
   "execution_count": null,
   "metadata": {},
   "outputs": [],
   "source": [
    "# plot a confusion matrix (on the last mygene object which represents the testing data)\n",
    "mynet.plot_cm(mygene.classes)"
   ]
  }
 ],
 "metadata": {
  "kernelspec": {
   "display_name": "Python 3",
   "language": "python",
   "name": "python3"
  },
  "language_info": {
   "codemirror_mode": {
    "name": "ipython",
    "version": 3
   },
   "file_extension": ".py",
   "mimetype": "text/x-python",
   "name": "python",
   "nbconvert_exporter": "python",
   "pygments_lexer": "ipython3",
   "version": "3.6.10"
  }
 },
 "nbformat": 4,
 "nbformat_minor": 2
}
