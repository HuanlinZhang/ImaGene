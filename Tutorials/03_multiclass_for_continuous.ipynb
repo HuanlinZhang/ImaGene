{
 "cells": [
  {
   "cell_type": "markdown",
   "metadata": {},
   "source": [
    "# Tutorial for multiclass classification on continuous variables using _ImaGene_\n",
    "\n",
    "In this example, the aim is to estimate a continuous parameter.\n",
    "Please refer to the tutorial for binary and multiclass classification for an in-depth explanation of each step and case study.\n",
    "Briefly, we aim at estimating the selection coefficient on one variant conferring lactase persistence in Europeans.\n",
    "We will discretize the distribution into classes and perform a multiclass classification."
   ]
  },
  {
   "cell_type": "code",
   "execution_count": 1,
   "metadata": {},
   "outputs": [
    {
     "name": "stderr",
     "output_type": "stream",
     "text": [
      "Using TensorFlow backend.\n"
     ]
    }
   ],
   "source": [
    "import os\n",
    "import gzip\n",
    "import _pickle as pickle\n",
    "\n",
    "import numpy as np\n",
    "import scipy.stats\n",
    "import pymc3\n",
    "\n",
    "import tensorflow as tf\n",
    "from tensorflow import keras\n",
    "from keras import models, layers, activations, optimizers, regularizers\n",
    "from keras.utils import plot_model\n",
    "from keras.models import load_model\n",
    "\n",
    "import itertools\n",
    "import skimage.transform\n",
    "import matplotlib.pyplot as plt\n",
    "from sklearn.metrics import confusion_matrix\n",
    "import pydot # optional, but required by keras to plot the model"
   ]
  },
  {
   "cell_type": "code",
   "execution_count": 13,
   "metadata": {},
   "outputs": [],
   "source": [
    "%run -i ../ImaGene.py"
   ]
  },
  {
   "cell_type": "markdown",
   "metadata": {},
   "source": [
    "### 1. read data from VCF file and store it into _ImaGene_ objects"
   ]
  },
  {
   "cell_type": "code",
   "execution_count": 3,
   "metadata": {},
   "outputs": [],
   "source": [
    "file_LCT = ImaFile(nr_samples=198, VCF_file_name='LCT.CEU.vcf')\n",
    "gene_LCT = file_LCT.read_VCF()"
   ]
  },
  {
   "cell_type": "markdown",
   "metadata": {},
   "source": [
    "As an illustration, here we will sort rows by distance and columns by frequency and resize the image to (128,128)."
   ]
  },
  {
   "cell_type": "code",
   "execution_count": 4,
   "metadata": {},
   "outputs": [
    {
     "data": {
      "image/png": "[encoded data removed]",
      "text/plain": [
       "<Figure size 432x288 with 1 Axes>"
      ]
     },
     "metadata": {
      "needs_background": "light"
     },
     "output_type": "display_data"
    },
    {
     "name": "stdout",
     "output_type": "stream",
     "text": [
      "An object of 1 image(s)\n",
      "Rows: min 128, max 128, mean 128.000000, std 0.000000\n",
      "Columns: min 128, max 128, mean 128.000000, std 0.000000\n"
     ]
    },
    {
     "data": {
      "text/plain": [
       "0"
      ]
     },
     "execution_count": 4,
     "metadata": {},
     "output_type": "execute_result"
    }
   ],
   "source": [
    "gene_LCT.filter_freq(0.005)\n",
    "gene_LCT.sort('rows_dist')\n",
    "gene_LCT.sort('cols_freq')\n",
    "gene_LCT.resize((128,128))\n",
    "gene_LCT.convert(flip=True)\n",
    "gene_LCT.plot()\n",
    "gene_LCT.summary()"
   ]
  },
  {
   "cell_type": "markdown",
   "metadata": {},
   "source": [
    "### 2. run and process simulations to be used for training the neural network\n",
    "\n",
    "We provide an example of parameter file called `params_continuous` which simulates a total of 205,000 loci of 80kbp with allelic selection coefficients from 0 to 400 in $2N_e$ units with $N_e=10,000$ with a step of 1 and additive effect.\n",
    "All other parameters are set as in the example of binary classification."
   ]
  },
  {
   "cell_type": "code",
   "execution_count": null,
   "metadata": {},
   "outputs": [],
   "source": [
    "import subprocess\n",
    "subprocess.call(\"bash ../generate_dataset.sh params_continuous.txt\".split())"
   ]
  },
  {
   "cell_type": "markdown",
   "metadata": {},
   "source": [
    "We wish to perform a multiclass classification to estimate the selection coefficient, a continuous parameter. \n",
    "In _ImaGene_ we can easily do that by imposing a new discrete set of classes and reassign the new targets to such classes with the methods `.set_classes` and `.set_targets`."
   ]
  },
  {
   "cell_type": "markdown",
   "metadata": {},
   "source": [
    "### 3. implement, train and evaluate the neural network\n",
    "\n",
    "The pipeline for training and testing is the following one."
   ]
  },
  {
   "cell_type": "code",
   "execution_count": 7,
   "metadata": {},
   "outputs": [
    {
     "ename": "KeyboardInterrupt",
     "evalue": "",
     "output_type": "error",
     "traceback": [
      "\u001b[0;31m---------------------------------------------------------------------------\u001b[0m",
      "\u001b[0;31mKeyboardInterrupt\u001b[0m                         Traceback (most recent call last)",
      "\u001b[0;32m~/Software/ImaGene/ImaGene.py\u001b[0m in \u001b[0;36m<module>\u001b[0;34m\u001b[0m\n\u001b[1;32m      6\u001b[0m \u001b[0;34m\u001b[0m\u001b[0m\n\u001b[1;32m      7\u001b[0m     \u001b[0;31m# retain only 20 data points per class as a quick example\u001b[0m\u001b[0;34m\u001b[0m\u001b[0;34m\u001b[0m\u001b[0;34m\u001b[0m\u001b[0m\n\u001b[0;32m----> 8\u001b[0;31m     \u001b[0mgene_sim\u001b[0m \u001b[0;34m=\u001b[0m \u001b[0mfile_sim\u001b[0m\u001b[0;34m.\u001b[0m\u001b[0mread_simulations\u001b[0m\u001b[0;34m(\u001b[0m\u001b[0mparameter_name\u001b[0m\u001b[0;34m=\u001b[0m\u001b[0;34m'selection_coeff_hetero'\u001b[0m\u001b[0;34m,\u001b[0m \u001b[0mmax_nrepl\u001b[0m\u001b[0;34m=\u001b[0m\u001b[0;36m20\u001b[0m\u001b[0;34m)\u001b[0m\u001b[0;34m\u001b[0m\u001b[0;34m\u001b[0m\u001b[0m\n\u001b[0m\u001b[1;32m      9\u001b[0m \u001b[0;34m\u001b[0m\u001b[0m\n\u001b[1;32m     10\u001b[0m     \u001b[0;31m# manipulate data\u001b[0m\u001b[0;34m\u001b[0m\u001b[0;34m\u001b[0m\u001b[0;34m\u001b[0m\u001b[0m\n",
      "\u001b[0;32m~/Software/ImaGene/ImaGene.py\u001b[0m in \u001b[0;36mread_simulations\u001b[0;34m(self, parameter_name, max_nrepl, verbose)\u001b[0m\n\u001b[1;32m    256\u001b[0m                     \u001b[0;31m# switch colours, 1s are black and 0s are white\u001b[0m\u001b[0;34m\u001b[0m\u001b[0;34m\u001b[0m\u001b[0;34m\u001b[0m\u001b[0m\n\u001b[1;32m    257\u001b[0m                     \u001b[0mhap\u001b[0m \u001b[0;34m=\u001b[0m \u001b[0;34m[\u001b[0m\u001b[0;34m'255'\u001b[0m \u001b[0;32mif\u001b[0m \u001b[0melement\u001b[0m\u001b[0;34m==\u001b[0m\u001b[0;34m'1'\u001b[0m \u001b[0;32melse\u001b[0m \u001b[0melement\u001b[0m \u001b[0;32mfor\u001b[0m \u001b[0melement\u001b[0m \u001b[0;32min\u001b[0m \u001b[0mhap\u001b[0m\u001b[0;34m]\u001b[0m\u001b[0;34m\u001b[0m\u001b[0;34m\u001b[0m\u001b[0m\n\u001b[0;32m--> 258\u001b[0;31m                     \u001b[0mhaplotypes\u001b[0m\u001b[0;34m[\u001b[0m\u001b[0mj\u001b[0m\u001b[0;34m,\u001b[0m\u001b[0;34m:\u001b[0m\u001b[0;34m,\u001b[0m\u001b[0;36m0\u001b[0m\u001b[0;34m]\u001b[0m \u001b[0;34m=\u001b[0m \u001b[0mhap\u001b[0m\u001b[0;34m\u001b[0m\u001b[0;34m\u001b[0m\u001b[0m\n\u001b[0m\u001b[1;32m    259\u001b[0m \u001b[0;34m\u001b[0m\u001b[0m\n\u001b[1;32m    260\u001b[0m                 \u001b[0mdata\u001b[0m\u001b[0;34m.\u001b[0m\u001b[0mappend\u001b[0m\u001b[0;34m(\u001b[0m\u001b[0mhaplotypes\u001b[0m\u001b[0;34m)\u001b[0m\u001b[0;34m\u001b[0m\u001b[0;34m\u001b[0m\u001b[0m\n",
      "\u001b[0;31mKeyboardInterrupt\u001b[0m: "
     ]
    }
   ],
   "source": [
    "i = 1\n",
    "while i <= 10:\n",
    "\n",
    "    # simulations \n",
    "    file_sim = ImaFile(simulations_folder='/home/mfumagal/Data/ImaGene/Tutorials/Continuous/Simulations' + str(i), nr_samples=198, model_name='Marth-3epoch-CEU')\n",
    "\n",
    "    # retain only 20 data points per class as a quick example\n",
    "    gene_sim = file_sim.read_simulations(parameter_name='selection_coeff_hetero', max_nrepl=20)\n",
    "    \n",
    "    # manipulate data\n",
    "    gene_sim.filter_freq(0.005)\n",
    "    gene_sim.sort('rows_dist')\n",
    "    gene_sim.sort('cols_freq')\n",
    "    gene_sim.resize((128,128))\n",
    "    gene_sim.convert(flip=True)\n",
    "    \n",
    "    # we assign 11 classes out of all the data simulated\n",
    "    gene_sim.set_classes(nr_classes=11)\n",
    "    if i == 1:\n",
    "        print(gene_sim.classes)\n",
    "    # and we assign targets corresponding to the previously set classes \n",
    "    gene_sim.set_targets()\n",
    "    \n",
    "    # randomise data\n",
    "    gene_sim.subset(get_index_random(gene_sim))\n",
    "\n",
    "    # targets have to be converted into categorical data; \n",
    "    # here we can use some extra options to, for instance, impose a Guassian distribution on the true targets\n",
    "    gene_sim.targets = to_categorical(gene_sim.targets, wiggle=0, sd=0.5)\n",
    "    \n",
    "    # at first iteration we build the model \n",
    "    # note that, as an illustration, we don't implement a final fully-connected layer as we are double sorting the matrix\n",
    "    if i == 1:\n",
    "\n",
    "        model = models.Sequential([\n",
    "                    layers.Conv2D(filters=32, kernel_size=(3,3), strides=(1,1), activation='relu', kernel_regularizer=regularizers.l1_l2(l1=0.005, l2=0.005), padding='valid', input_shape=gene_sim.data.shape[1:]),\n",
    "                    layers.MaxPooling2D(pool_size=(2,2)),\n",
    "                    layers.Conv2D(filters=64, kernel_size=(3,3), strides=(1,1), activation='relu', kernel_regularizer=regularizers.l1_l2(l1=0.005, l2=0.005), padding='valid'),\n",
    "                    layers.MaxPooling2D(pool_size=(2,2)),\n",
    "                    layers.Conv2D(filters=128, kernel_size=(3,3), strides=(1,1), activation='relu', kernel_regularizer=regularizers.l1_l2(l1=0.005, l2=0.005), padding='valid'),\n",
    "                    layers.MaxPooling2D(pool_size=(2,2)),\n",
    "                    layers.Flatten(),\n",
    "                    layers.Dense(units=len(gene_sim.classes), activation='softmax')])\n",
    "        model.compile(optimizer='adam',\n",
    "                    loss='categorical_crossentropy',\n",
    "                    metrics=['accuracy'])\n",
    "\n",
    "        net_LCT = ImaNet(name='[C32+P]+[C64+P]+[C128+P]')\n",
    "\n",
    "    # training for iterations from 1 to 9\n",
    "    print(i)\n",
    "    if i < 10:\n",
    "        score = model.fit(gene_sim.data, gene_sim.targets, batch_size=32, epochs=1, verbose=1, validation_split=0.10)\n",
    "        net_LCT.update_scores(score)\n",
    "    else:\n",
    "        # testing for iteration 10\n",
    "        net_LCT.test = model.evaluate(gene_sim.data, gene_sim.targets, batch_size=None, verbose=1)\n",
    "        net_LCT.predict(gene_sim, model)\n",
    "\n",
    "    i += 1"
   ]
  },
  {
   "cell_type": "code",
   "execution_count": null,
   "metadata": {},
   "outputs": [],
   "source": [
    "# save final (trained) model\n",
    "model.save('/home/mfumagal/Data/ImaGene/Tutorials/Data/model.multi_cont.h5')\n",
    "\n",
    "# save testing data\n",
    "gene_sim.save('/home/mfumagal/Data/ImaGene/Tutorials/Data/gene_sim.multi_cont')\n",
    "\n",
    "# save network\n",
    "net_LCT.save('/home/mfumagal/Data/ImaGene/Tutorials/Data/net_LCT.multi_cont')"
   ]
  },
  {
   "cell_type": "markdown",
   "metadata": {},
   "source": [
    "Recall that to load all these files you can use the following commands."
   ]
  },
  {
   "cell_type": "code",
   "execution_count": 8,
   "metadata": {},
   "outputs": [],
   "source": [
    "gene_sim = load_imagene('/home/mfumagal/Data/ImaGene/Tutorials/Data/gene_sim.multi_cont')\n",
    "net_LCT = load_imanet('/home/mfumagal/Data/ImaGene/Tutorials/Data/net_LCT.multi_cont')\n",
    "model = load_model('/home/mfumagal/Data/ImaGene/Tutorials/Data/model.multi_cont.h5')"
   ]
  },
  {
   "cell_type": "code",
   "execution_count": 9,
   "metadata": {},
   "outputs": [
    {
     "data": {
      "image/png": "[encoded data removed]",
      "text/plain": [
       "<Figure size 432x288 with 2 Axes>"
      ]
     },
     "metadata": {
      "needs_background": "light"
     },
     "output_type": "display_data"
    },
    {
     "data": {
      "text/plain": [
       "0"
      ]
     },
     "execution_count": 9,
     "metadata": {},
     "output_type": "execute_result"
    }
   ],
   "source": [
    "# assess the training\n",
    "net_LCT.plot_train()"
   ]
  },
  {
   "cell_type": "markdown",
   "metadata": {},
   "source": [
    "We can report loss, accuracy and confusion matrix as any classification task although in this case it may be more informative to inevstigate the difference between true and predicted values instead of classes."
   ]
  },
  {
   "cell_type": "code",
   "execution_count": 10,
   "metadata": {},
   "outputs": [
    {
     "name": "stdout",
     "output_type": "stream",
     "text": [
      "[2.0243351196113073, 0.2529925186883779]\n"
     ]
    },
    {
     "data": {
      "image/png": "[encoded data removed]",
      "text/plain": [
       "<Figure size 432x288 with 2 Axes>"
      ]
     },
     "metadata": {
      "needs_background": "light"
     },
     "output_type": "display_data"
    },
    {
     "data": {
      "text/plain": [
       "0"
      ]
     },
     "execution_count": 10,
     "metadata": {},
     "output_type": "execute_result"
    }
   ],
   "source": [
    "# print the testing results [loss, accuracy] and plot confusion matrix\n",
    "print(net_LCT.test)\n",
    "net_LCT.plot_cm(gene_sim.classes, text=False)"
   ]
  },
  {
   "cell_type": "markdown",
   "metadata": {},
   "source": [
    "### 4. deploy the trained network on your genomic data of interest\n",
    "\n",
    "Finally, we use the trained network to estimate the selection coefficient of our locus of interest.\n",
    "We can obtain plot of the probability distrbution is more \n",
    "can be easily obtained by, for instance, gathering MCMC samples followed by a histogram. MCMC samples can be used to obtain Bayes Factors and HPDI. \n",
    "(However, it is not guaranteed that this approach is better than using a regression as final layer. More tests need to be conducted.)"
   ]
  },
  {
   "cell_type": "code",
   "execution_count": 14,
   "metadata": {},
   "outputs": [
    {
     "data": {
      "image/png": "[encoded data removed]",
      "text/plain": [
       "<Figure size 432x288 with 1 Axes>"
      ]
     },
     "metadata": {
      "needs_background": "light"
     },
     "output_type": "display_data"
    }
   ],
   "source": [
    "values = plot_scores(model, gene_LCT, classes=gene_sim.classes)"
   ]
  },
  {
   "cell_type": "markdown",
   "metadata": {},
   "source": [
    "In output this function returns the following values: MAP, MLE, HPD, BF."
   ]
  },
  {
   "cell_type": "code",
   "execution_count": 15,
   "metadata": {},
   "outputs": [
    {
     "name": "stdout",
     "output_type": "stream",
     "text": [
      "(200, 234.82440088357419, array([120, 360], dtype=int32), 343.97346904909807)\n"
     ]
    }
   ],
   "source": [
    "print(values)"
   ]
  },
  {
   "cell_type": "code",
   "execution_count": null,
   "metadata": {},
   "outputs": [],
   "source": []
  }
 ],
 "metadata": {
  "kernelspec": {
   "display_name": "Python 3",
   "language": "python",
   "name": "python3"
  },
  "language_info": {
   "codemirror_mode": {
    "name": "ipython",
    "version": 3
   },
   "file_extension": ".py",
   "mimetype": "text/x-python",
   "name": "python",
   "nbconvert_exporter": "python",
   "pygments_lexer": "ipython3",
   "version": "3.6.10"
  }
 },
 "nbformat": 4,
 "nbformat_minor": 2
}
