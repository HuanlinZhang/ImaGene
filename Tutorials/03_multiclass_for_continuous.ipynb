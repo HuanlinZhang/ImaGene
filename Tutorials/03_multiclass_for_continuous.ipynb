{
 "cells": [
  {
   "cell_type": "markdown",
   "metadata": {},
   "source": [
    "# Tutorial for multiclass classification on continuous variables using _ImaGene_\n",
    "\n",
    "In this example, the aim is to estimate a continuous parameter.\n",
    "Please refer to the tutorial for binary and multiclass classification for an in-depth explanation of each step and case study.\n",
    "Briefly, we aim at estimating the selection coefficient on one variant conferring lactase persistence in Europeans.\n",
    "We will discretize the distribution into classes and perform a multiclass classification."
   ]
  },
  {
   "cell_type": "code",
   "execution_count": 2,
   "metadata": {},
   "outputs": [
    {
     "name": "stderr",
     "output_type": "stream",
     "text": [
      "Using TensorFlow backend.\n"
     ]
    }
   ],
   "source": [
    "import os\n",
    "import gzip\n",
    "import _pickle as pickle\n",
    "\n",
    "import numpy as np\n",
    "import scipy.stats\n",
    "import pymc3\n",
    "\n",
    "import skimage.transform\n",
    "from keras import models, layers, activations, optimizers, regularizers\n",
    "from keras.utils import plot_model\n",
    "from keras.models import load_model\n",
    "\n",
    "import itertools\n",
    "import matplotlib.pyplot as plt\n",
    "from sklearn.metrics import confusion_matrix\n",
    "import pydot # optional, but required by keras to plot the model"
   ]
  },
  {
   "cell_type": "code",
   "execution_count": 3,
   "metadata": {},
   "outputs": [],
   "source": [
    "%run -i ../ImaGene.py"
   ]
  },
  {
   "cell_type": "markdown",
   "metadata": {},
   "source": [
    "### 1. read data from VCF file and store it into _ImaGene_ objects"
   ]
  },
  {
   "cell_type": "code",
   "execution_count": 12,
   "metadata": {},
   "outputs": [],
   "source": [
    "file_LCT = ImaFile(nr_samples=198, VCF_file_name='LCT.CEU.vcf')\n",
    "gene_LCT = file_LCT.read_VCF()"
   ]
  },
  {
   "cell_type": "markdown",
   "metadata": {},
   "source": [
    "As an illustration, here we will sort rows by distance and columns by frequency and resize the image to (128,128)."
   ]
  },
  {
   "cell_type": "code",
   "execution_count": 13,
   "metadata": {},
   "outputs": [
    {
     "data": {
      "image/png": "[encoded data removed]",
      "text/plain": [
       "<Figure size 432x288 with 1 Axes>"
      ]
     },
     "metadata": {
      "needs_background": "light"
     },
     "output_type": "display_data"
    },
    {
     "name": "stdout",
     "output_type": "stream",
     "text": [
      "An object of 1 image(s)\n",
      "Rows: min 128, max 128, mean 128.000000, std 0.000000\n",
      "Columns: min 128, max 128, mean 128.000000, std 0.000000\n"
     ]
    },
    {
     "data": {
      "text/plain": [
       "0"
      ]
     },
     "execution_count": 13,
     "metadata": {},
     "output_type": "execute_result"
    }
   ],
   "source": [
    "gene_LCT.filter_freq(0.005)\n",
    "gene_LCT.sort('rows_dist')\n",
    "gene_LCT.sort('cols_freq')\n",
    "gene_LCT.resize((128,128))\n",
    "gene_LCT.convert(flip=True)\n",
    "gene_LCT.plot()\n",
    "gene_LCT.summary()"
   ]
  },
  {
   "cell_type": "markdown",
   "metadata": {},
   "source": [
    "### 2. run and process simulations to be used for training the neural network\n",
    "\n",
    "We provide an example of parameter file called `params_continuous` which simulates a total of 205,000 loci of 80kbp with allelic selection coefficients from 0 to 400 in $2N_e$ units with $N_e=10,000$ with a step of 1 and additive effect.\n",
    "All other parameters are set as in the example of binary classification."
   ]
  },
  {
   "cell_type": "code",
   "execution_count": 8,
   "metadata": {},
   "outputs": [
    {
     "data": {
      "text/plain": [
       "0"
      ]
     },
     "execution_count": 8,
     "metadata": {},
     "output_type": "execute_result"
    }
   ],
   "source": [
    "import subprocess\n",
    "subprocess.call(\"bash ../generate_dataset.sh params_continuous.txt\".split())"
   ]
  },
  {
   "cell_type": "markdown",
   "metadata": {},
   "source": [
    "We wish to perform a multiclass classification to estimate the selection coefficient, a continuous parameter. \n",
    "In _ImaGene_ we can easily do that by imposing a new discrete set of classes and reassign the new targets to such classes with the methods `.set_classes` and `.set_targets`."
   ]
  },
  {
   "cell_type": "code",
   "execution_count": null,
   "metadata": {},
   "outputs": [],
   "source": [
    "?gene_sim.set_classes"
   ]
  },
  {
   "cell_type": "code",
   "execution_count": null,
   "metadata": {},
   "outputs": [],
   "source": [
    "?gene_sim.set_targets"
   ]
  },
  {
   "cell_type": "markdown",
   "metadata": {},
   "source": [
    "### 3. implement, train and evaluate the neural network\n",
    "\n",
    "The pipeline for training and testing is the following one."
   ]
  },
  {
   "cell_type": "code",
   "execution_count": 15,
   "metadata": {},
   "outputs": [
    {
     "name": "stdout",
     "output_type": "stream",
     "text": [
      "[  0  40  80 120 160 200 240 280 320 360 400]\n",
      "WARNING:tensorflow:From /home/mfumagal/anaconda3/envs/ImaGene/lib/python3.6/site-packages/keras/backend/tensorflow_backend.py:74: The name tf.get_default_graph is deprecated. Please use tf.compat.v1.get_default_graph instead.\n",
      "\n",
      "WARNING:tensorflow:From /home/mfumagal/anaconda3/envs/ImaGene/lib/python3.6/site-packages/keras/backend/tensorflow_backend.py:517: The name tf.placeholder is deprecated. Please use tf.compat.v1.placeholder instead.\n",
      "\n",
      "WARNING:tensorflow:From /home/mfumagal/anaconda3/envs/ImaGene/lib/python3.6/site-packages/keras/backend/tensorflow_backend.py:4138: The name tf.random_uniform is deprecated. Please use tf.random.uniform instead.\n",
      "\n",
      "WARNING:tensorflow:From /home/mfumagal/anaconda3/envs/ImaGene/lib/python3.6/site-packages/keras/backend/tensorflow_backend.py:3976: The name tf.nn.max_pool is deprecated. Please use tf.nn.max_pool2d instead.\n",
      "\n",
      "WARNING:tensorflow:From /home/mfumagal/anaconda3/envs/ImaGene/lib/python3.6/site-packages/keras/optimizers.py:790: The name tf.train.Optimizer is deprecated. Please use tf.compat.v1.train.Optimizer instead.\n",
      "\n",
      "WARNING:tensorflow:From /home/mfumagal/anaconda3/envs/ImaGene/lib/python3.6/site-packages/keras/backend/tensorflow_backend.py:3295: The name tf.log is deprecated. Please use tf.math.log instead.\n",
      "\n",
      "1\n",
      "WARNING:tensorflow:From /home/mfumagal/anaconda3/envs/ImaGene/lib/python3.6/site-packages/tensorflow_core/python/ops/math_grad.py:1424: where (from tensorflow.python.ops.array_ops) is deprecated and will be removed in a future version.\n",
      "Instructions for updating:\n",
      "Use tf.where in 2.0, which has the same broadcast rule as np.where\n",
      "WARNING:tensorflow:From /home/mfumagal/anaconda3/envs/ImaGene/lib/python3.6/site-packages/keras/backend/tensorflow_backend.py:986: The name tf.assign_add is deprecated. Please use tf.compat.v1.assign_add instead.\n",
      "\n",
      "WARNING:tensorflow:From /home/mfumagal/anaconda3/envs/ImaGene/lib/python3.6/site-packages/keras/backend/tensorflow_backend.py:973: The name tf.assign is deprecated. Please use tf.compat.v1.assign instead.\n",
      "\n",
      "WARNING:tensorflow:From /home/mfumagal/anaconda3/envs/ImaGene/lib/python3.6/site-packages/keras/backend/tensorflow_backend.py:2741: The name tf.Session is deprecated. Please use tf.compat.v1.Session instead.\n",
      "\n",
      "Train on 7218 samples, validate on 802 samples\n",
      "Epoch 1/1\n",
      "WARNING:tensorflow:From /home/mfumagal/anaconda3/envs/ImaGene/lib/python3.6/site-packages/keras/backend/tensorflow_backend.py:174: The name tf.get_default_session is deprecated. Please use tf.compat.v1.get_default_session instead.\n",
      "\n",
      "WARNING:tensorflow:From /home/mfumagal/anaconda3/envs/ImaGene/lib/python3.6/site-packages/keras/backend/tensorflow_backend.py:181: The name tf.ConfigProto is deprecated. Please use tf.compat.v1.ConfigProto instead.\n",
      "\n",
      "WARNING:tensorflow:From /home/mfumagal/anaconda3/envs/ImaGene/lib/python3.6/site-packages/keras/backend/tensorflow_backend.py:190: The name tf.global_variables is deprecated. Please use tf.compat.v1.global_variables instead.\n",
      "\n",
      "WARNING:tensorflow:From /home/mfumagal/anaconda3/envs/ImaGene/lib/python3.6/site-packages/keras/backend/tensorflow_backend.py:199: The name tf.is_variable_initialized is deprecated. Please use tf.compat.v1.is_variable_initialized instead.\n",
      "\n",
      "WARNING:tensorflow:From /home/mfumagal/anaconda3/envs/ImaGene/lib/python3.6/site-packages/keras/backend/tensorflow_backend.py:206: The name tf.variables_initializer is deprecated. Please use tf.compat.v1.variables_initializer instead.\n",
      "\n",
      "7218/7218 [==============================] - 63s 9ms/step - loss: 4.2222 - acc: 0.1664 - val_loss: 2.2298 - val_acc: 0.2020\n",
      "2\n",
      "Train on 7218 samples, validate on 802 samples\n",
      "Epoch 1/1\n",
      "7218/7218 [==============================] - 62s 9ms/step - loss: 2.1969 - acc: 0.2303 - val_loss: 2.1038 - val_acc: 0.2182\n",
      "3\n",
      "Train on 7218 samples, validate on 802 samples\n",
      "Epoch 1/1\n",
      "7218/7218 [==============================] - 61s 8ms/step - loss: 2.1315 - acc: 0.2380 - val_loss: 2.0724 - val_acc: 0.2531\n",
      "4\n",
      "Train on 7218 samples, validate on 802 samples\n",
      "Epoch 1/1\n",
      "7218/7218 [==============================] - 60s 8ms/step - loss: 2.0988 - acc: 0.2406 - val_loss: 2.1217 - val_acc: 0.2157\n",
      "5\n",
      "Train on 7218 samples, validate on 802 samples\n",
      "Epoch 1/1\n",
      "7218/7218 [==============================] - 59s 8ms/step - loss: 2.0727 - acc: 0.2526 - val_loss: 2.0413 - val_acc: 0.2506\n",
      "6\n",
      "Train on 7218 samples, validate on 802 samples\n",
      "Epoch 1/1\n",
      "7218/7218 [==============================] - 61s 9ms/step - loss: 2.0630 - acc: 0.2440 - val_loss: 2.0024 - val_acc: 0.2618\n",
      "7\n",
      "Train on 7218 samples, validate on 802 samples\n",
      "Epoch 1/1\n",
      "7218/7218 [==============================] - 60s 8ms/step - loss: 2.0479 - acc: 0.2490 - val_loss: 2.0655 - val_acc: 0.2319\n",
      "8\n",
      "Train on 7218 samples, validate on 802 samples\n",
      "Epoch 1/1\n",
      "7218/7218 [==============================] - 60s 8ms/step - loss: 2.0448 - acc: 0.2416 - val_loss: 2.0900 - val_acc: 0.2344\n",
      "9\n",
      "Train on 7218 samples, validate on 802 samples\n",
      "Epoch 1/1\n",
      "7218/7218 [==============================] - 60s 8ms/step - loss: 2.0517 - acc: 0.2479 - val_loss: 2.0241 - val_acc: 0.2569\n",
      "10\n",
      "8020/8020 [==============================] - 24s 3ms/step\n"
     ]
    }
   ],
   "source": [
    "i = 1\n",
    "while i <= 10:\n",
    "\n",
    "    # simulations \n",
    "    file_sim = ImaFile(simulations_folder='/home/mfumagal/Downloads/ImaGene/Continuous/Simulations' + str(i), nr_samples=198, model_name='Marth-3epoch-CEU')\n",
    "\n",
    "    # retain only 20 data points per class as a quick example\n",
    "    gene_sim = file_sim.read_simulations(parameter_name='selection_coeff_hetero', max_nrepl=20)\n",
    "    \n",
    "    # manipulate data\n",
    "    gene_sim.filter_freq(0.005)\n",
    "    gene_sim.sort('rows_dist')\n",
    "    gene_sim.sort('cols_freq')\n",
    "    gene_sim.resize((128,128))\n",
    "    gene_sim.convert(flip=True)\n",
    "    \n",
    "    # we assign 11 classes out of all the data simulated\n",
    "    gene_sim.set_classes(nr_classes=11)\n",
    "    if i == 1:\n",
    "        print(gene_sim.classes)\n",
    "    # and we assign targets corresponding to the previously set classes \n",
    "    gene_sim.set_targets()\n",
    "    \n",
    "    # randomise data\n",
    "    gene_sim.subset(get_index_random(gene_sim))\n",
    "\n",
    "    # targets have to be converted into categorical data; \n",
    "    # here we can use some extra options to, for instance, impose a Guassian distribution on the true targets\n",
    "    gene_sim.targets = to_categorical(gene_sim.targets, wiggle=0, sd=0.5)\n",
    "    \n",
    "    # at first iteration we build the model \n",
    "    # note that, as an illustration, we don't implement a final fully-connected layer as we are double sorting the matrix\n",
    "    if i == 1:\n",
    "\n",
    "        model = models.Sequential([\n",
    "                    layers.Conv2D(filters=32, kernel_size=(3,3), strides=(1,1), activation='relu', kernel_regularizer=regularizers.l1_l2(l1=0.005, l2=0.005), padding='valid', input_shape=gene_sim.data.shape[1:]),\n",
    "                    layers.MaxPooling2D(pool_size=(2,2)),\n",
    "                    layers.Conv2D(filters=64, kernel_size=(3,3), strides=(1,1), activation='relu', kernel_regularizer=regularizers.l1_l2(l1=0.005, l2=0.005), padding='valid'),\n",
    "                    layers.MaxPooling2D(pool_size=(2,2)),\n",
    "                    layers.Conv2D(filters=128, kernel_size=(3,3), strides=(1,1), activation='relu', kernel_regularizer=regularizers.l1_l2(l1=0.005, l2=0.005), padding='valid'),\n",
    "                    layers.MaxPooling2D(pool_size=(2,2)),\n",
    "                    layers.Flatten(),\n",
    "                    layers.Dense(units=len(gene_sim.classes), activation='softmax')])\n",
    "        model.compile(optimizer='adam',\n",
    "                    loss='categorical_crossentropy',\n",
    "                    metrics=['accuracy'])\n",
    "\n",
    "        net_LCT = ImaNet(name='[C32+P]+[C64+P]+[C128+P]')\n",
    "\n",
    "    # training for iterations from 1 to 9\n",
    "    print(i)\n",
    "    if i < 10:\n",
    "        score = model.fit(gene_sim.data, gene_sim.targets, batch_size=32, epochs=1, verbose=1, validation_split=0.10)\n",
    "        net_LCT.update_scores(score)\n",
    "    else:\n",
    "        # testing for iteration 10\n",
    "        net_LCT.test = model.evaluate(gene_sim.data, gene_sim.targets, batch_size=None, verbose=1)\n",
    "        net_LCT.predict(gene_sim, model)\n",
    "\n",
    "    i += 1"
   ]
  },
  {
   "cell_type": "code",
   "execution_count": 16,
   "metadata": {},
   "outputs": [
    {
     "data": {
      "text/plain": [
       "0"
      ]
     },
     "execution_count": 16,
     "metadata": {},
     "output_type": "execute_result"
    }
   ],
   "source": [
    "# save final (trained) model\n",
    "model.save('Data/model.multi_cont.h5')\n",
    "\n",
    "# save testing data\n",
    "gene_sim.save('Data/gene_sim.multi_cont')\n",
    "\n",
    "# save network\n",
    "net_LCT.save('Data/net_LCT.multi_cont')"
   ]
  },
  {
   "cell_type": "markdown",
   "metadata": {},
   "source": [
    "Recall that to load all these files you can use the following commands."
   ]
  },
  {
   "cell_type": "code",
   "execution_count": 8,
   "metadata": {},
   "outputs": [],
   "source": [
    "gene_sim = load_imagene('Data/gene_sim.multi_cont')\n",
    "net_LCT = load_imanet('Data/net_LCT.multi_cont')\n",
    "model = load_model('Data/model.multi_cont.h5')"
   ]
  },
  {
   "cell_type": "code",
   "execution_count": 9,
   "metadata": {},
   "outputs": [
    {
     "data": {
      "image/png": "[encoded data removed]",
      "text/plain": [
       "<Figure size 432x288 with 2 Axes>"
      ]
     },
     "metadata": {
      "needs_background": "light"
     },
     "output_type": "display_data"
    },
    {
     "data": {
      "text/plain": [
       "0"
      ]
     },
     "execution_count": 9,
     "metadata": {},
     "output_type": "execute_result"
    }
   ],
   "source": [
    "# assess the training\n",
    "net_LCT.plot_train()"
   ]
  },
  {
   "cell_type": "markdown",
   "metadata": {},
   "source": [
    "We can report loss, accuracy and confusion matrix as any classification task although in this case it may be more informative to inevstigate the difference between true and predicted values instead of classes."
   ]
  },
  {
   "cell_type": "code",
   "execution_count": 10,
   "metadata": {},
   "outputs": [
    {
     "name": "stdout",
     "output_type": "stream",
     "text": [
      "[2.0243351196113073, 0.2529925186883779]\n"
     ]
    },
    {
     "data": {
      "image/png": "[encoded data removed]",
      "text/plain": [
       "<Figure size 432x288 with 2 Axes>"
      ]
     },
     "metadata": {
      "needs_background": "light"
     },
     "output_type": "display_data"
    },
    {
     "data": {
      "text/plain": [
       "0"
      ]
     },
     "execution_count": 10,
     "metadata": {},
     "output_type": "execute_result"
    }
   ],
   "source": [
    "# print the testing results [loss, accuracy] and plot confusion matrix\n",
    "print(net_LCT.test)\n",
    "net_LCT.plot_cm(gene_sim.classes, text=False)"
   ]
  },
  {
   "cell_type": "markdown",
   "metadata": {},
   "source": [
    "### 4. deploy the trained network on your genomic data of interest\n",
    "\n",
    "Finally, we use the trained network to estimate the selection coefficient of our locus of interest.\n",
    "We can obtain plot of the probability distrbution is more \n",
    "can be easily obtained by, for instance, gathering MCMC samples followed by a histogram. MCMC samples can be used to obtain Bayes Factors and HPDI. \n",
    "(However, it is not guaranteed that this approach is better than using a regression as final layer. More tests need to be conducted.)"
   ]
  },
  {
   "cell_type": "code",
   "execution_count": 15,
   "metadata": {},
   "outputs": [
    {
     "data": {
      "image/png": "[encoded data removed]",
      "text/plain": [
       "<Figure size 432x288 with 1 Axes>"
      ]
     },
     "metadata": {
      "needs_background": "light"
     },
     "output_type": "display_data"
    }
   ],
   "source": [
    "values = plot_scores(model, gene_LCT, classes=gene_sim.classes)"
   ]
  },
  {
   "cell_type": "markdown",
   "metadata": {},
   "source": [
    "In output this function returns the following values: MAP, MLE, HPD, BF."
   ]
  },
  {
   "cell_type": "code",
   "execution_count": 16,
   "metadata": {},
   "outputs": [
    {
     "name": "stdout",
     "output_type": "stream",
     "text": [
      "(200, 234.82440088357419, array([120, 360], dtype=int32), 343.97346904909807)\n"
     ]
    }
   ],
   "source": [
    "print(values)"
   ]
  },
  {
   "cell_type": "code",
   "execution_count": null,
   "metadata": {},
   "outputs": [],
   "source": []
  }
 ],
 "metadata": {
  "kernelspec": {
   "display_name": "Python 3",
   "language": "python",
   "name": "python3"
  },
  "language_info": {
   "codemirror_mode": {
    "name": "ipython",
    "version": 3
   },
   "file_extension": ".py",
   "mimetype": "text/x-python",
   "name": "python",
   "nbconvert_exporter": "python",
   "pygments_lexer": "ipython3",
   "version": "3.6.10"
  }
 },
 "nbformat": 4,
 "nbformat_minor": 2
}
